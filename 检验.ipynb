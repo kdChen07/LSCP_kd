{
  "nbformat": 4,
  "nbformat_minor": 0,
  "metadata": {
    "kernelspec": {
      "display_name": "Python 3",
      "language": "python",
      "name": "python3"
    },
    "language_info": {
      "codemirror_mode": {
        "name": "ipython",
        "version": 3
      },
      "file_extension": ".py",
      "mimetype": "text/x-python",
      "name": "python",
      "nbconvert_exporter": "python",
      "pygments_lexer": "ipython3",
      "version": "3.8.8"
    },
    "colab": {
      "name": "检验.ipynb",
      "provenance": [],
      "include_colab_link": true
    }
  },
  "cells": [
    {
      "cell_type": "markdown",
      "metadata": {
        "id": "view-in-github",
        "colab_type": "text"
      },
      "source": [
        "<a href=\"https://colab.research.google.com/github/kdChen07/progress-and-problems/blob/main/%E6%A3%80%E9%AA%8C.ipynb\" target=\"_parent\"><img src=\"https://colab.research.google.com/assets/colab-badge.svg\" alt=\"Open In Colab\"/></a>"
      ]
    },
    {
      "cell_type": "markdown",
      "metadata": {
        "id": "5bTIg9N-VFp_"
      },
      "source": [
        "# SFCA and RAAM script tests at Middle Layer Super Output Areas (MSOA) level using OSRM distance (30 miles threshold/exclude London)"
      ]
    },
    {
      "cell_type": "code",
      "metadata": {
        "colab": {
          "base_uri": "https://localhost:8080/"
        },
        "id": "BEMKcemqVND4",
        "outputId": "e28ca24b-977b-4731-f341-eb3eb84615d9"
      },
      "source": [
        "!pip install access\n",
        "!pip install logging\n",
        "!pip install geopandas\n",
        "!pip install mapclassify\n",
        "!pip install legendgram"
      ],
      "execution_count": null,
      "outputs": [
        {
          "output_type": "stream",
          "text": [
            "Collecting access\n",
            "  Downloading access-1.1.3-py3-none-any.whl (21 kB)\n",
            "Requirement already satisfied: numpy>=1.3 in /usr/local/lib/python3.7/dist-packages (from access) (1.19.5)\n",
            "Requirement already satisfied: pandas>=0.23.4 in /usr/local/lib/python3.7/dist-packages (from access) (1.1.5)\n",
            "Requirement already satisfied: python-dateutil>=2.7.3 in /usr/local/lib/python3.7/dist-packages (from pandas>=0.23.4->access) (2.8.1)\n",
            "Requirement already satisfied: pytz>=2017.2 in /usr/local/lib/python3.7/dist-packages (from pandas>=0.23.4->access) (2018.9)\n",
            "Requirement already satisfied: six>=1.5 in /usr/local/lib/python3.7/dist-packages (from python-dateutil>=2.7.3->pandas>=0.23.4->access) (1.15.0)\n",
            "Installing collected packages: access\n",
            "Successfully installed access-1.1.3\n",
            "Collecting logging\n",
            "  Downloading logging-0.4.9.6.tar.gz (96 kB)\n",
            "\u001b[K     |████████████████████████████████| 96 kB 3.5 MB/s \n",
            "\u001b[33mWARNING: Discarding https://files.pythonhosted.org/packages/93/4b/979db9e44be09f71e85c9c8cfc42f258adfb7d93ce01deed2788b2948919/logging-0.4.9.6.tar.gz#sha256=26f6b50773f085042d301085bd1bf5d9f3735704db9f37c1ce6d8b85c38f2417 (from https://pypi.org/simple/logging/). Command errored out with exit status 1: python setup.py egg_info Check the logs for full command output.\u001b[0m\n",
            "\u001b[31mERROR: Could not find a version that satisfies the requirement logging (from versions: 0.4.9.6)\u001b[0m\n",
            "\u001b[31mERROR: No matching distribution found for logging\u001b[0m\n",
            "\u001b[?25hCollecting geopandas\n",
            "  Downloading geopandas-0.9.0-py2.py3-none-any.whl (994 kB)\n",
            "\u001b[K     |████████████████████████████████| 994 kB 7.8 MB/s \n",
            "\u001b[?25hCollecting fiona>=1.8\n",
            "  Downloading Fiona-1.8.20-cp37-cp37m-manylinux1_x86_64.whl (15.4 MB)\n",
            "\u001b[K     |████████████████████████████████| 15.4 MB 36 kB/s \n",
            "\u001b[?25hRequirement already satisfied: shapely>=1.6 in /usr/local/lib/python3.7/dist-packages (from geopandas) (1.7.1)\n",
            "Collecting pyproj>=2.2.0\n",
            "  Downloading pyproj-3.1.0-cp37-cp37m-manylinux2010_x86_64.whl (6.6 MB)\n",
            "\u001b[K     |████████████████████████████████| 6.6 MB 47.7 MB/s \n",
            "\u001b[?25hRequirement already satisfied: pandas>=0.24.0 in /usr/local/lib/python3.7/dist-packages (from geopandas) (1.1.5)\n",
            "Collecting munch\n",
            "  Downloading munch-2.5.0-py2.py3-none-any.whl (10 kB)\n",
            "Requirement already satisfied: six>=1.7 in /usr/local/lib/python3.7/dist-packages (from fiona>=1.8->geopandas) (1.15.0)\n",
            "Collecting cligj>=0.5\n",
            "  Downloading cligj-0.7.2-py3-none-any.whl (7.1 kB)\n",
            "Requirement already satisfied: setuptools in /usr/local/lib/python3.7/dist-packages (from fiona>=1.8->geopandas) (57.2.0)\n",
            "Collecting click-plugins>=1.0\n",
            "  Downloading click_plugins-1.1.1-py2.py3-none-any.whl (7.5 kB)\n",
            "Requirement already satisfied: attrs>=17 in /usr/local/lib/python3.7/dist-packages (from fiona>=1.8->geopandas) (21.2.0)\n",
            "Requirement already satisfied: click>=4.0 in /usr/local/lib/python3.7/dist-packages (from fiona>=1.8->geopandas) (7.1.2)\n",
            "Requirement already satisfied: certifi in /usr/local/lib/python3.7/dist-packages (from fiona>=1.8->geopandas) (2021.5.30)\n",
            "Requirement already satisfied: python-dateutil>=2.7.3 in /usr/local/lib/python3.7/dist-packages (from pandas>=0.24.0->geopandas) (2.8.1)\n",
            "Requirement already satisfied: numpy>=1.15.4 in /usr/local/lib/python3.7/dist-packages (from pandas>=0.24.0->geopandas) (1.19.5)\n",
            "Requirement already satisfied: pytz>=2017.2 in /usr/local/lib/python3.7/dist-packages (from pandas>=0.24.0->geopandas) (2018.9)\n",
            "Installing collected packages: munch, cligj, click-plugins, pyproj, fiona, geopandas\n",
            "Successfully installed click-plugins-1.1.1 cligj-0.7.2 fiona-1.8.20 geopandas-0.9.0 munch-2.5.0 pyproj-3.1.0\n",
            "Collecting mapclassify\n",
            "  Downloading mapclassify-2.4.3-py3-none-any.whl (38 kB)\n",
            "Requirement already satisfied: networkx in /usr/local/lib/python3.7/dist-packages (from mapclassify) (2.5.1)\n",
            "Requirement already satisfied: pandas>=1.0 in /usr/local/lib/python3.7/dist-packages (from mapclassify) (1.1.5)\n",
            "Requirement already satisfied: numpy>=1.3 in /usr/local/lib/python3.7/dist-packages (from mapclassify) (1.19.5)\n",
            "Requirement already satisfied: scipy>=1.0 in /usr/local/lib/python3.7/dist-packages (from mapclassify) (1.4.1)\n",
            "Requirement already satisfied: scikit-learn in /usr/local/lib/python3.7/dist-packages (from mapclassify) (0.22.2.post1)\n",
            "Requirement already satisfied: pytz>=2017.2 in /usr/local/lib/python3.7/dist-packages (from pandas>=1.0->mapclassify) (2018.9)\n",
            "Requirement already satisfied: python-dateutil>=2.7.3 in /usr/local/lib/python3.7/dist-packages (from pandas>=1.0->mapclassify) (2.8.1)\n",
            "Requirement already satisfied: six>=1.5 in /usr/local/lib/python3.7/dist-packages (from python-dateutil>=2.7.3->pandas>=1.0->mapclassify) (1.15.0)\n",
            "Requirement already satisfied: decorator<5,>=4.3 in /usr/local/lib/python3.7/dist-packages (from networkx->mapclassify) (4.4.2)\n",
            "Requirement already satisfied: joblib>=0.11 in /usr/local/lib/python3.7/dist-packages (from scikit-learn->mapclassify) (1.0.1)\n",
            "Installing collected packages: mapclassify\n",
            "Successfully installed mapclassify-2.4.3\n",
            "Collecting legendgram\n",
            "  Downloading legendgram-0.0.3-py2.py3-none-any.whl (7.7 kB)\n",
            "Requirement already satisfied: palettable in /usr/local/lib/python3.7/dist-packages (from legendgram) (3.3.0)\n",
            "Requirement already satisfied: matplotlib in /usr/local/lib/python3.7/dist-packages (from legendgram) (3.2.2)\n",
            "Requirement already satisfied: numpy in /usr/local/lib/python3.7/dist-packages (from legendgram) (1.19.5)\n",
            "Requirement already satisfied: cycler>=0.10 in /usr/local/lib/python3.7/dist-packages (from matplotlib->legendgram) (0.10.0)\n",
            "Requirement already satisfied: pyparsing!=2.0.4,!=2.1.2,!=2.1.6,>=2.0.1 in /usr/local/lib/python3.7/dist-packages (from matplotlib->legendgram) (2.4.7)\n",
            "Requirement already satisfied: python-dateutil>=2.1 in /usr/local/lib/python3.7/dist-packages (from matplotlib->legendgram) (2.8.1)\n",
            "Requirement already satisfied: kiwisolver>=1.0.1 in /usr/local/lib/python3.7/dist-packages (from matplotlib->legendgram) (1.3.1)\n",
            "Requirement already satisfied: six in /usr/local/lib/python3.7/dist-packages (from cycler>=0.10->matplotlib->legendgram) (1.15.0)\n",
            "Installing collected packages: legendgram\n",
            "Successfully installed legendgram-0.0.3\n"
          ],
          "name": "stdout"
        }
      ]
    },
    {
      "cell_type": "code",
      "metadata": {
        "id": "NqSS85VbVFqA"
      },
      "source": [
        "from access import Access, weights, datasets\n",
        "import logging\n",
        "import pandas as pd\n",
        "import geopandas as gpd\n",
        "import matplotlib.pyplot as plt\n",
        "import mapclassify as mc\n",
        "from legendgram import legendgram\n",
        "import palettable.matplotlib as palmpl\n",
        "import seaborn as sns\n",
        "import numpy as np\n",
        "from scipy import stats"
      ],
      "execution_count": null,
      "outputs": []
    },
    {
      "cell_type": "code",
      "metadata": {
        "id": "aHLBnTc4VFqB"
      },
      "source": [
        "#pip install cartopy"
      ],
      "execution_count": null,
      "outputs": []
    },
    {
      "cell_type": "markdown",
      "metadata": {
        "id": "8URLvBWWVFqC"
      },
      "source": [
        "# Data import"
      ]
    },
    {
      "cell_type": "markdown",
      "metadata": {
        "id": "tTqEKUQGVFqC"
      },
      "source": [
        "## Get LA——MSOA code data"
      ]
    },
    {
      "cell_type": "code",
      "metadata": {
        "scrolled": true,
        "colab": {
          "base_uri": "https://localhost:8080/",
          "height": 419
        },
        "id": "zBOXw3VpVFqD",
        "outputId": "435e654e-1a74-4f1d-b7c0-055b1f81a3a1"
      },
      "source": [
        "LA_MSOA = pd.read_csv('https://raw.githubusercontent.com/LingruFeng/dissertation/main/data_raw/LA_MSOA_code.csv')\n",
        "LA_MSOA"
      ],
      "execution_count": null,
      "outputs": [
        {
          "output_type": "execute_result",
          "data": {
            "text/html": [
              "<div>\n",
              "<style scoped>\n",
              "    .dataframe tbody tr th:only-of-type {\n",
              "        vertical-align: middle;\n",
              "    }\n",
              "\n",
              "    .dataframe tbody tr th {\n",
              "        vertical-align: top;\n",
              "    }\n",
              "\n",
              "    .dataframe thead th {\n",
              "        text-align: right;\n",
              "    }\n",
              "</style>\n",
              "<table border=\"1\" class=\"dataframe\">\n",
              "  <thead>\n",
              "    <tr style=\"text-align: right;\">\n",
              "      <th></th>\n",
              "      <th>LA_Code_2020</th>\n",
              "      <th>LA_name_2020</th>\n",
              "      <th>MSOA Code</th>\n",
              "    </tr>\n",
              "  </thead>\n",
              "  <tbody>\n",
              "    <tr>\n",
              "      <th>0</th>\n",
              "      <td>E06000001</td>\n",
              "      <td>Hartlepool</td>\n",
              "      <td>E02002483</td>\n",
              "    </tr>\n",
              "    <tr>\n",
              "      <th>1</th>\n",
              "      <td>E06000001</td>\n",
              "      <td>Hartlepool</td>\n",
              "      <td>E02002484</td>\n",
              "    </tr>\n",
              "    <tr>\n",
              "      <th>2</th>\n",
              "      <td>E06000001</td>\n",
              "      <td>Hartlepool</td>\n",
              "      <td>E02002485</td>\n",
              "    </tr>\n",
              "    <tr>\n",
              "      <th>3</th>\n",
              "      <td>E06000001</td>\n",
              "      <td>Hartlepool</td>\n",
              "      <td>E02002487</td>\n",
              "    </tr>\n",
              "    <tr>\n",
              "      <th>4</th>\n",
              "      <td>E06000001</td>\n",
              "      <td>Hartlepool</td>\n",
              "      <td>E02002488</td>\n",
              "    </tr>\n",
              "    <tr>\n",
              "      <th>...</th>\n",
              "      <td>...</td>\n",
              "      <td>...</td>\n",
              "      <td>...</td>\n",
              "    </tr>\n",
              "    <tr>\n",
              "      <th>6786</th>\n",
              "      <td>E09000033</td>\n",
              "      <td>Westminster</td>\n",
              "      <td>E02000979</td>\n",
              "    </tr>\n",
              "    <tr>\n",
              "      <th>6787</th>\n",
              "      <td>E09000033</td>\n",
              "      <td>Westminster</td>\n",
              "      <td>E02000980</td>\n",
              "    </tr>\n",
              "    <tr>\n",
              "      <th>6788</th>\n",
              "      <td>E09000033</td>\n",
              "      <td>Westminster</td>\n",
              "      <td>E02000981</td>\n",
              "    </tr>\n",
              "    <tr>\n",
              "      <th>6789</th>\n",
              "      <td>E09000033</td>\n",
              "      <td>Westminster</td>\n",
              "      <td>E02000982</td>\n",
              "    </tr>\n",
              "    <tr>\n",
              "      <th>6790</th>\n",
              "      <td>E09000033</td>\n",
              "      <td>Westminster</td>\n",
              "      <td>E02000983</td>\n",
              "    </tr>\n",
              "  </tbody>\n",
              "</table>\n",
              "<p>6791 rows × 3 columns</p>\n",
              "</div>"
            ],
            "text/plain": [
              "     LA_Code_2020 LA_name_2020  MSOA Code\n",
              "0       E06000001   Hartlepool  E02002483\n",
              "1       E06000001   Hartlepool  E02002484\n",
              "2       E06000001   Hartlepool  E02002485\n",
              "3       E06000001   Hartlepool  E02002487\n",
              "4       E06000001   Hartlepool  E02002488\n",
              "...           ...          ...        ...\n",
              "6786    E09000033  Westminster  E02000979\n",
              "6787    E09000033  Westminster  E02000980\n",
              "6788    E09000033  Westminster  E02000981\n",
              "6789    E09000033  Westminster  E02000982\n",
              "6790    E09000033  Westminster  E02000983\n",
              "\n",
              "[6791 rows x 3 columns]"
            ]
          },
          "metadata": {
            "tags": []
          },
          "execution_count": 4
        }
      ]
    },
    {
      "cell_type": "markdown",
      "metadata": {
        "id": "6x2lBz1GVFqE"
      },
      "source": [
        "## Get MSOA boundary data"
      ]
    },
    {
      "cell_type": "code",
      "metadata": {
        "id": "_xynbx_uVFqE"
      },
      "source": [
        "MSOA=gpd.read_file('https://github.com/LingruFeng/dissertation/blob/main/data_github/England_basemap/MSOA_Boundary_with_population.gpkg?raw=true')\n",
        "MSOA = MSOA.to_crs('epsg:27700')"
      ],
      "execution_count": null,
      "outputs": []
    },
    {
      "cell_type": "markdown",
      "metadata": {
        "id": "qzxt6MmnVFqE"
      },
      "source": [
        "## Get the population weighted centroid of MSOA (demand points)"
      ]
    },
    {
      "cell_type": "code",
      "metadata": {
        "id": "A9kRmUokVFqE"
      },
      "source": [
        "MSOA_points=gpd.read_file('https://github.com/LingruFeng/dissertation/blob/main/data_github/England_basemap/MSOA_Population_Weighted_Centroids_with_population.gpkg?raw=true')\n",
        "MSOA_points = MSOA_points.to_crs('epsg:27700')"
      ],
      "execution_count": null,
      "outputs": []
    },
    {
      "cell_type": "markdown",
      "metadata": {
        "id": "rlRTWJsjVFqE"
      },
      "source": [
        "### Calculate population over 60"
      ]
    },
    {
      "cell_type": "code",
      "metadata": {
        "id": "JpJ7jnTlVFqF"
      },
      "source": [
        "MSOA_points['pop60+69'] = MSOA_points['pop60-69']"
      ],
      "execution_count": null,
      "outputs": []
    },
    {
      "cell_type": "code",
      "metadata": {
        "colab": {
          "base_uri": "https://localhost:8080/",
          "height": 419
        },
        "id": "6soxz1AWVFqG",
        "outputId": "674be83f-5d70-47d3-aa86-bfa79ec253db"
      },
      "source": [
        "MSOA_points"
      ],
      "execution_count": null,
      "outputs": [
        {
          "output_type": "execute_result",
          "data": {
            "text/html": [
              "<div>\n",
              "<style scoped>\n",
              "    .dataframe tbody tr th:only-of-type {\n",
              "        vertical-align: middle;\n",
              "    }\n",
              "\n",
              "    .dataframe tbody tr th {\n",
              "        vertical-align: top;\n",
              "    }\n",
              "\n",
              "    .dataframe thead th {\n",
              "        text-align: right;\n",
              "    }\n",
              "</style>\n",
              "<table border=\"1\" class=\"dataframe\">\n",
              "  <thead>\n",
              "    <tr style=\"text-align: right;\">\n",
              "      <th></th>\n",
              "      <th>objectid</th>\n",
              "      <th>msoa11cd</th>\n",
              "      <th>pop0-49</th>\n",
              "      <th>pop50-59</th>\n",
              "      <th>pop60-69</th>\n",
              "      <th>pop70-79</th>\n",
              "      <th>pop80-89</th>\n",
              "      <th>pop90+</th>\n",
              "      <th>total_pop</th>\n",
              "      <th>geometry</th>\n",
              "      <th>pop60+69</th>\n",
              "    </tr>\n",
              "  </thead>\n",
              "  <tbody>\n",
              "    <tr>\n",
              "      <th>0</th>\n",
              "      <td>1</td>\n",
              "      <td>E02002536</td>\n",
              "      <td>5688</td>\n",
              "      <td>1416</td>\n",
              "      <td>1132</td>\n",
              "      <td>891</td>\n",
              "      <td>540</td>\n",
              "      <td>104</td>\n",
              "      <td>9771</td>\n",
              "      <td>POINT (445582.345 524175.434)</td>\n",
              "      <td>1132</td>\n",
              "    </tr>\n",
              "    <tr>\n",
              "      <th>1</th>\n",
              "      <td>2</td>\n",
              "      <td>E02002537</td>\n",
              "      <td>5578</td>\n",
              "      <td>1251</td>\n",
              "      <td>836</td>\n",
              "      <td>545</td>\n",
              "      <td>386</td>\n",
              "      <td>45</td>\n",
              "      <td>8641</td>\n",
              "      <td>POINT (446777.151 524256.841)</td>\n",
              "      <td>836</td>\n",
              "    </tr>\n",
              "    <tr>\n",
              "      <th>2</th>\n",
              "      <td>3</td>\n",
              "      <td>E02002534</td>\n",
              "      <td>2547</td>\n",
              "      <td>824</td>\n",
              "      <td>863</td>\n",
              "      <td>967</td>\n",
              "      <td>407</td>\n",
              "      <td>85</td>\n",
              "      <td>5693</td>\n",
              "      <td>POINT (461356.929 515118.900)</td>\n",
              "      <td>863</td>\n",
              "    </tr>\n",
              "    <tr>\n",
              "      <th>3</th>\n",
              "      <td>4</td>\n",
              "      <td>E02002535</td>\n",
              "      <td>4959</td>\n",
              "      <td>1636</td>\n",
              "      <td>1385</td>\n",
              "      <td>870</td>\n",
              "      <td>416</td>\n",
              "      <td>70</td>\n",
              "      <td>9336</td>\n",
              "      <td>POINT (446117.027 525455.836)</td>\n",
              "      <td>1385</td>\n",
              "    </tr>\n",
              "    <tr>\n",
              "      <th>4</th>\n",
              "      <td>5</td>\n",
              "      <td>E02002532</td>\n",
              "      <td>3783</td>\n",
              "      <td>970</td>\n",
              "      <td>810</td>\n",
              "      <td>655</td>\n",
              "      <td>342</td>\n",
              "      <td>95</td>\n",
              "      <td>6655</td>\n",
              "      <td>POINT (461053.212 516175.379)</td>\n",
              "      <td>810</td>\n",
              "    </tr>\n",
              "    <tr>\n",
              "      <th>...</th>\n",
              "      <td>...</td>\n",
              "      <td>...</td>\n",
              "      <td>...</td>\n",
              "      <td>...</td>\n",
              "      <td>...</td>\n",
              "      <td>...</td>\n",
              "      <td>...</td>\n",
              "      <td>...</td>\n",
              "      <td>...</td>\n",
              "      <td>...</td>\n",
              "      <td>...</td>\n",
              "    </tr>\n",
              "    <tr>\n",
              "      <th>6786</th>\n",
              "      <td>6787</td>\n",
              "      <td>E02004669</td>\n",
              "      <td>3697</td>\n",
              "      <td>1171</td>\n",
              "      <td>1156</td>\n",
              "      <td>946</td>\n",
              "      <td>433</td>\n",
              "      <td>93</td>\n",
              "      <td>7496</td>\n",
              "      <td>POINT (393469.114 227500.260)</td>\n",
              "      <td>1156</td>\n",
              "    </tr>\n",
              "    <tr>\n",
              "      <th>6787</th>\n",
              "      <td>6788</td>\n",
              "      <td>E02006096</td>\n",
              "      <td>3893</td>\n",
              "      <td>1086</td>\n",
              "      <td>805</td>\n",
              "      <td>804</td>\n",
              "      <td>344</td>\n",
              "      <td>69</td>\n",
              "      <td>7001</td>\n",
              "      <td>POINT (332829.367 109219.836)</td>\n",
              "      <td>805</td>\n",
              "    </tr>\n",
              "    <tr>\n",
              "      <th>6788</th>\n",
              "      <td>6789</td>\n",
              "      <td>E02003088</td>\n",
              "      <td>4007</td>\n",
              "      <td>1257</td>\n",
              "      <td>1230</td>\n",
              "      <td>1194</td>\n",
              "      <td>577</td>\n",
              "      <td>179</td>\n",
              "      <td>8444</td>\n",
              "      <td>POINT (343276.340 158947.520)</td>\n",
              "      <td>1230</td>\n",
              "    </tr>\n",
              "    <tr>\n",
              "      <th>6789</th>\n",
              "      <td>6790</td>\n",
              "      <td>E02006070</td>\n",
              "      <td>5161</td>\n",
              "      <td>1163</td>\n",
              "      <td>906</td>\n",
              "      <td>670</td>\n",
              "      <td>316</td>\n",
              "      <td>75</td>\n",
              "      <td>8291</td>\n",
              "      <td>POINT (331710.269 136880.200)</td>\n",
              "      <td>906</td>\n",
              "    </tr>\n",
              "    <tr>\n",
              "      <th>6790</th>\n",
              "      <td>6791</td>\n",
              "      <td>E02006679</td>\n",
              "      <td>6429</td>\n",
              "      <td>1744</td>\n",
              "      <td>1408</td>\n",
              "      <td>1177</td>\n",
              "      <td>560</td>\n",
              "      <td>96</td>\n",
              "      <td>11414</td>\n",
              "      <td>POINT (390561.555 162786.953)</td>\n",
              "      <td>1408</td>\n",
              "    </tr>\n",
              "  </tbody>\n",
              "</table>\n",
              "<p>6791 rows × 11 columns</p>\n",
              "</div>"
            ],
            "text/plain": [
              "      objectid   msoa11cd  ...                       geometry  pop60+69\n",
              "0            1  E02002536  ...  POINT (445582.345 524175.434)      1132\n",
              "1            2  E02002537  ...  POINT (446777.151 524256.841)       836\n",
              "2            3  E02002534  ...  POINT (461356.929 515118.900)       863\n",
              "3            4  E02002535  ...  POINT (446117.027 525455.836)      1385\n",
              "4            5  E02002532  ...  POINT (461053.212 516175.379)       810\n",
              "...        ...        ...  ...                            ...       ...\n",
              "6786      6787  E02004669  ...  POINT (393469.114 227500.260)      1156\n",
              "6787      6788  E02006096  ...  POINT (332829.367 109219.836)       805\n",
              "6788      6789  E02003088  ...  POINT (343276.340 158947.520)      1230\n",
              "6789      6790  E02006070  ...  POINT (331710.269 136880.200)       906\n",
              "6790      6791  E02006679  ...  POINT (390561.555 162786.953)      1408\n",
              "\n",
              "[6791 rows x 11 columns]"
            ]
          },
          "metadata": {
            "tags": []
          },
          "execution_count": 8
        }
      ]
    },
    {
      "cell_type": "markdown",
      "metadata": {
        "id": "vf2__d2JVFqG"
      },
      "source": [
        "## read vaccination site point data (supply points)"
      ]
    },
    {
      "cell_type": "code",
      "metadata": {
        "id": "hTPU7KHkVFqH"
      },
      "source": [
        "site = gpd.read_file('https://github.com/LingruFeng/dissertation/blob/main/data_github/site_2_26_clean/vaccination_site.gpkg?raw=true')\n",
        "site = site.to_crs('epsg:27700')"
      ],
      "execution_count": null,
      "outputs": []
    },
    {
      "cell_type": "code",
      "metadata": {
        "id": "jTXgO3hQVFqH"
      },
      "source": [
        "import requests\n",
        "import json"
      ],
      "execution_count": null,
      "outputs": []
    },
    {
      "cell_type": "code",
      "metadata": {
        "id": "_J-JnyGtVFqI"
      },
      "source": [
        "MSOA_points = MSOA_points.to_crs('epsg:4326')\n",
        "MSOA_points['MSOA_lon'] = MSOA_points['geometry'].x\n",
        "MSOA_points['MSOA_lat'] = MSOA_points['geometry'].y"
      ],
      "execution_count": null,
      "outputs": []
    },
    {
      "cell_type": "code",
      "metadata": {
        "colab": {
          "base_uri": "https://localhost:8080/",
          "height": 419
        },
        "id": "cc5iFqciVFqI",
        "outputId": "2d81546c-54a1-4401-f633-7995a319a1f6"
      },
      "source": [
        "MSOA_points"
      ],
      "execution_count": null,
      "outputs": [
        {
          "output_type": "execute_result",
          "data": {
            "text/html": [
              "<div>\n",
              "<style scoped>\n",
              "    .dataframe tbody tr th:only-of-type {\n",
              "        vertical-align: middle;\n",
              "    }\n",
              "\n",
              "    .dataframe tbody tr th {\n",
              "        vertical-align: top;\n",
              "    }\n",
              "\n",
              "    .dataframe thead th {\n",
              "        text-align: right;\n",
              "    }\n",
              "</style>\n",
              "<table border=\"1\" class=\"dataframe\">\n",
              "  <thead>\n",
              "    <tr style=\"text-align: right;\">\n",
              "      <th></th>\n",
              "      <th>objectid</th>\n",
              "      <th>msoa11cd</th>\n",
              "      <th>pop0-49</th>\n",
              "      <th>pop50-59</th>\n",
              "      <th>pop60-69</th>\n",
              "      <th>pop70-79</th>\n",
              "      <th>pop80-89</th>\n",
              "      <th>pop90+</th>\n",
              "      <th>total_pop</th>\n",
              "      <th>geometry</th>\n",
              "      <th>pop60+69</th>\n",
              "      <th>MSOA_lon</th>\n",
              "      <th>MSOA_lat</th>\n",
              "    </tr>\n",
              "  </thead>\n",
              "  <tbody>\n",
              "    <tr>\n",
              "      <th>0</th>\n",
              "      <td>1</td>\n",
              "      <td>E02002536</td>\n",
              "      <td>5688</td>\n",
              "      <td>1416</td>\n",
              "      <td>1132</td>\n",
              "      <td>891</td>\n",
              "      <td>540</td>\n",
              "      <td>104</td>\n",
              "      <td>9771</td>\n",
              "      <td>POINT (-1.29577 54.61069)</td>\n",
              "      <td>1132</td>\n",
              "      <td>-1.295773</td>\n",
              "      <td>54.610691</td>\n",
              "    </tr>\n",
              "    <tr>\n",
              "      <th>1</th>\n",
              "      <td>2</td>\n",
              "      <td>E02002537</td>\n",
              "      <td>5578</td>\n",
              "      <td>1251</td>\n",
              "      <td>836</td>\n",
              "      <td>545</td>\n",
              "      <td>386</td>\n",
              "      <td>45</td>\n",
              "      <td>8641</td>\n",
              "      <td>POINT (-1.27726 54.61131)</td>\n",
              "      <td>836</td>\n",
              "      <td>-1.277263</td>\n",
              "      <td>54.611313</td>\n",
              "    </tr>\n",
              "    <tr>\n",
              "      <th>2</th>\n",
              "      <td>3</td>\n",
              "      <td>E02002534</td>\n",
              "      <td>2547</td>\n",
              "      <td>824</td>\n",
              "      <td>863</td>\n",
              "      <td>967</td>\n",
              "      <td>407</td>\n",
              "      <td>85</td>\n",
              "      <td>5693</td>\n",
              "      <td>POINT (-1.05346 54.52765)</td>\n",
              "      <td>863</td>\n",
              "      <td>-1.053458</td>\n",
              "      <td>54.527646</td>\n",
              "    </tr>\n",
              "    <tr>\n",
              "      <th>3</th>\n",
              "      <td>4</td>\n",
              "      <td>E02002535</td>\n",
              "      <td>4959</td>\n",
              "      <td>1636</td>\n",
              "      <td>1385</td>\n",
              "      <td>870</td>\n",
              "      <td>416</td>\n",
              "      <td>70</td>\n",
              "      <td>9336</td>\n",
              "      <td>POINT (-1.28729 54.62215)</td>\n",
              "      <td>1385</td>\n",
              "      <td>-1.287295</td>\n",
              "      <td>54.622148</td>\n",
              "    </tr>\n",
              "    <tr>\n",
              "      <th>4</th>\n",
              "      <td>5</td>\n",
              "      <td>E02002532</td>\n",
              "      <td>3783</td>\n",
              "      <td>970</td>\n",
              "      <td>810</td>\n",
              "      <td>655</td>\n",
              "      <td>342</td>\n",
              "      <td>95</td>\n",
              "      <td>6655</td>\n",
              "      <td>POINT (-1.05793 54.53718)</td>\n",
              "      <td>810</td>\n",
              "      <td>-1.057931</td>\n",
              "      <td>54.537176</td>\n",
              "    </tr>\n",
              "    <tr>\n",
              "      <th>...</th>\n",
              "      <td>...</td>\n",
              "      <td>...</td>\n",
              "      <td>...</td>\n",
              "      <td>...</td>\n",
              "      <td>...</td>\n",
              "      <td>...</td>\n",
              "      <td>...</td>\n",
              "      <td>...</td>\n",
              "      <td>...</td>\n",
              "      <td>...</td>\n",
              "      <td>...</td>\n",
              "      <td>...</td>\n",
              "      <td>...</td>\n",
              "    </tr>\n",
              "    <tr>\n",
              "      <th>6786</th>\n",
              "      <td>6787</td>\n",
              "      <td>E02004669</td>\n",
              "      <td>3697</td>\n",
              "      <td>1171</td>\n",
              "      <td>1156</td>\n",
              "      <td>946</td>\n",
              "      <td>433</td>\n",
              "      <td>93</td>\n",
              "      <td>7496</td>\n",
              "      <td>POINT (-2.09642 51.94596)</td>\n",
              "      <td>1156</td>\n",
              "      <td>-2.096424</td>\n",
              "      <td>51.945960</td>\n",
              "    </tr>\n",
              "    <tr>\n",
              "      <th>6787</th>\n",
              "      <td>6788</td>\n",
              "      <td>E02006096</td>\n",
              "      <td>3893</td>\n",
              "      <td>1086</td>\n",
              "      <td>805</td>\n",
              "      <td>804</td>\n",
              "      <td>344</td>\n",
              "      <td>69</td>\n",
              "      <td>7001</td>\n",
              "      <td>POINT (-2.95612 50.87855)</td>\n",
              "      <td>805</td>\n",
              "      <td>-2.956122</td>\n",
              "      <td>50.878552</td>\n",
              "    </tr>\n",
              "    <tr>\n",
              "      <th>6788</th>\n",
              "      <td>6789</td>\n",
              "      <td>E02003088</td>\n",
              "      <td>4007</td>\n",
              "      <td>1257</td>\n",
              "      <td>1230</td>\n",
              "      <td>1194</td>\n",
              "      <td>577</td>\n",
              "      <td>179</td>\n",
              "      <td>8444</td>\n",
              "      <td>POINT (-2.81548 51.32678)</td>\n",
              "      <td>1230</td>\n",
              "      <td>-2.815479</td>\n",
              "      <td>51.326784</td>\n",
              "    </tr>\n",
              "    <tr>\n",
              "      <th>6789</th>\n",
              "      <td>6790</td>\n",
              "      <td>E02006070</td>\n",
              "      <td>5161</td>\n",
              "      <td>1163</td>\n",
              "      <td>906</td>\n",
              "      <td>670</td>\n",
              "      <td>316</td>\n",
              "      <td>75</td>\n",
              "      <td>8291</td>\n",
              "      <td>POINT (-2.97724 51.12711)</td>\n",
              "      <td>906</td>\n",
              "      <td>-2.977239</td>\n",
              "      <td>51.127113</td>\n",
              "    </tr>\n",
              "    <tr>\n",
              "      <th>6790</th>\n",
              "      <td>6791</td>\n",
              "      <td>E02006679</td>\n",
              "      <td>6429</td>\n",
              "      <td>1744</td>\n",
              "      <td>1408</td>\n",
              "      <td>1177</td>\n",
              "      <td>560</td>\n",
              "      <td>96</td>\n",
              "      <td>11414</td>\n",
              "      <td>POINT (-2.13696 51.36407)</td>\n",
              "      <td>1408</td>\n",
              "      <td>-2.136956</td>\n",
              "      <td>51.364067</td>\n",
              "    </tr>\n",
              "  </tbody>\n",
              "</table>\n",
              "<p>6791 rows × 13 columns</p>\n",
              "</div>"
            ],
            "text/plain": [
              "      objectid   msoa11cd  pop0-49  ...  pop60+69  MSOA_lon   MSOA_lat\n",
              "0            1  E02002536     5688  ...      1132 -1.295773  54.610691\n",
              "1            2  E02002537     5578  ...       836 -1.277263  54.611313\n",
              "2            3  E02002534     2547  ...       863 -1.053458  54.527646\n",
              "3            4  E02002535     4959  ...      1385 -1.287295  54.622148\n",
              "4            5  E02002532     3783  ...       810 -1.057931  54.537176\n",
              "...        ...        ...      ...  ...       ...       ...        ...\n",
              "6786      6787  E02004669     3697  ...      1156 -2.096424  51.945960\n",
              "6787      6788  E02006096     3893  ...       805 -2.956122  50.878552\n",
              "6788      6789  E02003088     4007  ...      1230 -2.815479  51.326784\n",
              "6789      6790  E02006070     5161  ...       906 -2.977239  51.127113\n",
              "6790      6791  E02006679     6429  ...      1408 -2.136956  51.364067\n",
              "\n",
              "[6791 rows x 13 columns]"
            ]
          },
          "metadata": {
            "tags": []
          },
          "execution_count": 11
        }
      ]
    },
    {
      "cell_type": "code",
      "metadata": {
        "colab": {
          "base_uri": "https://localhost:8080/",
          "height": 419
        },
        "id": "Lh3LuqleVFqI",
        "outputId": "147acf85-8c78-4b74-88a0-e09c9bba2f6a"
      },
      "source": [
        "MSOA_points_df = MSOA_points[['msoa11cd','pop60-69','MSOA_lon','MSOA_lat']]\n",
        "MSOA_points_df"
      ],
      "execution_count": null,
      "outputs": [
        {
          "output_type": "execute_result",
          "data": {
            "text/html": [
              "<div>\n",
              "<style scoped>\n",
              "    .dataframe tbody tr th:only-of-type {\n",
              "        vertical-align: middle;\n",
              "    }\n",
              "\n",
              "    .dataframe tbody tr th {\n",
              "        vertical-align: top;\n",
              "    }\n",
              "\n",
              "    .dataframe thead th {\n",
              "        text-align: right;\n",
              "    }\n",
              "</style>\n",
              "<table border=\"1\" class=\"dataframe\">\n",
              "  <thead>\n",
              "    <tr style=\"text-align: right;\">\n",
              "      <th></th>\n",
              "      <th>msoa11cd</th>\n",
              "      <th>pop60-69</th>\n",
              "      <th>MSOA_lon</th>\n",
              "      <th>MSOA_lat</th>\n",
              "    </tr>\n",
              "  </thead>\n",
              "  <tbody>\n",
              "    <tr>\n",
              "      <th>0</th>\n",
              "      <td>E02002536</td>\n",
              "      <td>1132</td>\n",
              "      <td>-1.295773</td>\n",
              "      <td>54.610691</td>\n",
              "    </tr>\n",
              "    <tr>\n",
              "      <th>1</th>\n",
              "      <td>E02002537</td>\n",
              "      <td>836</td>\n",
              "      <td>-1.277263</td>\n",
              "      <td>54.611313</td>\n",
              "    </tr>\n",
              "    <tr>\n",
              "      <th>2</th>\n",
              "      <td>E02002534</td>\n",
              "      <td>863</td>\n",
              "      <td>-1.053458</td>\n",
              "      <td>54.527646</td>\n",
              "    </tr>\n",
              "    <tr>\n",
              "      <th>3</th>\n",
              "      <td>E02002535</td>\n",
              "      <td>1385</td>\n",
              "      <td>-1.287295</td>\n",
              "      <td>54.622148</td>\n",
              "    </tr>\n",
              "    <tr>\n",
              "      <th>4</th>\n",
              "      <td>E02002532</td>\n",
              "      <td>810</td>\n",
              "      <td>-1.057931</td>\n",
              "      <td>54.537176</td>\n",
              "    </tr>\n",
              "    <tr>\n",
              "      <th>...</th>\n",
              "      <td>...</td>\n",
              "      <td>...</td>\n",
              "      <td>...</td>\n",
              "      <td>...</td>\n",
              "    </tr>\n",
              "    <tr>\n",
              "      <th>6786</th>\n",
              "      <td>E02004669</td>\n",
              "      <td>1156</td>\n",
              "      <td>-2.096424</td>\n",
              "      <td>51.945960</td>\n",
              "    </tr>\n",
              "    <tr>\n",
              "      <th>6787</th>\n",
              "      <td>E02006096</td>\n",
              "      <td>805</td>\n",
              "      <td>-2.956122</td>\n",
              "      <td>50.878552</td>\n",
              "    </tr>\n",
              "    <tr>\n",
              "      <th>6788</th>\n",
              "      <td>E02003088</td>\n",
              "      <td>1230</td>\n",
              "      <td>-2.815479</td>\n",
              "      <td>51.326784</td>\n",
              "    </tr>\n",
              "    <tr>\n",
              "      <th>6789</th>\n",
              "      <td>E02006070</td>\n",
              "      <td>906</td>\n",
              "      <td>-2.977239</td>\n",
              "      <td>51.127113</td>\n",
              "    </tr>\n",
              "    <tr>\n",
              "      <th>6790</th>\n",
              "      <td>E02006679</td>\n",
              "      <td>1408</td>\n",
              "      <td>-2.136956</td>\n",
              "      <td>51.364067</td>\n",
              "    </tr>\n",
              "  </tbody>\n",
              "</table>\n",
              "<p>6791 rows × 4 columns</p>\n",
              "</div>"
            ],
            "text/plain": [
              "       msoa11cd  pop60-69  MSOA_lon   MSOA_lat\n",
              "0     E02002536      1132 -1.295773  54.610691\n",
              "1     E02002537       836 -1.277263  54.611313\n",
              "2     E02002534       863 -1.053458  54.527646\n",
              "3     E02002535      1385 -1.287295  54.622148\n",
              "4     E02002532       810 -1.057931  54.537176\n",
              "...         ...       ...       ...        ...\n",
              "6786  E02004669      1156 -2.096424  51.945960\n",
              "6787  E02006096       805 -2.956122  50.878552\n",
              "6788  E02003088      1230 -2.815479  51.326784\n",
              "6789  E02006070       906 -2.977239  51.127113\n",
              "6790  E02006679      1408 -2.136956  51.364067\n",
              "\n",
              "[6791 rows x 4 columns]"
            ]
          },
          "metadata": {
            "tags": []
          },
          "execution_count": 12
        }
      ]
    },
    {
      "cell_type": "code",
      "metadata": {
        "id": "wTiD9LIlVFqI"
      },
      "source": [
        "site = site.to_crs('epsg:4326')\n",
        "site['site_lon'] = site['geometry'].x\n",
        "site['site_lat'] = site['geometry'].y"
      ],
      "execution_count": null,
      "outputs": []
    },
    {
      "cell_type": "code",
      "metadata": {
        "colab": {
          "base_uri": "https://localhost:8080/",
          "height": 419
        },
        "id": "RAm-NjpRVFqI",
        "outputId": "87d1879d-5dac-4d54-b0f9-936efa9cff3b"
      },
      "source": [
        "site_df = site[['index','site_lon','site_lat']]\n",
        "site_df"
      ],
      "execution_count": null,
      "outputs": [
        {
          "output_type": "execute_result",
          "data": {
            "text/html": [
              "<div>\n",
              "<style scoped>\n",
              "    .dataframe tbody tr th:only-of-type {\n",
              "        vertical-align: middle;\n",
              "    }\n",
              "\n",
              "    .dataframe tbody tr th {\n",
              "        vertical-align: top;\n",
              "    }\n",
              "\n",
              "    .dataframe thead th {\n",
              "        text-align: right;\n",
              "    }\n",
              "</style>\n",
              "<table border=\"1\" class=\"dataframe\">\n",
              "  <thead>\n",
              "    <tr style=\"text-align: right;\">\n",
              "      <th></th>\n",
              "      <th>index</th>\n",
              "      <th>site_lon</th>\n",
              "      <th>site_lat</th>\n",
              "    </tr>\n",
              "  </thead>\n",
              "  <tbody>\n",
              "    <tr>\n",
              "      <th>0</th>\n",
              "      <td>0</td>\n",
              "      <td>-0.471211</td>\n",
              "      <td>52.128622</td>\n",
              "    </tr>\n",
              "    <tr>\n",
              "      <th>1</th>\n",
              "      <td>1</td>\n",
              "      <td>-0.474637</td>\n",
              "      <td>51.894793</td>\n",
              "    </tr>\n",
              "    <tr>\n",
              "      <th>2</th>\n",
              "      <td>2</td>\n",
              "      <td>-0.093771</td>\n",
              "      <td>51.468063</td>\n",
              "    </tr>\n",
              "    <tr>\n",
              "      <th>3</th>\n",
              "      <td>3</td>\n",
              "      <td>-0.093771</td>\n",
              "      <td>51.468063</td>\n",
              "    </tr>\n",
              "    <tr>\n",
              "      <th>4</th>\n",
              "      <td>4</td>\n",
              "      <td>-0.484367</td>\n",
              "      <td>51.891807</td>\n",
              "    </tr>\n",
              "    <tr>\n",
              "      <th>...</th>\n",
              "      <td>...</td>\n",
              "      <td>...</td>\n",
              "      <td>...</td>\n",
              "    </tr>\n",
              "    <tr>\n",
              "      <th>1595</th>\n",
              "      <td>1595</td>\n",
              "      <td>-4.865818</td>\n",
              "      <td>50.515949</td>\n",
              "    </tr>\n",
              "    <tr>\n",
              "      <th>1596</th>\n",
              "      <td>1596</td>\n",
              "      <td>-0.205835</td>\n",
              "      <td>51.433441</td>\n",
              "    </tr>\n",
              "    <tr>\n",
              "      <th>1597</th>\n",
              "      <td>1597</td>\n",
              "      <td>-0.173830</td>\n",
              "      <td>51.514861</td>\n",
              "    </tr>\n",
              "    <tr>\n",
              "      <th>1598</th>\n",
              "      <td>1598</td>\n",
              "      <td>-1.879170</td>\n",
              "      <td>50.716914</td>\n",
              "    </tr>\n",
              "    <tr>\n",
              "      <th>1599</th>\n",
              "      <td>1599</td>\n",
              "      <td>-3.084182</td>\n",
              "      <td>50.990497</td>\n",
              "    </tr>\n",
              "  </tbody>\n",
              "</table>\n",
              "<p>1600 rows × 3 columns</p>\n",
              "</div>"
            ],
            "text/plain": [
              "      index  site_lon   site_lat\n",
              "0         0 -0.471211  52.128622\n",
              "1         1 -0.474637  51.894793\n",
              "2         2 -0.093771  51.468063\n",
              "3         3 -0.093771  51.468063\n",
              "4         4 -0.484367  51.891807\n",
              "...     ...       ...        ...\n",
              "1595   1595 -4.865818  50.515949\n",
              "1596   1596 -0.205835  51.433441\n",
              "1597   1597 -0.173830  51.514861\n",
              "1598   1598 -1.879170  50.716914\n",
              "1599   1599 -3.084182  50.990497\n",
              "\n",
              "[1600 rows x 3 columns]"
            ]
          },
          "metadata": {
            "tags": []
          },
          "execution_count": 14
        }
      ]
    },
    {
      "cell_type": "code",
      "metadata": {
        "colab": {
          "base_uri": "https://localhost:8080/",
          "height": 419
        },
        "id": "RmrCj1Z8VFqJ",
        "outputId": "ddcefec1-2d0d-4bfb-f191-6692d9a0df98"
      },
      "source": [
        "site"
      ],
      "execution_count": null,
      "outputs": [
        {
          "output_type": "execute_result",
          "data": {
            "text/html": [
              "<div>\n",
              "<style scoped>\n",
              "    .dataframe tbody tr th:only-of-type {\n",
              "        vertical-align: middle;\n",
              "    }\n",
              "\n",
              "    .dataframe tbody tr th {\n",
              "        vertical-align: top;\n",
              "    }\n",
              "\n",
              "    .dataframe thead th {\n",
              "        text-align: right;\n",
              "    }\n",
              "</style>\n",
              "<table border=\"1\" class=\"dataframe\">\n",
              "  <thead>\n",
              "    <tr style=\"text-align: right;\">\n",
              "      <th></th>\n",
              "      <th>index</th>\n",
              "      <th>supply_value</th>\n",
              "      <th>geometry</th>\n",
              "      <th>site_lon</th>\n",
              "      <th>site_lat</th>\n",
              "    </tr>\n",
              "  </thead>\n",
              "  <tbody>\n",
              "    <tr>\n",
              "      <th>0</th>\n",
              "      <td>0</td>\n",
              "      <td>1</td>\n",
              "      <td>POINT (-0.47121 52.12862)</td>\n",
              "      <td>-0.471211</td>\n",
              "      <td>52.128622</td>\n",
              "    </tr>\n",
              "    <tr>\n",
              "      <th>1</th>\n",
              "      <td>1</td>\n",
              "      <td>1</td>\n",
              "      <td>POINT (-0.47464 51.89479)</td>\n",
              "      <td>-0.474637</td>\n",
              "      <td>51.894793</td>\n",
              "    </tr>\n",
              "    <tr>\n",
              "      <th>2</th>\n",
              "      <td>2</td>\n",
              "      <td>1</td>\n",
              "      <td>POINT (-0.09377 51.46806)</td>\n",
              "      <td>-0.093771</td>\n",
              "      <td>51.468063</td>\n",
              "    </tr>\n",
              "    <tr>\n",
              "      <th>3</th>\n",
              "      <td>3</td>\n",
              "      <td>1</td>\n",
              "      <td>POINT (-0.09377 51.46806)</td>\n",
              "      <td>-0.093771</td>\n",
              "      <td>51.468063</td>\n",
              "    </tr>\n",
              "    <tr>\n",
              "      <th>4</th>\n",
              "      <td>4</td>\n",
              "      <td>1</td>\n",
              "      <td>POINT (-0.48437 51.89181)</td>\n",
              "      <td>-0.484367</td>\n",
              "      <td>51.891807</td>\n",
              "    </tr>\n",
              "    <tr>\n",
              "      <th>...</th>\n",
              "      <td>...</td>\n",
              "      <td>...</td>\n",
              "      <td>...</td>\n",
              "      <td>...</td>\n",
              "      <td>...</td>\n",
              "    </tr>\n",
              "    <tr>\n",
              "      <th>1595</th>\n",
              "      <td>1595</td>\n",
              "      <td>1</td>\n",
              "      <td>POINT (-4.86582 50.51595)</td>\n",
              "      <td>-4.865818</td>\n",
              "      <td>50.515949</td>\n",
              "    </tr>\n",
              "    <tr>\n",
              "      <th>1596</th>\n",
              "      <td>1596</td>\n",
              "      <td>1</td>\n",
              "      <td>POINT (-0.20584 51.43344)</td>\n",
              "      <td>-0.205835</td>\n",
              "      <td>51.433441</td>\n",
              "    </tr>\n",
              "    <tr>\n",
              "      <th>1597</th>\n",
              "      <td>1597</td>\n",
              "      <td>1</td>\n",
              "      <td>POINT (-0.17383 51.51486)</td>\n",
              "      <td>-0.173830</td>\n",
              "      <td>51.514861</td>\n",
              "    </tr>\n",
              "    <tr>\n",
              "      <th>1598</th>\n",
              "      <td>1598</td>\n",
              "      <td>1</td>\n",
              "      <td>POINT (-1.87917 50.71691)</td>\n",
              "      <td>-1.879170</td>\n",
              "      <td>50.716914</td>\n",
              "    </tr>\n",
              "    <tr>\n",
              "      <th>1599</th>\n",
              "      <td>1599</td>\n",
              "      <td>1</td>\n",
              "      <td>POINT (-3.08418 50.99050)</td>\n",
              "      <td>-3.084182</td>\n",
              "      <td>50.990497</td>\n",
              "    </tr>\n",
              "  </tbody>\n",
              "</table>\n",
              "<p>1600 rows × 5 columns</p>\n",
              "</div>"
            ],
            "text/plain": [
              "      index  supply_value                   geometry  site_lon   site_lat\n",
              "0         0             1  POINT (-0.47121 52.12862) -0.471211  52.128622\n",
              "1         1             1  POINT (-0.47464 51.89479) -0.474637  51.894793\n",
              "2         2             1  POINT (-0.09377 51.46806) -0.093771  51.468063\n",
              "3         3             1  POINT (-0.09377 51.46806) -0.093771  51.468063\n",
              "4         4             1  POINT (-0.48437 51.89181) -0.484367  51.891807\n",
              "...     ...           ...                        ...       ...        ...\n",
              "1595   1595             1  POINT (-4.86582 50.51595) -4.865818  50.515949\n",
              "1596   1596             1  POINT (-0.20584 51.43344) -0.205835  51.433441\n",
              "1597   1597             1  POINT (-0.17383 51.51486) -0.173830  51.514861\n",
              "1598   1598             1  POINT (-1.87917 50.71691) -1.879170  50.716914\n",
              "1599   1599             1  POINT (-3.08418 50.99050) -3.084182  50.990497\n",
              "\n",
              "[1600 rows x 5 columns]"
            ]
          },
          "metadata": {
            "tags": []
          },
          "execution_count": 15
        }
      ]
    },
    {
      "cell_type": "code",
      "metadata": {
        "id": "Alf88HVtVFqJ"
      },
      "source": [
        "distance = Access(demand_df = MSOA_points,\n",
        "           demand_index='msoa11cd',\n",
        "           demand_value='pop60-69',\n",
        "           supply_df= site,\n",
        "           supply_index= 'index',\n",
        "           supply_value=['supply_value']\n",
        "                 )\n",
        "distance.demand_df = distance.demand_df.to_crs('epsg:27700')\n",
        "distance.supply_df = distance.supply_df.to_crs('epsg:27700')"
      ],
      "execution_count": null,
      "outputs": []
    },
    {
      "cell_type": "code",
      "metadata": {
        "id": "bMwHMid9VFqK"
      },
      "source": [
        "distance.create_euclidean_distance(threshold = 48280.32)\n",
        "distance.cost_df"
      ],
      "execution_count": null,
      "outputs": []
    },
    {
      "cell_type": "markdown",
      "metadata": {
        "id": "a_Ta6uMGVFqK"
      },
      "source": [
        "# Read in the driving distance from the point of demand to the point of supply as cost (Generated by driving_cost_calculation_OSRM.ipynb in data_raw folder)"
      ]
    },
    {
      "cell_type": "code",
      "metadata": {
        "colab": {
          "base_uri": "https://localhost:8080/",
          "height": 419
        },
        "id": "saNO-9bPVFqK",
        "outputId": "d3f1899b-f1b1-49cf-e3f0-9fc48f51f10d"
      },
      "source": [
        "distance_cost_df = pd.read_csv('distance10000.csv') \n",
        "distance_cost_df = distance_cost_df.rename(columns={\"Distance in meter\": \"cost\", \"origin_id\": \"origin\", \"destination_id\": \"dest\"})\n",
        "distance_cost_df"
      ],
      "execution_count": null,
      "outputs": [
        {
          "output_type": "execute_result",
          "data": {
            "text/html": [
              "<div>\n",
              "<style scoped>\n",
              "    .dataframe tbody tr th:only-of-type {\n",
              "        vertical-align: middle;\n",
              "    }\n",
              "\n",
              "    .dataframe tbody tr th {\n",
              "        vertical-align: top;\n",
              "    }\n",
              "\n",
              "    .dataframe thead th {\n",
              "        text-align: right;\n",
              "    }\n",
              "</style>\n",
              "<table border=\"1\" class=\"dataframe\">\n",
              "  <thead>\n",
              "    <tr style=\"text-align: right;\">\n",
              "      <th></th>\n",
              "      <th>cost</th>\n",
              "      <th>origin</th>\n",
              "      <th>dest</th>\n",
              "    </tr>\n",
              "  </thead>\n",
              "  <tbody>\n",
              "    <tr>\n",
              "      <th>0</th>\n",
              "      <td>6712.7</td>\n",
              "      <td>E02002536</td>\n",
              "      <td>122</td>\n",
              "    </tr>\n",
              "    <tr>\n",
              "      <th>1</th>\n",
              "      <td>13881.2</td>\n",
              "      <td>E02002536</td>\n",
              "      <td>127</td>\n",
              "    </tr>\n",
              "    <tr>\n",
              "      <th>2</th>\n",
              "      <td>13631.4</td>\n",
              "      <td>E02002536</td>\n",
              "      <td>137</td>\n",
              "    </tr>\n",
              "    <tr>\n",
              "      <th>3</th>\n",
              "      <td>12395.5</td>\n",
              "      <td>E02002536</td>\n",
              "      <td>836</td>\n",
              "    </tr>\n",
              "    <tr>\n",
              "      <th>4</th>\n",
              "      <td>12641.2</td>\n",
              "      <td>E02002536</td>\n",
              "      <td>838</td>\n",
              "    </tr>\n",
              "    <tr>\n",
              "      <th>...</th>\n",
              "      <td>...</td>\n",
              "      <td>...</td>\n",
              "      <td>...</td>\n",
              "    </tr>\n",
              "    <tr>\n",
              "      <th>574146</th>\n",
              "      <td>4303.6</td>\n",
              "      <td>E02006880</td>\n",
              "      <td>18563</td>\n",
              "    </tr>\n",
              "    <tr>\n",
              "      <th>574147</th>\n",
              "      <td>1405.0</td>\n",
              "      <td>E02006880</td>\n",
              "      <td>18686</td>\n",
              "    </tr>\n",
              "    <tr>\n",
              "      <th>574148</th>\n",
              "      <td>19443.3</td>\n",
              "      <td>E02006880</td>\n",
              "      <td>18900</td>\n",
              "    </tr>\n",
              "    <tr>\n",
              "      <th>574149</th>\n",
              "      <td>6235.8</td>\n",
              "      <td>E02006880</td>\n",
              "      <td>19549</td>\n",
              "    </tr>\n",
              "    <tr>\n",
              "      <th>574150</th>\n",
              "      <td>7014.5</td>\n",
              "      <td>E02006880</td>\n",
              "      <td>19886</td>\n",
              "    </tr>\n",
              "  </tbody>\n",
              "</table>\n",
              "<p>574151 rows × 3 columns</p>\n",
              "</div>"
            ],
            "text/plain": [
              "           cost     origin   dest\n",
              "0        6712.7  E02002536    122\n",
              "1       13881.2  E02002536    127\n",
              "2       13631.4  E02002536    137\n",
              "3       12395.5  E02002536    836\n",
              "4       12641.2  E02002536    838\n",
              "...         ...        ...    ...\n",
              "574146   4303.6  E02006880  18563\n",
              "574147   1405.0  E02006880  18686\n",
              "574148  19443.3  E02006880  18900\n",
              "574149   6235.8  E02006880  19549\n",
              "574150   7014.5  E02006880  19886\n",
              "\n",
              "[574151 rows x 3 columns]"
            ]
          },
          "metadata": {
            "tags": []
          },
          "execution_count": 19
        }
      ]
    },
    {
      "cell_type": "markdown",
      "metadata": {
        "id": "nmldJHa3VFqK"
      },
      "source": [
        "# Calculate the MSOAs that have no vaccination service within 10 miles distance and plot the map"
      ]
    },
    {
      "cell_type": "code",
      "metadata": {
        "id": "3qL6lPyiVFqL"
      },
      "source": [
        "# Get demand MSOAs that have at least one vaccination site within 10 miles of distance\n",
        "distance_cost_df_test = distance_cost_df.loc[distance_cost_df['cost']<16093.44]\n",
        "distance_cost_df_test\n",
        "\n",
        "a = pd.unique(distance_cost_df_test['origin'])\n",
        "\n",
        "# Set 'MSOA_with_supply' field True if a place has at least one vaccination site within 10 miles of distance, otherwise False.\n",
        "b = pd.DataFrame()\n",
        "b['MSOA'] = a\n",
        "b['MSOA_with_supply'] = True\n",
        "\n",
        "MSOA_with_supply = pd.merge(left = MSOA,right = b, how='left', left_on='MSOA11CD', right_on='MSOA')\n",
        "MSOA_with_supply=MSOA_with_supply.fillna(False)"
      ],
      "execution_count": null,
      "outputs": []
    },
    {
      "cell_type": "markdown",
      "metadata": {
        "id": "U4j_lZPwVFqL"
      },
      "source": [
        "### Count the number of MSOAs that are lack of vaccination service"
      ]
    },
    {
      "cell_type": "code",
      "metadata": {
        "colab": {
          "base_uri": "https://localhost:8080/"
        },
        "id": "qQ631iINVFqM",
        "outputId": "e981918e-e299-4d39-8788-95e6d1564f9f"
      },
      "source": [
        "m = MSOA_with_supply[MSOA_with_supply['MSOA_with_supply']==False]\n",
        "print('There are',m['MSOA11CD'].count(),'MSOAs that are lack of vaccination service setting 10 miles as the vaccination service radius threshold.')"
      ],
      "execution_count": null,
      "outputs": [
        {
          "output_type": "stream",
          "text": [
            "There are 3 MSOAs that are lack of vaccination service setting 10 miles as the vaccination service radius threshold.\n"
          ],
          "name": "stdout"
        }
      ]
    },
    {
      "cell_type": "markdown",
      "metadata": {
        "id": "20sLsywRVFqN"
      },
      "source": [
        "### Plot the regions that are lack of service"
      ]
    },
    {
      "cell_type": "code",
      "metadata": {
        "id": "KN1RxKX8VFqN"
      },
      "source": [
        "# Get the boundary of England\n",
        "MSOA_with_supply['dissolve']=1\n",
        "MSOA_outline = MSOA_with_supply.dissolve(by='dissolve')"
      ],
      "execution_count": null,
      "outputs": []
    },
    {
      "cell_type": "code",
      "metadata": {
        "colab": {
          "base_uri": "https://localhost:8080/",
          "height": 614
        },
        "id": "erVrqIkKVFqN",
        "outputId": "5c3f9baa-b13e-4994-f721-7b4f431f8bb0"
      },
      "source": [
        "# Plot the map\n",
        "f,ax = plt.subplots(figsize=(10,10))\n",
        "m.plot(figsize = (10,10),ax=ax)\n",
        "MSOA_outline.plot(edgecolor=(0.8, 0, 0,0.8), facecolor='none', linewidth=1,ax=ax)\n",
        "ax.axis('off')\n",
        "ax.set_title('MSOAs Lack of Vaccination Service', fontdict={'fontsize':'20', 'fontweight':'3'})"
      ],
      "execution_count": null,
      "outputs": [
        {
          "output_type": "execute_result",
          "data": {
            "text/plain": [
              "Text(0.5, 1.0, 'MSOAs Lack of Vaccination Service')"
            ]
          },
          "metadata": {
            "tags": []
          },
          "execution_count": 23
        },
        {
          "output_type": "display_data",
          "data": {
            "image/png": "[encoded data removed]",
            "text/plain": [
              "<Figure size 720x720 with 1 Axes>"
            ]
          },
          "metadata": {
            "tags": [],
            "needs_background": "light"
          }
        }
      ]
    },
    {
      "cell_type": "markdown",
      "metadata": {
        "id": "xCFTUnk4VFqN"
      },
      "source": [
        "# Create a dataframe for the accessibility calculation using the Driving distance from the point of demand to the point of supply as cost"
      ]
    },
    {
      "cell_type": "code",
      "metadata": {
        "id": "Fg8axwIXVFqO"
      },
      "source": [
        "fca = access(demand_df = MSOA_points,\n",
        "           demand_index='msoa11cd',\n",
        "           demand_value='pop60+69',\n",
        "           supply_df= site,\n",
        "           supply_index= 'index',\n",
        "           supply_value=['supply_value'],\n",
        "           cost_df              = distance_cost_df,\n",
        "           cost_origin          = 'origin',\n",
        "           cost_dest            = 'dest',\n",
        "           cost_name            = 'cost',\n",
        "           neighbor_cost_df     = distance_cost_df,\n",
        "           neighbor_cost_origin = 'origin',\n",
        "           neighbor_cost_dest   = 'dest',\n",
        "           neighbor_cost_name   = 'cost')"
      ],
      "execution_count": null,
      "outputs": []
    },
    {
      "cell_type": "markdown",
      "metadata": {
        "id": "9ahUz1cYVFqO"
      },
      "source": [
        "### 2SFCA"
      ]
    },
    {
      "cell_type": "code",
      "metadata": {
        "id": "S2Nha5CxVFqO"
      },
      "source": [
        "# Using 2SFCA method, 16093.44 meters (10 miles) is used as service threshold radius to calculate the accessibility\n",
        "fca.two_stage_fca(name = \"2sfca_10\",max_cost = 16093.44)\n",
        "fca.two_stage_fca(name = \"2sfca_15\",max_cost = 24140.16)\n",
        "fca.two_stage_fca(name = \"2sfca_20\",max_cost = 32186.88)\n",
        "fca.two_stage_fca(name = \"2sfca_25\",max_cost = 40233.60)\n",
        "fca.two_stage_fca(name = \"2sfca_30\",max_cost = 48280.32)"
      ],
      "execution_count": null,
      "outputs": []
    },
    {
      "cell_type": "markdown",
      "metadata": {
        "id": "1FsUaKZ3VFqO"
      },
      "source": [
        "### E2SFCA"
      ]
    },
    {
      "cell_type": "markdown",
      "metadata": {
        "id": "5L68d_iYVFqP"
      },
      "source": [
        "#### Set distance decay weight using gaussian function."
      ]
    },
    {
      "cell_type": "code",
      "metadata": {
        "id": "DlQki1dQVFqQ"
      },
      "source": [
        "# Define a gaussian weight. Here, set the σ to be 5364.48 (meters), which is one third of the threshold, such that we'll be at the 3σ level at 16093.44 meters.\n",
        "# 用3σ原理解释参数的选择 (According to the the empirical rule, also referred to as the three-sigma rule,\n",
        "# for a normal distribution, almost all observed data will fall within three standard deviations.因此当距离接近threshold时，weight趋近于0)\n",
        "gaussian_10 = weights.gaussian(sigma =5364.48)\n",
        "gaussian_15 = weights.gaussian(sigma =8064.72)\n",
        "gaussian_20 = weights.gaussian(sigma =10728.96)\n",
        "gaussian_25 = weights.gaussian(sigma =13411.20)\n",
        "gaussian_30 = weights.gaussian(sigma =16093.44)\n",
        "\n",
        "fca.enhanced_two_stage_fca(name = \"E2sfca_10\", weight_fn = gaussian_10)\n",
        "fca.enhanced_two_stage_fca(name = \"E2sfca_15\", weight_fn = gaussian_15)\n",
        "fca.enhanced_two_stage_fca(name = \"E2sfca_20\", weight_fn = gaussian_20)\n",
        "fca.enhanced_two_stage_fca(name = \"E2sfca_25\", weight_fn = gaussian_25)\n",
        "fca.enhanced_two_stage_fca(name = \"E2sfca_30\", weight_fn = gaussian_30)"
      ],
      "execution_count": null,
      "outputs": []
    },
    {
      "cell_type": "markdown",
      "metadata": {
        "id": "ihEXPVO-VFqQ"
      },
      "source": [
        "### 3SFCA"
      ]
    },
    {
      "cell_type": "code",
      "metadata": {
        "id": "0--AqWjIVFqQ"
      },
      "source": [
        "fca.three_stage_fca(name = \"3sfca_10\", weight_fn = gaussian_10)"
      ],
      "execution_count": null,
      "outputs": []
    },
    {
      "cell_type": "code",
      "metadata": {
        "id": "ELW7BISpVFqR"
      },
      "source": [
        "fca.three_stage_fca(name = \"3sfca_15\", weight_fn = gaussian_15)"
      ],
      "execution_count": null,
      "outputs": []
    },
    {
      "cell_type": "code",
      "metadata": {
        "id": "i0Dpn5rbVFqR"
      },
      "source": [
        "fca.three_stage_fca(name = \"3sfca_20\", weight_fn = gaussian_20)"
      ],
      "execution_count": null,
      "outputs": []
    },
    {
      "cell_type": "code",
      "metadata": {
        "id": "AbeDn9peVFqR"
      },
      "source": [
        "fca.three_stage_fca(name = \"3sfca_25\", weight_fn = gaussian_25)"
      ],
      "execution_count": null,
      "outputs": []
    },
    {
      "cell_type": "code",
      "metadata": {
        "id": "1ST3CmJDVFqR"
      },
      "source": [
        "fca.three_stage_fca(name = \"3sfca_30\", weight_fn = gaussian_30)"
      ],
      "execution_count": null,
      "outputs": []
    },
    {
      "cell_type": "markdown",
      "metadata": {
        "id": "iQFhclTmVFqR"
      },
      "source": [
        "## See the result"
      ]
    },
    {
      "cell_type": "code",
      "metadata": {
        "id": "JJtguck-VFqS"
      },
      "source": [
        "fca.access_df.head()"
      ],
      "execution_count": null,
      "outputs": []
    },
    {
      "cell_type": "markdown",
      "metadata": {
        "id": "vaohmSV4VFqS"
      },
      "source": [
        "# Show the accessibility/vaccination rate result on map"
      ]
    },
    {
      "cell_type": "code",
      "metadata": {
        "id": "NHH1W6wjVFqS"
      },
      "source": [
        "MSOA_fca = pd.merge(left=MSOA, right=fca.access_df, how='left', left_on='MSOA11CD', right_on='msoa11cd')\n",
        "MSOA_fca=MSOA_fca.fillna(0)\n",
        "MSOA_fca = MSOA_fca.rename(columns={\"2sfca_10_supply_value\": \"2sfca_10\", \"2sfca_15_supply_value\": \"2sfca_15\", \n",
        "                                    \"2sfca_20_supply_value\": \"2sfca_20\", \"2sfca_25_supply_value\": \"2sfca_25\",\"2sfca_30_supply_value\": \"2sfca_30\",\n",
        "                                   \"E2sfca_10_supply_value\": \"E2sfca_10\", \"E2sfca_15_supply_value\": \"E2sfca_15\", \n",
        "                                    \"E2sfca_20_supply_value\": \"E2sfca_20\", \"E2sfca_25_supply_value\": \"E2sfca_25\",\"E2sfca_30_supply_value\": \"E2sfca_30\",\n",
        "                                   \"3sfca_10_supply_value\": \"3sfca_10\", \"3sfca_15_supply_value\": \"3sfca_15\", \n",
        "                                    \"3sfca_20_supply_value\": \"3sfca_20\", \"3sfca_25_supply_value\": \"3sfca_25\",\"3sfca_30_supply_value\": \"3sfca_30\"})"
      ],
      "execution_count": null,
      "outputs": []
    },
    {
      "cell_type": "markdown",
      "metadata": {
        "id": "48kM6qqwVFqS"
      },
      "source": [
        "## Add vaccination population data and calculate vaccination rate"
      ]
    },
    {
      "cell_type": "code",
      "metadata": {
        "id": "sI2jJ_fIVFqS"
      },
      "source": [
        "# Read the vaccination population data\n",
        "url = 'https://raw.githubusercontent.com/LingruFeng/dissertation/main/data_raw/vaccination_number_2020_12_8_2021_3_7.csv'\n",
        "vaccination_pop = pd.read_csv(url)"
      ],
      "execution_count": null,
      "outputs": []
    },
    {
      "cell_type": "code",
      "metadata": {
        "id": "jf7GakI2VFqS"
      },
      "source": [
        "vaccination_pop['60-69'] = vaccination_pop['over60_64'] + vaccination_pop['over65_69']\n",
        "\n",
        "# merge the population data\n",
        "MSOA_fca = pd.merge(left = MSOA_fca, right=vaccination_pop, how='left', left_on='MSOA11CD', right_on='MSOA_code')\n",
        "\n",
        "# merge the LA information\n",
        "MSOA_fca = pd.merge(left = MSOA_fca, right=LA_MSOA, how='left', left_on='MSOA11CD', right_on='MSOA Code')"
      ],
      "execution_count": null,
      "outputs": []
    },
    {
      "cell_type": "code",
      "metadata": {
        "id": "6niHqUBIVFqT"
      },
      "source": [
        "MSOA_fca['vaccination_percentage_for60+69'] = MSOA_fca['60-69']/MSOA_fca['pop60+69']\n",
        "\n",
        "# Set vaccination rate greater than 1 to 1\n",
        "MSOA_fca['vaccination_rate_60+69']= np.where(MSOA_fca['vaccination_percentage_for60+69']>1, 1, MSOA_fca['vaccination_percentage_for60+69'])"
      ],
      "execution_count": null,
      "outputs": []
    },
    {
      "cell_type": "markdown",
      "metadata": {
        "id": "gruZ32AcVFqU"
      },
      "source": [
        "## Exclude London regions"
      ]
    },
    {
      "cell_type": "code",
      "metadata": {
        "id": "_VH66J5yVFqU"
      },
      "source": [
        "# Get the London boundary map for more conplex map plot \n",
        "# Read some London Boundary data for map show\n",
        "# An intricate map of London's borders\n",
        "borough = gpd.read_file('https://github.com/LingruFeng/0006_DSSS_assessment/blob/main/London_Boroughs.gpkg?raw=true')\n",
        "borough = borough.to_crs('epsg:27700')\n",
        "London = pd.merge(left = MSOA_fca, right=borough[['gss_code','objectid']],how = 'left', left_on='LA_Code_2020', right_on='gss_code')\n",
        "London = London.dropna()\n",
        "London['London'] = 'London'\n",
        "London_boundary = London.dissolve(by='London')\n",
        "\n",
        "# A rough map of the borders of London\n",
        "inner=gpd.read_file('https://github.com/LingruFeng/i2p_assessment3/blob/main/inner_outer.gpkg?raw=true')\n",
        "inner = inner.to_crs('epsg:27700')\n",
        "inner = inner.dissolve(by='Source')"
      ],
      "execution_count": null,
      "outputs": []
    },
    {
      "cell_type": "code",
      "metadata": {
        "id": "FbfHEdKuVFqV"
      },
      "source": [
        "London"
      ],
      "execution_count": null,
      "outputs": []
    },
    {
      "cell_type": "code",
      "metadata": {
        "id": "YU1WIsOzVFqV"
      },
      "source": [
        "test = pd.merge(left = MSOA_fca, right=borough[['gss_code','objectid']],how = 'left', left_on='LA_Code_2020', right_on='gss_code')\n",
        "MSOA_fca =test[pd.isnull(test).any(axis=1)]\n",
        "MSOA_fca"
      ],
      "execution_count": null,
      "outputs": []
    },
    {
      "cell_type": "markdown",
      "metadata": {
        "id": "-m-luz8LVFqV"
      },
      "source": [
        "## Use min-max normalization to normalize the accessibility score"
      ]
    },
    {
      "cell_type": "code",
      "metadata": {
        "id": "q1vxwJKQVFqV"
      },
      "source": [
        "MSOA_fca['2sfca_10_normalized'] = (MSOA_fca['2sfca_10']-MSOA_fca['2sfca_10'].min())/(MSOA_fca['2sfca_10'].max()-MSOA_fca['2sfca_10'].min())\n",
        "MSOA_fca['2sfca_15_normalized'] = (MSOA_fca['2sfca_15']-MSOA_fca['2sfca_15'].min())/(MSOA_fca['2sfca_15'].max()-MSOA_fca['2sfca_15'].min())\n",
        "MSOA_fca['2sfca_20_normalized'] = (MSOA_fca['2sfca_20']-MSOA_fca['2sfca_20'].min())/(MSOA_fca['2sfca_20'].max()-MSOA_fca['2sfca_20'].min())\n",
        "MSOA_fca['2sfca_25_normalized'] = (MSOA_fca['2sfca_25']-MSOA_fca['2sfca_25'].min())/(MSOA_fca['2sfca_25'].max()-MSOA_fca['2sfca_25'].min())\n",
        "MSOA_fca['2sfca_30_normalized'] = (MSOA_fca['2sfca_30']-MSOA_fca['2sfca_30'].min())/(MSOA_fca['2sfca_30'].max()-MSOA_fca['2sfca_30'].min())\n",
        "\n",
        "\n",
        "MSOA_fca['E2sfca_10_normalized'] = (MSOA_fca['E2sfca_10']-MSOA_fca['E2sfca_10'].min())/(MSOA_fca['E2sfca_10'].max()-MSOA_fca['E2sfca_10'].min())\n",
        "MSOA_fca['E2sfca_15_normalized'] = (MSOA_fca['E2sfca_15']-MSOA_fca['E2sfca_15'].min())/(MSOA_fca['E2sfca_15'].max()-MSOA_fca['E2sfca_15'].min())\n",
        "MSOA_fca['E2sfca_20_normalized'] = (MSOA_fca['E2sfca_20']-MSOA_fca['E2sfca_20'].min())/(MSOA_fca['E2sfca_20'].max()-MSOA_fca['E2sfca_20'].min())\n",
        "MSOA_fca['E2sfca_25_normalized'] = (MSOA_fca['E2sfca_25']-MSOA_fca['E2sfca_25'].min())/(MSOA_fca['E2sfca_25'].max()-MSOA_fca['E2sfca_25'].min())\n",
        "MSOA_fca['E2sfca_30_normalized'] = (MSOA_fca['E2sfca_30']-MSOA_fca['E2sfca_30'].min())/(MSOA_fca['E2sfca_30'].max()-MSOA_fca['E2sfca_30'].min())\n",
        "\n",
        "MSOA_fca['3sfca_10_normalized'] = (MSOA_fca['3sfca_10']-MSOA_fca['3sfca_10'].min())/(MSOA_fca['3sfca_10'].max()-MSOA_fca['2sfca_10'].min())\n",
        "MSOA_fca['3sfca_15_normalized'] = (MSOA_fca['3sfca_15']-MSOA_fca['3sfca_15'].min())/(MSOA_fca['3sfca_15'].max()-MSOA_fca['2sfca_15'].min())\n",
        "MSOA_fca['3sfca_20_normalized'] = (MSOA_fca['3sfca_20']-MSOA_fca['3sfca_20'].min())/(MSOA_fca['3sfca_20'].max()-MSOA_fca['2sfca_20'].min())\n",
        "MSOA_fca['3sfca_25_normalized'] = (MSOA_fca['3sfca_25']-MSOA_fca['3sfca_25'].min())/(MSOA_fca['3sfca_25'].max()-MSOA_fca['2sfca_25'].min())\n",
        "MSOA_fca['3sfca_30_normalized'] = (MSOA_fca['3sfca_30']-MSOA_fca['3sfca_30'].min())/(MSOA_fca['3sfca_30'].max()-MSOA_fca['2sfca_30'].min())\n",
        "\n",
        "\n",
        "#MSOA_fca['raam_normalized'] = (MSOA_fca['raam']-MSOA_fca['raam'].min())/(MSOA_fca['raam'].max()-MSOA_fca['raam'].min())\n",
        "#MSOA_fca['raam_inverse_normalize'] = 1-MSOA_fca['raam_normalized']"
      ],
      "execution_count": null,
      "outputs": []
    },
    {
      "cell_type": "code",
      "metadata": {
        "id": "01tT9P8HVFqW"
      },
      "source": [
        "# Subset the columns to only needed ones\n",
        "MSOA_fca = MSOA_fca[['LA_Code_2020','LA_name_2020','MSOA11CD','MSOA11NM','pop60+69','60-69',\n",
        "                     'vaccination_rate_60+69',\n",
        "                     '2sfca_10_normalized','2sfca_15_normalized','2sfca_20_normalized','2sfca_25_normalized','2sfca_30_normalized',\n",
        "                     'E2sfca_10_normalized','E2sfca_15_normalized','E2sfca_20_normalized','E2sfca_25_normalized','E2sfca_30_normalized',\n",
        "                     '3sfca_10_normalized','3sfca_15_normalized','3sfca_20_normalized','3sfca_25_normalized','3sfca_30_normalized',\n",
        "                     'geometry']]"
      ],
      "execution_count": null,
      "outputs": []
    },
    {
      "cell_type": "code",
      "metadata": {
        "id": "KJ7iezmBVFqW"
      },
      "source": [
        "# Export result data\n",
        "MSOA_fca.to_csv('fca_result_exclude_London.csv',index=False)\n",
        "MSOA_fca.to_file(\"fca_result_exclude_London.gpkg\", driver=\"GPKG\")"
      ],
      "execution_count": null,
      "outputs": []
    },
    {
      "cell_type": "markdown",
      "metadata": {
        "id": "PFf6m3UwVFqW"
      },
      "source": [
        "# Read data for plotting (generated above)"
      ]
    },
    {
      "cell_type": "code",
      "metadata": {
        "id": "ioinJoLdVFqX"
      },
      "source": [
        "MSOA_fca = gpd.read_file('fca_result_exclude_London.gpkg')\n",
        "MSOA_fca = MSOA_fca.to_crs('epsg:27700')"
      ],
      "execution_count": null,
      "outputs": []
    },
    {
      "cell_type": "code",
      "metadata": {
        "id": "P_GQ8Y_4VFqX"
      },
      "source": [
        "MSOA_fca.shape"
      ],
      "execution_count": null,
      "outputs": []
    },
    {
      "cell_type": "code",
      "metadata": {
        "id": "yrR6XK3yVFqX"
      },
      "source": [
        "MSOA_fca.describe()"
      ],
      "execution_count": null,
      "outputs": []
    },
    {
      "cell_type": "markdown",
      "metadata": {
        "id": "_Y0cCl6vVFqX"
      },
      "source": [
        "## Map plot code"
      ]
    },
    {
      "cell_type": "code",
      "metadata": {
        "id": "oxBjMQYQVFqX"
      },
      "source": [
        "# function for scale bar\n",
        "import cartopy.crs as ccrs\n",
        "import cartopy.geodesic as cgeo\n",
        "def _axes_to_lonlat(ax, coords):\n",
        "    \"\"\"(lon, lat) from axes coordinates.\"\"\"\n",
        "    display = ax.transAxes.transform(coords)\n",
        "    data = ax.transData.inverted().transform(display)\n",
        "    lonlat = ccrs.PlateCarree().transform_point(*data, ax.projection)\n",
        "\n",
        "    return lonlat\n",
        "\n",
        "\n",
        "def _upper_bound(start, direction, distance, dist_func):\n",
        "    \"\"\"A point farther than distance from start, in the given direction.\n",
        "\n",
        "    It doesn't matter which coordinate system start is given in, as long\n",
        "    as dist_func takes points in that coordinate system.\n",
        "\n",
        "    Args:\n",
        "        start:     Starting point for the line.\n",
        "        direction  Nonzero (2, 1)-shaped array, a direction vector.\n",
        "        distance:  Positive distance to go past.\n",
        "        dist_func: A two-argument function which returns distance.\n",
        "\n",
        "    Returns:\n",
        "        Coordinates of a point (a (2, 1)-shaped NumPy array).\n",
        "    \"\"\"\n",
        "    if distance <= 0:\n",
        "        raise ValueError(f\"Minimum distance is not positive: {distance}\")\n",
        "\n",
        "    if np.linalg.norm(direction) == 0:\n",
        "        raise ValueError(\"Direction vector must not be zero.\")\n",
        "\n",
        "    # Exponential search until the distance between start and end is\n",
        "    # greater than the given limit.\n",
        "    length = 0.1\n",
        "    end = start + length * direction\n",
        "\n",
        "    while dist_func(start, end) < distance:\n",
        "        length *= 2\n",
        "        end = start + length * direction\n",
        "\n",
        "    return end\n",
        "\n",
        "\n",
        "def _distance_along_line(start, end, distance, dist_func, tol):\n",
        "    \"\"\"Point at a distance from start on the segment  from start to end.\n",
        "\n",
        "    It doesn't matter which coordinate system start is given in, as long\n",
        "    as dist_func takes points in that coordinate system.\n",
        "\n",
        "    Args:\n",
        "        start:     Starting point for the line.\n",
        "        end:       Outer bound on point's location.\n",
        "        distance:  Positive distance to travel.\n",
        "        dist_func: Two-argument function which returns distance.\n",
        "        tol:       Relative error in distance to allow.\n",
        "\n",
        "    Returns:\n",
        "        Coordinates of a point (a (2, 1)-shaped NumPy array).\n",
        "    \"\"\"\n",
        "    initial_distance = dist_func(start, end)\n",
        "    if initial_distance < distance:\n",
        "        raise ValueError(f\"End is closer to start ({initial_distance}) than \"\n",
        "                         f\"given distance ({distance}).\")\n",
        "\n",
        "    if tol <= 0:\n",
        "        raise ValueError(f\"Tolerance is not positive: {tol}\")\n",
        "\n",
        "    # Binary search for a point at the given distance.\n",
        "    left = start\n",
        "    right = end\n",
        "\n",
        "    while not np.isclose(dist_func(start, right), distance, rtol=tol):\n",
        "        midpoint = (left + right) / 2\n",
        "\n",
        "        # If midpoint is too close, search in second half.\n",
        "        if dist_func(start, midpoint) < distance:\n",
        "            left = midpoint\n",
        "        # Otherwise the midpoint is too far, so search in first half.\n",
        "        else:\n",
        "            right = midpoint\n",
        "\n",
        "    return right\n",
        "\n",
        "\n",
        "def _point_along_line(ax, start, distance, angle=0, tol=0.01):\n",
        "    \"\"\"Point at a given distance from start at a given angle.\n",
        "\n",
        "    Args:\n",
        "        ax:       CartoPy axes.\n",
        "        start:    Starting point for the line in axes coordinates.\n",
        "        distance: Positive physical distance to travel.\n",
        "        angle:    Anti-clockwise angle for the bar, in radians. Default: 0\n",
        "        tol:      Relative error in distance to allow. Default: 0.01\n",
        "\n",
        "    Returns:\n",
        "        Coordinates of a point (a (2, 1)-shaped NumPy array).\n",
        "    \"\"\"\n",
        "    # Direction vector of the line in axes coordinates.\n",
        "    direction = np.array([np.cos(angle), np.sin(angle)])\n",
        "\n",
        "    geodesic = cgeo.Geodesic()\n",
        "\n",
        "    # Physical distance between points.\n",
        "    def dist_func(a_axes, b_axes):\n",
        "        a_phys = _axes_to_lonlat(ax, a_axes)\n",
        "        b_phys = _axes_to_lonlat(ax, b_axes)\n",
        "\n",
        "        # Geodesic().inverse returns a NumPy MemoryView like [[distance,\n",
        "        # start azimuth, end azimuth]].\n",
        "        return geodesic.inverse(a_phys, b_phys).base[0, 0]\n",
        "\n",
        "    end = _upper_bound(start, direction, distance, dist_func)\n",
        "\n",
        "    return _distance_along_line(start, end, distance, dist_func, tol)\n",
        "\n",
        "\n",
        "def scale_bar(ax, location, length, metres_per_unit=1000, unit_name='km',\n",
        "              tol=0.01, angle=0, color='black', linewidth=3, text_offset=0.005,\n",
        "              ha='center', va='bottom', plot_kwargs=None, text_kwargs=None,\n",
        "              **kwargs):\n",
        "    \"\"\"Add a scale bar to CartoPy axes.\n",
        "\n",
        "    For angles between 0 and 90 the text and line may be plotted at\n",
        "    slightly different angles for unknown reasons. To work around this,\n",
        "    override the 'rotation' keyword argument with text_kwargs.\n",
        "\n",
        "    Args:\n",
        "        ax:              CartoPy axes.\n",
        "        location:        Position of left-side of bar in axes coordinates.\n",
        "        length:          Geodesic length of the scale bar.\n",
        "        metres_per_unit: Number of metres in the given unit. Default: 1000\n",
        "        unit_name:       Name of the given unit. Default: 'km'\n",
        "        tol:             Allowed relative error in length of bar. Default: 0.01\n",
        "        angle:           Anti-clockwise rotation of the bar.\n",
        "        color:           Color of the bar and text. Default: 'black'\n",
        "        linewidth:       Same argument as for plot.\n",
        "        text_offset:     Perpendicular offset for text in axes coordinates.\n",
        "                         Default: 0.005\n",
        "        ha:              Horizontal alignment. Default: 'center'\n",
        "        va:              Vertical alignment. Default: 'bottom'\n",
        "        **plot_kwargs:   Keyword arguments for plot, overridden by **kwargs.\n",
        "        **text_kwargs:   Keyword arguments for text, overridden by **kwargs.\n",
        "        **kwargs:        Keyword arguments for both plot and text.\n",
        "    \"\"\"\n",
        "    # Setup kwargs, update plot_kwargs and text_kwargs.\n",
        "    if plot_kwargs is None:\n",
        "        plot_kwargs = {}\n",
        "    if text_kwargs is None:\n",
        "        text_kwargs = {}\n",
        "\n",
        "    plot_kwargs = {'linewidth': linewidth, 'color': color, **plot_kwargs,\n",
        "                   **kwargs}\n",
        "    text_kwargs = {'ha': ha, 'va': va, 'rotation': angle, 'color': color,\n",
        "                   **text_kwargs, **kwargs}\n",
        "\n",
        "    # Convert all units and types.\n",
        "    location = np.asarray(location)  # For vector addition.\n",
        "    length_metres = length * metres_per_unit\n",
        "    angle_rad = angle * np.pi / 180\n",
        "\n",
        "    # End-point of bar.\n",
        "    end = _point_along_line(ax, location, length_metres, angle=angle_rad,\n",
        "                            tol=tol)\n",
        "\n",
        "    # Coordinates are currently in axes coordinates, so use transAxes to\n",
        "    # put into data coordinates. *zip(a, b) produces a list of x-coords,\n",
        "    # then a list of y-coords.\n",
        "    ax.plot(*zip(location, end), transform=ax.transAxes, **plot_kwargs)\n",
        "\n",
        "    # Push text away from bar in the perpendicular direction.\n",
        "    midpoint = (location + end) / 2\n",
        "    offset = text_offset * np.array([-np.sin(angle_rad), np.cos(angle_rad)])\n",
        "    text_location = midpoint + offset\n",
        "\n",
        "    # 'rotation' keyword argument is in text_kwargs.\n",
        "    ax.text(*text_location, f\"{length} {unit_name}\", rotation_mode='anchor',\n",
        "            transform=ax.transAxes, **text_kwargs)"
      ],
      "execution_count": null,
      "outputs": []
    },
    {
      "cell_type": "code",
      "metadata": {
        "id": "u_XZQtJwVFqY"
      },
      "source": [
        "# for Accessibility (continuous)\n",
        "def access(access_metric):\n",
        "    base = MSOA_fca.plot(access_metric, legend = True, \n",
        "                         figsize = (10,10), \n",
        "                         cmap = \"magma\", \n",
        "                         markersize = .5, \n",
        "                         alpha = 1,\n",
        "                         vmin = MSOA_fca[access_metric].quantile(0.05), vmax = MSOA_fca[access_metric].quantile(0.95))\n",
        "    base.axis('off')\n",
        "    base.set_title('England Vaccination Accessibility', fontdict={'fontsize':'20', 'fontweight':'3'})"
      ],
      "execution_count": null,
      "outputs": []
    },
    {
      "cell_type": "code",
      "metadata": {
        "id": "-WxnFWtgVFqZ"
      },
      "source": [
        "# for Vaccination Rate (continuous)\n",
        "def pop_rate(access_metric):\n",
        "    base = MSOA_fca.plot(access_metric, legend = True, \n",
        "                         figsize = (10,10), \n",
        "                         cmap = \"magma\", \n",
        "                         markersize = .5, \n",
        "                         alpha = 1,\n",
        "                         vmin = MSOA_fca[access_metric].quantile(0.05), vmax = MSOA_fca[access_metric].quantile(0.95))\n",
        "    base.axis('off')\n",
        "    base.set_title('England Vaccination Rate in 60-69 by MSOA', fontdict={'fontsize':'20', 'fontweight':'3'})\n",
        "    #site.plot(ax=base, markersize=1, color='red')"
      ],
      "execution_count": null,
      "outputs": []
    },
    {
      "cell_type": "code",
      "metadata": {
        "id": "8NAeszC5VFqZ"
      },
      "source": [
        "# for Vaccination Rate (natural break)\n",
        "def pop_rate_break(column):\n",
        "    f,ax = plt.subplots(figsize=(10,10))\n",
        "    MSOA_fca.plot(ax=ax,column=column, edgecolor='None',\n",
        "              scheme='NaturalBreaks',k=7,legend=True)\n",
        "    ax.axis('off') \n",
        "    ax.set_title('England Vaccination Rate in 60-69 by MSOA', fontdict={'fontsize':'20', 'fontweight':'3'})\n",
        "\n",
        "    ax.get_legend().set_title(\"Vaccination Rate\")\n",
        "\n",
        "    q = mc.NaturalBreaks(MSOA_fca[column], k=7)\n",
        "    legendgram(f, ax, \n",
        "                MSOA_fca[column], q.bins, bins=20,\n",
        "                pal=palmpl.Viridis_7,\n",
        "                legend_size=(0.5, 0.12), \n",
        "                loc='lower right',\n",
        "                #clip=(0,100),\n",
        "                frameon=False)"
      ],
      "execution_count": null,
      "outputs": []
    },
    {
      "cell_type": "code",
      "metadata": {
        "id": "LgD0p6HwVFqZ"
      },
      "source": [
        "# Get the London boundary map for more conplex map plot \n",
        "# Read some London Boundary data for map show\n",
        "# An intricate map of London's borders\n",
        "borough = gpd.read_file('https://github.com/LingruFeng/0006_DSSS_assessment/blob/main/London_Boroughs.gpkg?raw=true')\n",
        "borough = borough.to_crs('epsg:27700')\n",
        "London = pd.merge(left = MSOA_fca, right=borough[['gss_code','objectid']],how = 'left', left_on='LA_Code_2020', right_on='gss_code')\n",
        "London = London.dropna()\n",
        "London['London'] = 'London'\n",
        "London_boundary = London.dissolve(by='London')\n",
        "\n",
        "# A rough map of the borders of London\n",
        "inner=gpd.read_file('https://github.com/LingruFeng/i2p_assessment3/blob/main/inner_outer.gpkg?raw=true')\n",
        "inner = inner.to_crs('epsg:27700')\n",
        "inner = inner.dissolve(by='Source')"
      ],
      "execution_count": null,
      "outputs": []
    },
    {
      "cell_type": "markdown",
      "metadata": {
        "id": "t_m90SvtVFqZ"
      },
      "source": [
        "## Accessibility (When the service radius is 10/15/20/25/30 miles driving distance)"
      ]
    },
    {
      "cell_type": "code",
      "metadata": {
        "id": "Wmf5-_1FVFqZ"
      },
      "source": [
        "def access_break(column):\n",
        "    fig = plt.figure(1, figsize=(13, 13))\n",
        "    ax = fig.add_subplot(111, projection=ccrs.Mercator())\n",
        "    MSOA_fca.plot(ax=ax,column=column, edgecolor='None',\n",
        "              scheme='NaturalBreaks',k=7,legend=True)\n",
        "    ax.axis('off') \n",
        "    #ax.set_title('England Vaccination Accessibility', fontdict={'fontsize':'20', 'fontweight':'3'})\n",
        "\n",
        "    ax.get_legend().set_title(\"Accessbility\")\n",
        "    ax.get_legend().get_title().set_fontsize('15')\n",
        "    \n",
        "    #north arrow\n",
        "    ax.text(x=180000, y=590000, s='N', fontsize=30)\n",
        "    ax.arrow(190000, 530000, 0, 60000, length_includes_head=True,\n",
        "          head_width=20000, head_length=80000, overhang=.1, facecolor='k')\n",
        "    #scale bar\n",
        "    text_kwargs = dict(family='serif', size='xx-large')\n",
        "    scale_bar(ax, (0.8, 0.7), 100,text_kwargs = text_kwargs)\n",
        "\n",
        "    q = mc.NaturalBreaks(MSOA_fca[column], k=7)\n",
        "    legendgram( fig,ax = ax, \n",
        "                y = MSOA_fca[column], breaks = q.bins, bins=20,\n",
        "                pal=palmpl.Viridis_7,\n",
        "                legend_size=(0.5, 0.12), \n",
        "                loc='lower right',\n",
        "                #clip=(0,100),\n",
        "                frameon=False)"
      ],
      "execution_count": null,
      "outputs": []
    },
    {
      "cell_type": "markdown",
      "metadata": {
        "id": "-F04GbUCVFqZ"
      },
      "source": [
        "### 2SFCA"
      ]
    },
    {
      "cell_type": "code",
      "metadata": {
        "id": "CGN0X6FYVFqa"
      },
      "source": [
        "# 10 miles\n",
        "access_break('2sfca_10_normalized')\n",
        "#plt.savefig('figure/2sfca_10_exclude', dpi=600,bbox_inches='tight')"
      ],
      "execution_count": null,
      "outputs": []
    },
    {
      "cell_type": "code",
      "metadata": {
        "id": "Qap9dH_KVFqa"
      },
      "source": [
        "# 15 miles\n",
        "access_break('2sfca_15_normalized')\n",
        "#plt.savefig('figure/2sfca_15_exclude', dpi=600,bbox_inches='tight')"
      ],
      "execution_count": null,
      "outputs": []
    },
    {
      "cell_type": "code",
      "metadata": {
        "id": "fLUdu68DVFqb"
      },
      "source": [
        "#20 miles\n",
        "access_break('2sfca_20_normalized')\n",
        "plt.savefig('figure/2sfca_20_exclude', dpi=600,bbox_inches='tight')"
      ],
      "execution_count": null,
      "outputs": []
    },
    {
      "cell_type": "code",
      "metadata": {
        "id": "7nAgoXjvVFqb"
      },
      "source": [
        "#25 miles\n",
        "access_break('2sfca_25_normalized')\n",
        "plt.savefig('figure/2sfca_25_exclude', dpi=600,bbox_inches='tight')"
      ],
      "execution_count": null,
      "outputs": []
    },
    {
      "cell_type": "code",
      "metadata": {
        "id": "2wqxiVp5VFqb"
      },
      "source": [
        "# 30 miles\n",
        "access_break('2sfca_30_normalized')\n",
        "plt.savefig('figure/2sfca_30_exclude', dpi=600,bbox_inches='tight')"
      ],
      "execution_count": null,
      "outputs": []
    },
    {
      "cell_type": "markdown",
      "metadata": {
        "id": "rZjyGyJWVFqb"
      },
      "source": [
        "### E2SFCA"
      ]
    },
    {
      "cell_type": "code",
      "metadata": {
        "id": "6KNVkRjCVFqc"
      },
      "source": [
        "# 10 miles\n",
        "access_break('E2sfca_10_normalized')\n",
        "plt.savefig('figure/E2sfca_10_exclude', dpi=600,bbox_inches='tight')"
      ],
      "execution_count": null,
      "outputs": []
    },
    {
      "cell_type": "code",
      "metadata": {
        "id": "1P6mFfICVFqc"
      },
      "source": [
        "# 15 miles\n",
        "access_break('E2sfca_15_normalized')\n",
        "plt.savefig('figure/E2sfca_15_exclude', dpi=600,bbox_inches='tight')"
      ],
      "execution_count": null,
      "outputs": []
    },
    {
      "cell_type": "code",
      "metadata": {
        "id": "gogmEbquVFqc"
      },
      "source": [
        "# 20 miles\n",
        "access_break('E2sfca_20_normalized')\n",
        "plt.savefig('figure/E2sfca_20_exclude', dpi=600,bbox_inches='tight')"
      ],
      "execution_count": null,
      "outputs": []
    },
    {
      "cell_type": "code",
      "metadata": {
        "id": "lGTo6k9iVFqc"
      },
      "source": [
        "# 25 miles\n",
        "access_break('E2sfca_25_normalized')\n",
        "plt.savefig('figure/E2sfca_25_exclude', dpi=600,bbox_inches='tight')"
      ],
      "execution_count": null,
      "outputs": []
    },
    {
      "cell_type": "code",
      "metadata": {
        "id": "bw45FUK2VFqd"
      },
      "source": [
        "# 30 miles\n",
        "access_break('E2sfca_30_normalized')\n",
        "plt.savefig('figure/E2sfca_30_exclude', dpi=600,bbox_inches='tight')"
      ],
      "execution_count": null,
      "outputs": []
    },
    {
      "cell_type": "markdown",
      "metadata": {
        "id": "B786wsMbVFqd"
      },
      "source": [
        "### 3SFCA"
      ]
    },
    {
      "cell_type": "code",
      "metadata": {
        "id": "M3tbS8BzVFqd"
      },
      "source": [
        "# 10 miles\n",
        "access_break('3sfca_10_normalized')\n",
        "plt.savefig('figure/3sfca_10_exclude', dpi=600,bbox_inches='tight')"
      ],
      "execution_count": null,
      "outputs": []
    },
    {
      "cell_type": "code",
      "metadata": {
        "id": "EjtIIYD_VFqd"
      },
      "source": [
        "# 15 miles\n",
        "access_break('3sfca_15_normalized')\n",
        "plt.savefig('figure/3sfca_15_exclude', dpi=600,bbox_inches='tight')"
      ],
      "execution_count": null,
      "outputs": []
    },
    {
      "cell_type": "code",
      "metadata": {
        "id": "qgQ9E2BRVFqe"
      },
      "source": [
        "# 20 miles\n",
        "access_break('3sfca_20_normalized')\n",
        "plt.savefig('figure/3sfca_20_exclude', dpi=600,bbox_inches='tight')"
      ],
      "execution_count": null,
      "outputs": []
    },
    {
      "cell_type": "code",
      "metadata": {
        "id": "37EUqSuMVFqe"
      },
      "source": [
        "# 25 miles\n",
        "access_break('3sfca_25_normalized')\n",
        "plt.savefig('figure/3sfca_25_exclude', dpi=600,bbox_inches='tight')"
      ],
      "execution_count": null,
      "outputs": []
    },
    {
      "cell_type": "code",
      "metadata": {
        "id": "FJKswVMKVFqe"
      },
      "source": [
        "# 30 miles\n",
        "access_break('3sfca_30_normalized')\n",
        "plt.savefig('figure/3sfca_30_exclude', dpi=600,bbox_inches='tight')"
      ],
      "execution_count": null,
      "outputs": []
    },
    {
      "cell_type": "markdown",
      "metadata": {
        "id": "gmwSeYPuVFqe"
      },
      "source": [
        "## Vaccination Rate"
      ]
    },
    {
      "cell_type": "code",
      "metadata": {
        "id": "LoV47KuWVFqf"
      },
      "source": [
        "# for Vaccination Rate (natural break)\n",
        "def pop_rate_break(column):\n",
        "    fig = plt.figure(1, figsize=(13, 13))\n",
        "    ax = fig.add_subplot(111, projection=ccrs.Mercator())\n",
        "    MSOA_fca.plot(ax=ax,column=column, edgecolor='None',\n",
        "              scheme='NaturalBreaks',k=7,legend=True)\n",
        "    ax.axis('off') \n",
        "    #ax.set_title('England Vaccination Rate in 60-69 by MSOA', fontdict={'fontsize':'20', 'fontweight':'3'})\n",
        "\n",
        "    ax.get_legend().set_title(\"Vaccination Rate\")\n",
        "    ax.get_legend().get_title().set_fontsize('15')\n",
        "    \n",
        "    #north arrow\n",
        "    ax.text(x=180000, y=590000, s='N', fontsize=30)\n",
        "    ax.arrow(190000, 530000, 0, 60000, length_includes_head=True,\n",
        "          head_width=20000, head_length=80000, overhang=.1, facecolor='k')\n",
        "    #scale bar\n",
        "    text_kwargs = dict(family='serif', size='xx-large')\n",
        "    scale_bar(ax, (0.8, 0.7), 100,text_kwargs = text_kwargs)\n",
        "    \n",
        "\n",
        "    q = mc.NaturalBreaks(MSOA_fca[column], k=7)\n",
        "    legendgram(fig, ax, \n",
        "                MSOA_fca[column], q.bins, bins=20,\n",
        "                pal=palmpl.Viridis_7,\n",
        "                legend_size=(0.5, 0.12), \n",
        "                loc='lower right',\n",
        "                #clip=(0,100),\n",
        "                frameon=False)"
      ],
      "execution_count": null,
      "outputs": []
    },
    {
      "cell_type": "code",
      "metadata": {
        "id": "LuQk9YnCVFqf"
      },
      "source": [
        "pop_rate_break('vaccination_rate_60+69')\n",
        "plt.savefig('figure/vaccination_rate_exclude', dpi=600,bbox_inches='tight')"
      ],
      "execution_count": null,
      "outputs": []
    },
    {
      "cell_type": "markdown",
      "metadata": {
        "id": "lKgI41tRVFqf"
      },
      "source": [
        "# Calculate Pearson and Spearman correlation coefficient of accessibility and vaccination rate"
      ]
    },
    {
      "cell_type": "markdown",
      "metadata": {
        "id": "GsqH25zzVFqg"
      },
      "source": [
        "### 2SFCA\n",
        "#### 10mile"
      ]
    },
    {
      "cell_type": "code",
      "metadata": {
        "id": "mknq8WDRVFqg"
      },
      "source": [
        "print('Pearson correlation coefficient:',stats.pearsonr(MSOA_fca['2sfca_10_normalized'], MSOA_fca['vaccination_rate_60+69'])[0])\n",
        "print('p-value:', stats.pearsonr(MSOA_fca['2sfca_10_normalized'], MSOA_fca['vaccination_rate_60+69'])[1])\n",
        "print('Spearman correlation coefficient:',stats.spearmanr(MSOA_fca['2sfca_10_normalized'], MSOA_fca['vaccination_rate_60+69'])[0])\n",
        "print('p-value:', stats.spearmanr(MSOA_fca['2sfca_10_normalized'], MSOA_fca['vaccination_rate_60+69'])[1])"
      ],
      "execution_count": null,
      "outputs": []
    },
    {
      "cell_type": "markdown",
      "metadata": {
        "id": "SiSkTL3UVFqg"
      },
      "source": [
        "#### 15 mile"
      ]
    },
    {
      "cell_type": "code",
      "metadata": {
        "id": "ipCtC-B2VFqh"
      },
      "source": [
        "print('Pearson correlation coefficient:',stats.pearsonr(MSOA_fca['2sfca_15_normalized'], MSOA_fca['vaccination_rate_60+69'])[0])\n",
        "print('p-value:', stats.pearsonr(MSOA_fca['2sfca_15_normalized'], MSOA_fca['vaccination_rate_60+69'])[1])\n",
        "print('Spearman correlation coefficient:',stats.spearmanr(MSOA_fca['2sfca_15_normalized'], MSOA_fca['vaccination_rate_60+69'])[0])\n",
        "print('p-value:', stats.spearmanr(MSOA_fca['2sfca_15_normalized'], MSOA_fca['vaccination_rate_60+69'])[1])"
      ],
      "execution_count": null,
      "outputs": []
    },
    {
      "cell_type": "markdown",
      "metadata": {
        "id": "bigW-f1XVFqh"
      },
      "source": [
        "#### 20 mile"
      ]
    },
    {
      "cell_type": "code",
      "metadata": {
        "id": "XzKZbEwgVFqh"
      },
      "source": [
        "print('Pearson correlation coefficient:',stats.pearsonr(MSOA_fca['2sfca_20_normalized'], MSOA_fca['vaccination_rate_60+69'])[0])\n",
        "print('p-value:', stats.pearsonr(MSOA_fca['2sfca_20_normalized'], MSOA_fca['vaccination_rate_60+69'])[1])\n",
        "print('Spearman correlation coefficient:',stats.spearmanr(MSOA_fca['2sfca_20_normalized'], MSOA_fca['vaccination_rate_60+69'])[0])\n",
        "print('p-value:', stats.spearmanr(MSOA_fca['2sfca_20_normalized'], MSOA_fca['vaccination_rate_60+69'])[1])"
      ],
      "execution_count": null,
      "outputs": []
    },
    {
      "cell_type": "markdown",
      "metadata": {
        "id": "8ZbZrL6OVFqh"
      },
      "source": [
        "#### 25 mile"
      ]
    },
    {
      "cell_type": "code",
      "metadata": {
        "id": "wWQjON80VFqh"
      },
      "source": [
        "print('Pearson correlation coefficient:',stats.pearsonr(MSOA_fca['2sfca_25_normalized'], MSOA_fca['vaccination_rate_60+69'])[0])\n",
        "print('p-value:', stats.pearsonr(MSOA_fca['2sfca_25_normalized'], MSOA_fca['vaccination_rate_60+69'])[1])\n",
        "print('Spearman correlation coefficient:',stats.spearmanr(MSOA_fca['2sfca_25_normalized'], MSOA_fca['vaccination_rate_60+69'])[0])\n",
        "print('p-value:', stats.spearmanr(MSOA_fca['2sfca_25_normalized'], MSOA_fca['vaccination_rate_60+69'])[1])"
      ],
      "execution_count": null,
      "outputs": []
    },
    {
      "cell_type": "markdown",
      "metadata": {
        "id": "S6ESvk-oVFqh"
      },
      "source": [
        "#### 30 mile"
      ]
    },
    {
      "cell_type": "code",
      "metadata": {
        "id": "HN_trCKUVFqi"
      },
      "source": [
        "print('Pearson correlation coefficient:',stats.pearsonr(MSOA_fca['2sfca_30_normalized'], MSOA_fca['vaccination_rate_60+69'])[0])\n",
        "print('p-value:', stats.pearsonr(MSOA_fca['2sfca_30_normalized'], MSOA_fca['vaccination_rate_60+69'])[1])\n",
        "print('Spearman correlation coefficient:',stats.spearmanr(MSOA_fca['2sfca_30_normalized'], MSOA_fca['vaccination_rate_60+69'])[0])\n",
        "print('p-value:', stats.spearmanr(MSOA_fca['2sfca_30_normalized'], MSOA_fca['vaccination_rate_60+69'])[1])"
      ],
      "execution_count": null,
      "outputs": []
    },
    {
      "cell_type": "markdown",
      "metadata": {
        "id": "9IeHhkMiVFqi"
      },
      "source": [
        "### E2SFCA"
      ]
    },
    {
      "cell_type": "markdown",
      "metadata": {
        "id": "mLtpnGfrVFqi"
      },
      "source": [
        "#### 10 mile"
      ]
    },
    {
      "cell_type": "code",
      "metadata": {
        "id": "G2OxrhQ_VFqi"
      },
      "source": [
        "print('Pearson correlation coefficient:',stats.pearsonr(MSOA_fca['E2sfca_10_normalized'], MSOA_fca['vaccination_rate_60+69'])[0])\n",
        "print('p-value:', stats.pearsonr(MSOA_fca['E2sfca_10_normalized'], MSOA_fca['vaccination_rate_60+69'])[1])\n",
        "print('Spearman correlation coefficient:',stats.spearmanr(MSOA_fca['E2sfca_10_normalized'], MSOA_fca['vaccination_rate_60+69'])[0])\n",
        "print('p-value:', stats.spearmanr(MSOA_fca['E2sfca_10_normalized'], MSOA_fca['vaccination_rate_60+69'])[1])"
      ],
      "execution_count": null,
      "outputs": []
    },
    {
      "cell_type": "markdown",
      "metadata": {
        "id": "R_4vTIeoVFqj"
      },
      "source": [
        "#### 15 mile"
      ]
    },
    {
      "cell_type": "code",
      "metadata": {
        "id": "OhWf0JpqVFqj"
      },
      "source": [
        "print('Pearson correlation coefficient:',stats.pearsonr(MSOA_fca['E2sfca_15_normalized'], MSOA_fca['vaccination_rate_60+69'])[0])\n",
        "print('p-value:', stats.pearsonr(MSOA_fca['E2sfca_15_normalized'], MSOA_fca['vaccination_rate_60+69'])[1])\n",
        "print('Spearman correlation coefficient:',stats.spearmanr(MSOA_fca['E2sfca_15_normalized'], MSOA_fca['vaccination_rate_60+69'])[0])\n",
        "print('p-value:', stats.spearmanr(MSOA_fca['E2sfca_15_normalized'], MSOA_fca['vaccination_rate_60+69'])[1])"
      ],
      "execution_count": null,
      "outputs": []
    },
    {
      "cell_type": "markdown",
      "metadata": {
        "id": "AKrlwJ8dVFqk"
      },
      "source": [
        "#### 20 mile"
      ]
    },
    {
      "cell_type": "code",
      "metadata": {
        "id": "Yhi2UOKoVFqk"
      },
      "source": [
        "print('Pearson correlation coefficient:',stats.pearsonr(MSOA_fca['E2sfca_20_normalized'], MSOA_fca['vaccination_rate_60+69'])[0])\n",
        "print('p-value:', stats.pearsonr(MSOA_fca['E2sfca_20_normalized'], MSOA_fca['vaccination_rate_60+69'])[1])\n",
        "print('Spearman correlation coefficient:',stats.spearmanr(MSOA_fca['E2sfca_20_normalized'], MSOA_fca['vaccination_rate_60+69'])[0])\n",
        "print('p-value:', stats.spearmanr(MSOA_fca['E2sfca_20_normalized'], MSOA_fca['vaccination_rate_60+69'])[1])"
      ],
      "execution_count": null,
      "outputs": []
    },
    {
      "cell_type": "markdown",
      "metadata": {
        "id": "dABBPbrsVFql"
      },
      "source": [
        "#### 25 mile"
      ]
    },
    {
      "cell_type": "code",
      "metadata": {
        "id": "CT5oneqrVFql"
      },
      "source": [
        "print('Pearson correlation coefficient:',stats.pearsonr(MSOA_fca['E2sfca_25_normalized'], MSOA_fca['vaccination_rate_60+69'])[0])\n",
        "print('p-value:', stats.pearsonr(MSOA_fca['E2sfca_25_normalized'], MSOA_fca['vaccination_rate_60+69'])[1])\n",
        "print('Spearman correlation coefficient:',stats.spearmanr(MSOA_fca['E2sfca_25_normalized'], MSOA_fca['vaccination_rate_60+69'])[0])\n",
        "print('p-value:', stats.spearmanr(MSOA_fca['E2sfca_25_normalized'], MSOA_fca['vaccination_rate_60+69'])[1])"
      ],
      "execution_count": null,
      "outputs": []
    },
    {
      "cell_type": "markdown",
      "metadata": {
        "id": "YSPPu72KVFql"
      },
      "source": [
        "#### 30 mile"
      ]
    },
    {
      "cell_type": "code",
      "metadata": {
        "id": "lUYGkCv4VFql"
      },
      "source": [
        "print('Pearson correlation coefficient:',stats.pearsonr(MSOA_fca['E2sfca_30_normalized'], MSOA_fca['vaccination_rate_60+69'])[0])\n",
        "print('p-value:', stats.pearsonr(MSOA_fca['E2sfca_30_normalized'], MSOA_fca['vaccination_rate_60+69'])[1])\n",
        "print('Spearman correlation coefficient:',stats.spearmanr(MSOA_fca['E2sfca_30_normalized'], MSOA_fca['vaccination_rate_60+69'])[0])\n",
        "print('p-value:', stats.spearmanr(MSOA_fca['E2sfca_30_normalized'], MSOA_fca['vaccination_rate_60+69'])[1])"
      ],
      "execution_count": null,
      "outputs": []
    },
    {
      "cell_type": "markdown",
      "metadata": {
        "id": "Ie2nA7A5VFqm"
      },
      "source": [
        "### 3SFCA"
      ]
    },
    {
      "cell_type": "markdown",
      "metadata": {
        "id": "e_UT4KbNVFqm"
      },
      "source": [
        "#### 10 mile"
      ]
    },
    {
      "cell_type": "code",
      "metadata": {
        "id": "OvtUUunyVFqm"
      },
      "source": [
        "print('Pearson correlation coefficient:',stats.pearsonr(MSOA_fca['3sfca_10_normalized'], MSOA_fca['vaccination_rate_60+69'])[0])\n",
        "print('p-value:', stats.pearsonr(MSOA_fca['3sfca_10_normalized'], MSOA_fca['vaccination_rate_60+69'])[1])\n",
        "print('Spearman correlation coefficient:',stats.spearmanr(MSOA_fca['3sfca_10_normalized'], MSOA_fca['vaccination_rate_60+69'])[0])\n",
        "print('p-value:', stats.spearmanr(MSOA_fca['3sfca_10_normalized'], MSOA_fca['vaccination_rate_60+69'])[1])"
      ],
      "execution_count": null,
      "outputs": []
    },
    {
      "cell_type": "markdown",
      "metadata": {
        "id": "Y720qZYTVFqm"
      },
      "source": [
        "#### 15 mile"
      ]
    },
    {
      "cell_type": "code",
      "metadata": {
        "id": "7T3A6BwqVFqm"
      },
      "source": [
        "print('Pearson correlation coefficient:',stats.pearsonr(MSOA_fca['3sfca_15_normalized'], MSOA_fca['vaccination_rate_60+69'])[0])\n",
        "print('p-value:', stats.pearsonr(MSOA_fca['3sfca_15_normalized'], MSOA_fca['vaccination_rate_60+69'])[1])\n",
        "print('Spearman correlation coefficient:',stats.spearmanr(MSOA_fca['3sfca_15_normalized'], MSOA_fca['vaccination_rate_60+69'])[0])\n",
        "print('p-value:', stats.spearmanr(MSOA_fca['3sfca_15_normalized'], MSOA_fca['vaccination_rate_60+69'])[1])"
      ],
      "execution_count": null,
      "outputs": []
    },
    {
      "cell_type": "markdown",
      "metadata": {
        "id": "gA7EzqNwVFqm"
      },
      "source": [
        "#### 20 mile"
      ]
    },
    {
      "cell_type": "code",
      "metadata": {
        "id": "BhLkPgaMVFqn"
      },
      "source": [
        "print('Pearson correlation coefficient:',stats.pearsonr(MSOA_fca['3sfca_20_normalized'], MSOA_fca['vaccination_rate_60+69'])[0])\n",
        "print('p-value:', stats.pearsonr(MSOA_fca['3sfca_20_normalized'], MSOA_fca['vaccination_rate_60+69'])[1])\n",
        "print('Spearman correlation coefficient:',stats.spearmanr(MSOA_fca['3sfca_20_normalized'], MSOA_fca['vaccination_rate_60+69'])[0])\n",
        "print('p-value:', stats.spearmanr(MSOA_fca['3sfca_20_normalized'], MSOA_fca['vaccination_rate_60+69'])[1])"
      ],
      "execution_count": null,
      "outputs": []
    },
    {
      "cell_type": "markdown",
      "metadata": {
        "id": "khZmkr1yVFqn"
      },
      "source": [
        "#### 25 mile"
      ]
    },
    {
      "cell_type": "code",
      "metadata": {
        "id": "bOQTGRvcVFqn"
      },
      "source": [
        "print('Pearson correlation coefficient:',stats.pearsonr(MSOA_fca['3sfca_25_normalized'], MSOA_fca['vaccination_rate_60+69'])[0])\n",
        "print('p-value:', stats.pearsonr(MSOA_fca['3sfca_25_normalized'], MSOA_fca['vaccination_rate_60+69'])[1])\n",
        "print('Spearman correlation coefficient:',stats.spearmanr(MSOA_fca['3sfca_25_normalized'], MSOA_fca['vaccination_rate_60+69'])[0])\n",
        "print('p-value:', stats.spearmanr(MSOA_fca['3sfca_25_normalized'], MSOA_fca['vaccination_rate_60+69'])[1])"
      ],
      "execution_count": null,
      "outputs": []
    },
    {
      "cell_type": "markdown",
      "metadata": {
        "id": "M-JUclyhVFqo"
      },
      "source": [
        "#### 30 mile"
      ]
    },
    {
      "cell_type": "code",
      "metadata": {
        "id": "QaUTovfRVFqo"
      },
      "source": [
        "print('Pearson correlation coefficient:',stats.pearsonr(MSOA_fca['3sfca_30_normalized'], MSOA_fca['vaccination_rate_60+69'])[0])\n",
        "print('p-value:', stats.pearsonr(MSOA_fca['3sfca_30_normalized'], MSOA_fca['vaccination_rate_60+69'])[1])\n",
        "print('Spearman correlation coefficient:',stats.spearmanr(MSOA_fca['3sfca_30_normalized'], MSOA_fca['vaccination_rate_60+69'])[0])\n",
        "print('p-value:', stats.spearmanr(MSOA_fca['3sfca_30_normalized'], MSOA_fca['vaccination_rate_60+69'])[1])"
      ],
      "execution_count": null,
      "outputs": []
    },
    {
      "cell_type": "code",
      "metadata": {
        "id": "EvXRLBIXVFqo"
      },
      "source": [
        ""
      ],
      "execution_count": null,
      "outputs": []
    }
  ]
}