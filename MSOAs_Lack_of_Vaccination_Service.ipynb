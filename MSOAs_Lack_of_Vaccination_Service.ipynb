{
  "nbformat": 4,
  "nbformat_minor": 0,
  "metadata": {
    "colab": {
      "name": "MSOAs Lack of Vaccination Service.ipynb",
      "provenance": [],
      "collapsed_sections": [],
      "include_colab_link": true
    },
    "kernelspec": {
      "display_name": "Python 3",
      "language": "python",
      "name": "python3"
    },
    "language_info": {
      "codemirror_mode": {
        "name": "ipython",
        "version": 3
      },
      "file_extension": ".py",
      "mimetype": "text/x-python",
      "name": "python",
      "nbconvert_exporter": "python",
      "pygments_lexer": "ipython3",
      "version": "3.8.8"
    }
  },
  "cells": [
    {
      "cell_type": "markdown",
      "metadata": {
        "id": "view-in-github",
        "colab_type": "text"
      },
      "source": [
        "<a href=\"https://colab.research.google.com/github/kdChen07/progress-and-problems/blob/main/MSOAs_Lack_of_Vaccination_Service.ipynb\" target=\"_parent\"><img src=\"https://colab.research.google.com/assets/colab-badge.svg\" alt=\"Open In Colab\"/></a>"
      ]
    },
    {
      "cell_type": "markdown",
      "metadata": {
        "id": "uCUTPNwShPjc"
      },
      "source": [
        "#绘制无疫苗服务MSOA地图"
      ]
    },
    {
      "cell_type": "code",
      "metadata": {
        "id": "02YpOSgthTqV"
      },
      "source": [
        "!pip install access\n",
        "!pip install logging\n",
        "!pip install geopandas\n",
        "!pip install mapclassify\n",
        "!pip install legendgram"
      ],
      "execution_count": null,
      "outputs": []
    },
    {
      "cell_type": "code",
      "metadata": {
        "id": "-9asmqQJh4tC"
      },
      "source": [
        "from google.colab import files"
      ],
      "execution_count": null,
      "outputs": []
    },
    {
      "cell_type": "code",
      "metadata": {
        "id": "Cg5bTiZOhPjf"
      },
      "source": [
        "from access import access, weights, datasets\n",
        "import logging\n",
        "import pandas as pd\n",
        "import geopandas as gpd\n",
        "import matplotlib.pyplot as plt\n",
        "import mapclassify as mc\n",
        "from legendgram import legendgram\n",
        "import palettable.matplotlib as palmpl\n",
        "import seaborn as sns\n",
        "import numpy as np\n",
        "from scipy import stats"
      ],
      "execution_count": null,
      "outputs": []
    },
    {
      "cell_type": "markdown",
      "metadata": {
        "id": "8dFelPyNhPji"
      },
      "source": [
        "#导入数据"
      ]
    },
    {
      "cell_type": "code",
      "metadata": {
        "colab": {
          "base_uri": "https://localhost:8080/",
          "height": 416
        },
        "id": "GgiOMVRZhPji",
        "outputId": "71ecad53-fdfe-4f1b-8933-2b629effe2b2"
      },
      "source": [
        "LA_MSOA = pd.read_csv('https://raw.githubusercontent.com/LingruFeng/dissertation/main/data_raw/LA_MSOA_code.csv')\n",
        "LA_MSOA"
      ],
      "execution_count": null,
      "outputs": [
        {
          "output_type": "execute_result",
          "data": {
            "text/html": [
              "<div>\n",
              "<style scoped>\n",
              "    .dataframe tbody tr th:only-of-type {\n",
              "        vertical-align: middle;\n",
              "    }\n",
              "\n",
              "    .dataframe tbody tr th {\n",
              "        vertical-align: top;\n",
              "    }\n",
              "\n",
              "    .dataframe thead th {\n",
              "        text-align: right;\n",
              "    }\n",
              "</style>\n",
              "<table border=\"1\" class=\"dataframe\">\n",
              "  <thead>\n",
              "    <tr style=\"text-align: right;\">\n",
              "      <th></th>\n",
              "      <th>LA_Code_2020</th>\n",
              "      <th>LA_name_2020</th>\n",
              "      <th>MSOA Code</th>\n",
              "    </tr>\n",
              "  </thead>\n",
              "  <tbody>\n",
              "    <tr>\n",
              "      <th>0</th>\n",
              "      <td>E06000001</td>\n",
              "      <td>Hartlepool</td>\n",
              "      <td>E02002483</td>\n",
              "    </tr>\n",
              "    <tr>\n",
              "      <th>1</th>\n",
              "      <td>E06000001</td>\n",
              "      <td>Hartlepool</td>\n",
              "      <td>E02002484</td>\n",
              "    </tr>\n",
              "    <tr>\n",
              "      <th>2</th>\n",
              "      <td>E06000001</td>\n",
              "      <td>Hartlepool</td>\n",
              "      <td>E02002485</td>\n",
              "    </tr>\n",
              "    <tr>\n",
              "      <th>3</th>\n",
              "      <td>E06000001</td>\n",
              "      <td>Hartlepool</td>\n",
              "      <td>E02002487</td>\n",
              "    </tr>\n",
              "    <tr>\n",
              "      <th>4</th>\n",
              "      <td>E06000001</td>\n",
              "      <td>Hartlepool</td>\n",
              "      <td>E02002488</td>\n",
              "    </tr>\n",
              "    <tr>\n",
              "      <th>...</th>\n",
              "      <td>...</td>\n",
              "      <td>...</td>\n",
              "      <td>...</td>\n",
              "    </tr>\n",
              "    <tr>\n",
              "      <th>6786</th>\n",
              "      <td>E09000033</td>\n",
              "      <td>Westminster</td>\n",
              "      <td>E02000979</td>\n",
              "    </tr>\n",
              "    <tr>\n",
              "      <th>6787</th>\n",
              "      <td>E09000033</td>\n",
              "      <td>Westminster</td>\n",
              "      <td>E02000980</td>\n",
              "    </tr>\n",
              "    <tr>\n",
              "      <th>6788</th>\n",
              "      <td>E09000033</td>\n",
              "      <td>Westminster</td>\n",
              "      <td>E02000981</td>\n",
              "    </tr>\n",
              "    <tr>\n",
              "      <th>6789</th>\n",
              "      <td>E09000033</td>\n",
              "      <td>Westminster</td>\n",
              "      <td>E02000982</td>\n",
              "    </tr>\n",
              "    <tr>\n",
              "      <th>6790</th>\n",
              "      <td>E09000033</td>\n",
              "      <td>Westminster</td>\n",
              "      <td>E02000983</td>\n",
              "    </tr>\n",
              "  </tbody>\n",
              "</table>\n",
              "<p>6791 rows × 3 columns</p>\n",
              "</div>"
            ],
            "text/plain": [
              "     LA_Code_2020 LA_name_2020  MSOA Code\n",
              "0       E06000001   Hartlepool  E02002483\n",
              "1       E06000001   Hartlepool  E02002484\n",
              "2       E06000001   Hartlepool  E02002485\n",
              "3       E06000001   Hartlepool  E02002487\n",
              "4       E06000001   Hartlepool  E02002488\n",
              "...           ...          ...        ...\n",
              "6786    E09000033  Westminster  E02000979\n",
              "6787    E09000033  Westminster  E02000980\n",
              "6788    E09000033  Westminster  E02000981\n",
              "6789    E09000033  Westminster  E02000982\n",
              "6790    E09000033  Westminster  E02000983\n",
              "\n",
              "[6791 rows x 3 columns]"
            ]
          },
          "metadata": {
            "tags": []
          },
          "execution_count": 4
        }
      ]
    },
    {
      "cell_type": "markdown",
      "metadata": {
        "id": "Ndi7bLb3hPjm"
      },
      "source": [
        "# 获取MSOA边界数据"
      ]
    },
    {
      "cell_type": "code",
      "metadata": {
        "id": "8YhNUl_OhPjm"
      },
      "source": [
        "MSOA=gpd.read_file('https://github.com/LingruFeng/dissertation/blob/main/data_github/England_basemap/MSOA_Boundary_with_population.gpkg?raw=true')\n",
        "MSOA = MSOA.to_crs('epsg:27700')"
      ],
      "execution_count": null,
      "outputs": []
    },
    {
      "cell_type": "code",
      "metadata": {
        "colab": {
          "base_uri": "https://localhost:8080/",
          "height": 416
        },
        "id": "dDVJ9ferDCr1",
        "outputId": "9e0f4422-68db-4485-f78c-d06939485073"
      },
      "source": [
        "MSOA"
      ],
      "execution_count": null,
      "outputs": [
        {
          "output_type": "execute_result",
          "data": {
            "text/html": [
              "<div>\n",
              "<style scoped>\n",
              "    .dataframe tbody tr th:only-of-type {\n",
              "        vertical-align: middle;\n",
              "    }\n",
              "\n",
              "    .dataframe tbody tr th {\n",
              "        vertical-align: top;\n",
              "    }\n",
              "\n",
              "    .dataframe thead th {\n",
              "        text-align: right;\n",
              "    }\n",
              "</style>\n",
              "<table border=\"1\" class=\"dataframe\">\n",
              "  <thead>\n",
              "    <tr style=\"text-align: right;\">\n",
              "      <th></th>\n",
              "      <th>MSOA11CD</th>\n",
              "      <th>MSOA11NM</th>\n",
              "      <th>pop0-49</th>\n",
              "      <th>pop50-59</th>\n",
              "      <th>pop60-69</th>\n",
              "      <th>pop70-79</th>\n",
              "      <th>pop80-89</th>\n",
              "      <th>pop90+</th>\n",
              "      <th>total_pop</th>\n",
              "      <th>geometry</th>\n",
              "    </tr>\n",
              "  </thead>\n",
              "  <tbody>\n",
              "    <tr>\n",
              "      <th>0</th>\n",
              "      <td>E02000001</td>\n",
              "      <td>City of London 001</td>\n",
              "      <td>6206</td>\n",
              "      <td>1339</td>\n",
              "      <td>1025</td>\n",
              "      <td>720</td>\n",
              "      <td>313</td>\n",
              "      <td>118</td>\n",
              "      <td>9721</td>\n",
              "      <td>POLYGON ((532947.881 181895.061, 533412.520 18...</td>\n",
              "    </tr>\n",
              "    <tr>\n",
              "      <th>1</th>\n",
              "      <td>E02000002</td>\n",
              "      <td>Barking and Dagenham 001</td>\n",
              "      <td>5621</td>\n",
              "      <td>835</td>\n",
              "      <td>505</td>\n",
              "      <td>401</td>\n",
              "      <td>268</td>\n",
              "      <td>105</td>\n",
              "      <td>7735</td>\n",
              "      <td>POLYGON ((549002.599 190873.761, 549122.828 18...</td>\n",
              "    </tr>\n",
              "    <tr>\n",
              "      <th>2</th>\n",
              "      <td>E02000003</td>\n",
              "      <td>Barking and Dagenham 002</td>\n",
              "      <td>8062</td>\n",
              "      <td>1272</td>\n",
              "      <td>886</td>\n",
              "      <td>575</td>\n",
              "      <td>301</td>\n",
              "      <td>78</td>\n",
              "      <td>11174</td>\n",
              "      <td>POLYGON ((548956.371 189063.484, 549087.474 18...</td>\n",
              "    </tr>\n",
              "    <tr>\n",
              "      <th>3</th>\n",
              "      <td>E02000004</td>\n",
              "      <td>Barking and Dagenham 003</td>\n",
              "      <td>4401</td>\n",
              "      <td>866</td>\n",
              "      <td>598</td>\n",
              "      <td>444</td>\n",
              "      <td>262</td>\n",
              "      <td>116</td>\n",
              "      <td>6687</td>\n",
              "      <td>POLYGON ((551945.701 186027.855, 551672.764 18...</td>\n",
              "    </tr>\n",
              "    <tr>\n",
              "      <th>4</th>\n",
              "      <td>E02000005</td>\n",
              "      <td>Barking and Dagenham 004</td>\n",
              "      <td>7982</td>\n",
              "      <td>1144</td>\n",
              "      <td>629</td>\n",
              "      <td>413</td>\n",
              "      <td>211</td>\n",
              "      <td>53</td>\n",
              "      <td>10432</td>\n",
              "      <td>POLYGON ((549420.553 187442.648, 548985.314 18...</td>\n",
              "    </tr>\n",
              "    <tr>\n",
              "      <th>...</th>\n",
              "      <td>...</td>\n",
              "      <td>...</td>\n",
              "      <td>...</td>\n",
              "      <td>...</td>\n",
              "      <td>...</td>\n",
              "      <td>...</td>\n",
              "      <td>...</td>\n",
              "      <td>...</td>\n",
              "      <td>...</td>\n",
              "      <td>...</td>\n",
              "    </tr>\n",
              "    <tr>\n",
              "      <th>6786</th>\n",
              "      <td>E02006930</td>\n",
              "      <td>Greenwich 037</td>\n",
              "      <td>7425</td>\n",
              "      <td>741</td>\n",
              "      <td>473</td>\n",
              "      <td>305</td>\n",
              "      <td>167</td>\n",
              "      <td>16</td>\n",
              "      <td>9127</td>\n",
              "      <td>POLYGON ((540585.068 178133.897, 540368.424 17...</td>\n",
              "    </tr>\n",
              "    <tr>\n",
              "      <th>6787</th>\n",
              "      <td>E02006931</td>\n",
              "      <td>Greenwich 038</td>\n",
              "      <td>7267</td>\n",
              "      <td>1024</td>\n",
              "      <td>672</td>\n",
              "      <td>510</td>\n",
              "      <td>255</td>\n",
              "      <td>78</td>\n",
              "      <td>9806</td>\n",
              "      <td>POLYGON ((538775.968 177841.277, 539072.243 17...</td>\n",
              "    </tr>\n",
              "    <tr>\n",
              "      <th>6788</th>\n",
              "      <td>E02006932</td>\n",
              "      <td>Liverpool 060</td>\n",
              "      <td>16963</td>\n",
              "      <td>264</td>\n",
              "      <td>173</td>\n",
              "      <td>80</td>\n",
              "      <td>25</td>\n",
              "      <td>10</td>\n",
              "      <td>17515</td>\n",
              "      <td>POLYGON ((335757.632 390987.474, 335739.219 39...</td>\n",
              "    </tr>\n",
              "    <tr>\n",
              "      <th>6789</th>\n",
              "      <td>E02006933</td>\n",
              "      <td>Liverpool 061</td>\n",
              "      <td>7130</td>\n",
              "      <td>603</td>\n",
              "      <td>485</td>\n",
              "      <td>220</td>\n",
              "      <td>97</td>\n",
              "      <td>4</td>\n",
              "      <td>8539</td>\n",
              "      <td>POLYGON ((335096.788 389638.891, 334715.024 38...</td>\n",
              "    </tr>\n",
              "    <tr>\n",
              "      <th>6790</th>\n",
              "      <td>E02006934</td>\n",
              "      <td>Liverpool 062</td>\n",
              "      <td>7653</td>\n",
              "      <td>372</td>\n",
              "      <td>216</td>\n",
              "      <td>98</td>\n",
              "      <td>34</td>\n",
              "      <td>8</td>\n",
              "      <td>8381</td>\n",
              "      <td>POLYGON ((334805.261 391362.101, 334590.333 39...</td>\n",
              "    </tr>\n",
              "  </tbody>\n",
              "</table>\n",
              "<p>6791 rows × 10 columns</p>\n",
              "</div>"
            ],
            "text/plain": [
              "       MSOA11CD  ...                                           geometry\n",
              "0     E02000001  ...  POLYGON ((532947.881 181895.061, 533412.520 18...\n",
              "1     E02000002  ...  POLYGON ((549002.599 190873.761, 549122.828 18...\n",
              "2     E02000003  ...  POLYGON ((548956.371 189063.484, 549087.474 18...\n",
              "3     E02000004  ...  POLYGON ((551945.701 186027.855, 551672.764 18...\n",
              "4     E02000005  ...  POLYGON ((549420.553 187442.648, 548985.314 18...\n",
              "...         ...  ...                                                ...\n",
              "6786  E02006930  ...  POLYGON ((540585.068 178133.897, 540368.424 17...\n",
              "6787  E02006931  ...  POLYGON ((538775.968 177841.277, 539072.243 17...\n",
              "6788  E02006932  ...  POLYGON ((335757.632 390987.474, 335739.219 39...\n",
              "6789  E02006933  ...  POLYGON ((335096.788 389638.891, 334715.024 38...\n",
              "6790  E02006934  ...  POLYGON ((334805.261 391362.101, 334590.333 39...\n",
              "\n",
              "[6791 rows x 10 columns]"
            ]
          },
          "metadata": {
            "tags": []
          },
          "execution_count": 6
        }
      ]
    },
    {
      "cell_type": "markdown",
      "metadata": {
        "id": "nkn1r3WEhPjn"
      },
      "source": [
        "#获取MSOA点数据"
      ]
    },
    {
      "cell_type": "code",
      "metadata": {
        "id": "0R30_XHXhPjn"
      },
      "source": [
        "MSOA_points=gpd.read_file('https://github.com/LingruFeng/dissertation/blob/main/data_github/England_basemap/MSOA_Population_Weighted_Centroids_with_population.gpkg?raw=true')\n",
        "MSOA_points = MSOA_points.to_crs('epsg:27700')"
      ],
      "execution_count": null,
      "outputs": []
    },
    {
      "cell_type": "code",
      "metadata": {
        "colab": {
          "base_uri": "https://localhost:8080/",
          "height": 416
        },
        "id": "LiBKPLi9DLLl",
        "outputId": "683e8171-b905-4c8c-8887-112b16fd32b4"
      },
      "source": [
        "MSOA_points"
      ],
      "execution_count": null,
      "outputs": [
        {
          "output_type": "execute_result",
          "data": {
            "text/html": [
              "<div>\n",
              "<style scoped>\n",
              "    .dataframe tbody tr th:only-of-type {\n",
              "        vertical-align: middle;\n",
              "    }\n",
              "\n",
              "    .dataframe tbody tr th {\n",
              "        vertical-align: top;\n",
              "    }\n",
              "\n",
              "    .dataframe thead th {\n",
              "        text-align: right;\n",
              "    }\n",
              "</style>\n",
              "<table border=\"1\" class=\"dataframe\">\n",
              "  <thead>\n",
              "    <tr style=\"text-align: right;\">\n",
              "      <th></th>\n",
              "      <th>objectid</th>\n",
              "      <th>msoa11cd</th>\n",
              "      <th>pop0-49</th>\n",
              "      <th>pop50-59</th>\n",
              "      <th>pop60-69</th>\n",
              "      <th>pop70-79</th>\n",
              "      <th>pop80-89</th>\n",
              "      <th>pop90+</th>\n",
              "      <th>total_pop</th>\n",
              "      <th>geometry</th>\n",
              "    </tr>\n",
              "  </thead>\n",
              "  <tbody>\n",
              "    <tr>\n",
              "      <th>0</th>\n",
              "      <td>1</td>\n",
              "      <td>E02002536</td>\n",
              "      <td>5688</td>\n",
              "      <td>1416</td>\n",
              "      <td>1132</td>\n",
              "      <td>891</td>\n",
              "      <td>540</td>\n",
              "      <td>104</td>\n",
              "      <td>9771</td>\n",
              "      <td>POINT (445582.345 524175.434)</td>\n",
              "    </tr>\n",
              "    <tr>\n",
              "      <th>1</th>\n",
              "      <td>2</td>\n",
              "      <td>E02002537</td>\n",
              "      <td>5578</td>\n",
              "      <td>1251</td>\n",
              "      <td>836</td>\n",
              "      <td>545</td>\n",
              "      <td>386</td>\n",
              "      <td>45</td>\n",
              "      <td>8641</td>\n",
              "      <td>POINT (446777.151 524256.841)</td>\n",
              "    </tr>\n",
              "    <tr>\n",
              "      <th>2</th>\n",
              "      <td>3</td>\n",
              "      <td>E02002534</td>\n",
              "      <td>2547</td>\n",
              "      <td>824</td>\n",
              "      <td>863</td>\n",
              "      <td>967</td>\n",
              "      <td>407</td>\n",
              "      <td>85</td>\n",
              "      <td>5693</td>\n",
              "      <td>POINT (461356.929 515118.900)</td>\n",
              "    </tr>\n",
              "    <tr>\n",
              "      <th>3</th>\n",
              "      <td>4</td>\n",
              "      <td>E02002535</td>\n",
              "      <td>4959</td>\n",
              "      <td>1636</td>\n",
              "      <td>1385</td>\n",
              "      <td>870</td>\n",
              "      <td>416</td>\n",
              "      <td>70</td>\n",
              "      <td>9336</td>\n",
              "      <td>POINT (446117.027 525455.836)</td>\n",
              "    </tr>\n",
              "    <tr>\n",
              "      <th>4</th>\n",
              "      <td>5</td>\n",
              "      <td>E02002532</td>\n",
              "      <td>3783</td>\n",
              "      <td>970</td>\n",
              "      <td>810</td>\n",
              "      <td>655</td>\n",
              "      <td>342</td>\n",
              "      <td>95</td>\n",
              "      <td>6655</td>\n",
              "      <td>POINT (461053.212 516175.379)</td>\n",
              "    </tr>\n",
              "    <tr>\n",
              "      <th>...</th>\n",
              "      <td>...</td>\n",
              "      <td>...</td>\n",
              "      <td>...</td>\n",
              "      <td>...</td>\n",
              "      <td>...</td>\n",
              "      <td>...</td>\n",
              "      <td>...</td>\n",
              "      <td>...</td>\n",
              "      <td>...</td>\n",
              "      <td>...</td>\n",
              "    </tr>\n",
              "    <tr>\n",
              "      <th>6786</th>\n",
              "      <td>6787</td>\n",
              "      <td>E02004669</td>\n",
              "      <td>3697</td>\n",
              "      <td>1171</td>\n",
              "      <td>1156</td>\n",
              "      <td>946</td>\n",
              "      <td>433</td>\n",
              "      <td>93</td>\n",
              "      <td>7496</td>\n",
              "      <td>POINT (393469.114 227500.260)</td>\n",
              "    </tr>\n",
              "    <tr>\n",
              "      <th>6787</th>\n",
              "      <td>6788</td>\n",
              "      <td>E02006096</td>\n",
              "      <td>3893</td>\n",
              "      <td>1086</td>\n",
              "      <td>805</td>\n",
              "      <td>804</td>\n",
              "      <td>344</td>\n",
              "      <td>69</td>\n",
              "      <td>7001</td>\n",
              "      <td>POINT (332829.367 109219.836)</td>\n",
              "    </tr>\n",
              "    <tr>\n",
              "      <th>6788</th>\n",
              "      <td>6789</td>\n",
              "      <td>E02003088</td>\n",
              "      <td>4007</td>\n",
              "      <td>1257</td>\n",
              "      <td>1230</td>\n",
              "      <td>1194</td>\n",
              "      <td>577</td>\n",
              "      <td>179</td>\n",
              "      <td>8444</td>\n",
              "      <td>POINT (343276.340 158947.520)</td>\n",
              "    </tr>\n",
              "    <tr>\n",
              "      <th>6789</th>\n",
              "      <td>6790</td>\n",
              "      <td>E02006070</td>\n",
              "      <td>5161</td>\n",
              "      <td>1163</td>\n",
              "      <td>906</td>\n",
              "      <td>670</td>\n",
              "      <td>316</td>\n",
              "      <td>75</td>\n",
              "      <td>8291</td>\n",
              "      <td>POINT (331710.269 136880.200)</td>\n",
              "    </tr>\n",
              "    <tr>\n",
              "      <th>6790</th>\n",
              "      <td>6791</td>\n",
              "      <td>E02006679</td>\n",
              "      <td>6429</td>\n",
              "      <td>1744</td>\n",
              "      <td>1408</td>\n",
              "      <td>1177</td>\n",
              "      <td>560</td>\n",
              "      <td>96</td>\n",
              "      <td>11414</td>\n",
              "      <td>POINT (390561.555 162786.953)</td>\n",
              "    </tr>\n",
              "  </tbody>\n",
              "</table>\n",
              "<p>6791 rows × 10 columns</p>\n",
              "</div>"
            ],
            "text/plain": [
              "      objectid   msoa11cd  ...  total_pop                       geometry\n",
              "0            1  E02002536  ...       9771  POINT (445582.345 524175.434)\n",
              "1            2  E02002537  ...       8641  POINT (446777.151 524256.841)\n",
              "2            3  E02002534  ...       5693  POINT (461356.929 515118.900)\n",
              "3            4  E02002535  ...       9336  POINT (446117.027 525455.836)\n",
              "4            5  E02002532  ...       6655  POINT (461053.212 516175.379)\n",
              "...        ...        ...  ...        ...                            ...\n",
              "6786      6787  E02004669  ...       7496  POINT (393469.114 227500.260)\n",
              "6787      6788  E02006096  ...       7001  POINT (332829.367 109219.836)\n",
              "6788      6789  E02003088  ...       8444  POINT (343276.340 158947.520)\n",
              "6789      6790  E02006070  ...       8291  POINT (331710.269 136880.200)\n",
              "6790      6791  E02006679  ...      11414  POINT (390561.555 162786.953)\n",
              "\n",
              "[6791 rows x 10 columns]"
            ]
          },
          "metadata": {
            "tags": []
          },
          "execution_count": 9
        }
      ]
    },
    {
      "cell_type": "markdown",
      "metadata": {
        "id": "Z0AqIp_AhPjq"
      },
      "source": [
        "## 读取已有疫苗站数据"
      ]
    },
    {
      "cell_type": "code",
      "metadata": {
        "id": "Pjy06kMghPjq"
      },
      "source": [
        "site = gpd.read_file('https://github.com/LingruFeng/dissertation/blob/main/data_github/site_2_26_clean/vaccination_site.gpkg?raw=true')\n",
        "site = site.to_crs('epsg:27700')"
      ],
      "execution_count": null,
      "outputs": []
    },
    {
      "cell_type": "markdown",
      "metadata": {
        "id": "iL-YmixXhPjr"
      },
      "source": [
        "#读取疫苗站与MSOA之间驾驶距离数据"
      ]
    },
    {
      "cell_type": "code",
      "metadata": {
        "id": "Vsp6rvqIjqLP",
        "colab": {
          "base_uri": "https://localhost:8080/",
          "height": 416
        },
        "outputId": "a33bcb2b-8c67-47ac-cd97-a2b9e423ebbb"
      },
      "source": [
        "distance_cost_df = pd.read_csv('https://github.com/kdChen07/progress-and-problems/blob/main/data/distance555158.csv?raw=true')\n",
        "distance_cost_df = distance_cost_df.rename(columns={\"Distance in meter\": \"cost\", \"origin_id\": \"origin\", \"destination_id\": \"dest\"})\n",
        "distance_cost_df"
      ],
      "execution_count": null,
      "outputs": [
        {
          "output_type": "execute_result",
          "data": {
            "text/html": [
              "<div>\n",
              "<style scoped>\n",
              "    .dataframe tbody tr th:only-of-type {\n",
              "        vertical-align: middle;\n",
              "    }\n",
              "\n",
              "    .dataframe tbody tr th {\n",
              "        vertical-align: top;\n",
              "    }\n",
              "\n",
              "    .dataframe thead th {\n",
              "        text-align: right;\n",
              "    }\n",
              "</style>\n",
              "<table border=\"1\" class=\"dataframe\">\n",
              "  <thead>\n",
              "    <tr style=\"text-align: right;\">\n",
              "      <th></th>\n",
              "      <th>cost</th>\n",
              "      <th>origin</th>\n",
              "      <th>dest</th>\n",
              "    </tr>\n",
              "  </thead>\n",
              "  <tbody>\n",
              "    <tr>\n",
              "      <th>0</th>\n",
              "      <td>6712.7</td>\n",
              "      <td>E02002536</td>\n",
              "      <td>122</td>\n",
              "    </tr>\n",
              "    <tr>\n",
              "      <th>1</th>\n",
              "      <td>13881.2</td>\n",
              "      <td>E02002536</td>\n",
              "      <td>127</td>\n",
              "    </tr>\n",
              "    <tr>\n",
              "      <th>2</th>\n",
              "      <td>13631.4</td>\n",
              "      <td>E02002536</td>\n",
              "      <td>137</td>\n",
              "    </tr>\n",
              "    <tr>\n",
              "      <th>3</th>\n",
              "      <td>12395.5</td>\n",
              "      <td>E02002536</td>\n",
              "      <td>836</td>\n",
              "    </tr>\n",
              "    <tr>\n",
              "      <th>4</th>\n",
              "      <td>12641.2</td>\n",
              "      <td>E02002536</td>\n",
              "      <td>838</td>\n",
              "    </tr>\n",
              "    <tr>\n",
              "      <th>...</th>\n",
              "      <td>...</td>\n",
              "      <td>...</td>\n",
              "      <td>...</td>\n",
              "    </tr>\n",
              "    <tr>\n",
              "      <th>555153</th>\n",
              "      <td>18589.3</td>\n",
              "      <td>E02003088</td>\n",
              "      <td>1204</td>\n",
              "    </tr>\n",
              "    <tr>\n",
              "      <th>555154</th>\n",
              "      <td>8207.2</td>\n",
              "      <td>E02006070</td>\n",
              "      <td>1278</td>\n",
              "    </tr>\n",
              "    <tr>\n",
              "      <th>555155</th>\n",
              "      <td>20694.9</td>\n",
              "      <td>E02006679</td>\n",
              "      <td>1176</td>\n",
              "    </tr>\n",
              "    <tr>\n",
              "      <th>555156</th>\n",
              "      <td>11732.4</td>\n",
              "      <td>E02006679</td>\n",
              "      <td>1177</td>\n",
              "    </tr>\n",
              "    <tr>\n",
              "      <th>555157</th>\n",
              "      <td>18294.0</td>\n",
              "      <td>E02006679</td>\n",
              "      <td>1183</td>\n",
              "    </tr>\n",
              "  </tbody>\n",
              "</table>\n",
              "<p>555158 rows × 3 columns</p>\n",
              "</div>"
            ],
            "text/plain": [
              "           cost     origin  dest\n",
              "0        6712.7  E02002536   122\n",
              "1       13881.2  E02002536   127\n",
              "2       13631.4  E02002536   137\n",
              "3       12395.5  E02002536   836\n",
              "4       12641.2  E02002536   838\n",
              "...         ...        ...   ...\n",
              "555153  18589.3  E02003088  1204\n",
              "555154   8207.2  E02006070  1278\n",
              "555155  20694.9  E02006679  1176\n",
              "555156  11732.4  E02006679  1177\n",
              "555157  18294.0  E02006679  1183\n",
              "\n",
              "[555158 rows x 3 columns]"
            ]
          },
          "metadata": {
            "tags": []
          },
          "execution_count": 32
        }
      ]
    },
    {
      "cell_type": "markdown",
      "metadata": {
        "id": "ALCXExXzhPjt"
      },
      "source": [
        "# 计算10英里内无疫苗服务的MSOA"
      ]
    },
    {
      "cell_type": "code",
      "metadata": {
        "id": "BZe284X5hPjt"
      },
      "source": [
        "# Get demand MSOAs that have at least one vaccination site within 10 miles of distance\n",
        "distance_cost_df_test = distance_cost_df.loc[distance_cost_df['cost']<16093.44]\n",
        "distance_cost_df_test\n",
        "\n",
        "a = pd.unique(distance_cost_df_test['origin'])\n",
        "\n",
        "# Set 'MSOA_with_supply' field True if a place has at least one vaccination site within 10 miles of distance, otherwise False.\n",
        "b = pd.DataFrame()\n",
        "b['MSOA'] = a\n",
        "b['MSOA_with_supply'] = True\n",
        "\n",
        "MSOA_with_supply = pd.merge(left = MSOA,right = b, how='left', left_on='MSOA11CD', right_on='MSOA')\n",
        "MSOA_with_supply=MSOA_with_supply.fillna(False)"
      ],
      "execution_count": null,
      "outputs": []
    },
    {
      "cell_type": "code",
      "metadata": {
        "id": "vQT_S-0ajjV0",
        "colab": {
          "base_uri": "https://localhost:8080/",
          "height": 416
        },
        "outputId": "94730f23-6abb-4a03-ae38-a3668fd5c272"
      },
      "source": [
        "MSOA_with_supply"
      ],
      "execution_count": null,
      "outputs": [
        {
          "output_type": "execute_result",
          "data": {
            "text/html": [
              "<div>\n",
              "<style scoped>\n",
              "    .dataframe tbody tr th:only-of-type {\n",
              "        vertical-align: middle;\n",
              "    }\n",
              "\n",
              "    .dataframe tbody tr th {\n",
              "        vertical-align: top;\n",
              "    }\n",
              "\n",
              "    .dataframe thead th {\n",
              "        text-align: right;\n",
              "    }\n",
              "</style>\n",
              "<table border=\"1\" class=\"dataframe\">\n",
              "  <thead>\n",
              "    <tr style=\"text-align: right;\">\n",
              "      <th></th>\n",
              "      <th>MSOA11CD</th>\n",
              "      <th>MSOA11NM</th>\n",
              "      <th>pop0-49</th>\n",
              "      <th>pop50-59</th>\n",
              "      <th>pop60-69</th>\n",
              "      <th>pop70-79</th>\n",
              "      <th>pop80-89</th>\n",
              "      <th>pop90+</th>\n",
              "      <th>total_pop</th>\n",
              "      <th>geometry</th>\n",
              "      <th>MSOA</th>\n",
              "      <th>MSOA_with_supply</th>\n",
              "    </tr>\n",
              "  </thead>\n",
              "  <tbody>\n",
              "    <tr>\n",
              "      <th>0</th>\n",
              "      <td>E02000001</td>\n",
              "      <td>City of London 001</td>\n",
              "      <td>6206</td>\n",
              "      <td>1339</td>\n",
              "      <td>1025</td>\n",
              "      <td>720</td>\n",
              "      <td>313</td>\n",
              "      <td>118</td>\n",
              "      <td>9721</td>\n",
              "      <td>POLYGON ((532947.881 181895.061, 533412.520 18...</td>\n",
              "      <td>E02000001</td>\n",
              "      <td>True</td>\n",
              "    </tr>\n",
              "    <tr>\n",
              "      <th>1</th>\n",
              "      <td>E02000002</td>\n",
              "      <td>Barking and Dagenham 001</td>\n",
              "      <td>5621</td>\n",
              "      <td>835</td>\n",
              "      <td>505</td>\n",
              "      <td>401</td>\n",
              "      <td>268</td>\n",
              "      <td>105</td>\n",
              "      <td>7735</td>\n",
              "      <td>POLYGON ((549002.599 190873.761, 549122.828 18...</td>\n",
              "      <td>E02000002</td>\n",
              "      <td>True</td>\n",
              "    </tr>\n",
              "    <tr>\n",
              "      <th>2</th>\n",
              "      <td>E02000003</td>\n",
              "      <td>Barking and Dagenham 002</td>\n",
              "      <td>8062</td>\n",
              "      <td>1272</td>\n",
              "      <td>886</td>\n",
              "      <td>575</td>\n",
              "      <td>301</td>\n",
              "      <td>78</td>\n",
              "      <td>11174</td>\n",
              "      <td>POLYGON ((548956.371 189063.484, 549087.474 18...</td>\n",
              "      <td>E02000003</td>\n",
              "      <td>True</td>\n",
              "    </tr>\n",
              "    <tr>\n",
              "      <th>3</th>\n",
              "      <td>E02000004</td>\n",
              "      <td>Barking and Dagenham 003</td>\n",
              "      <td>4401</td>\n",
              "      <td>866</td>\n",
              "      <td>598</td>\n",
              "      <td>444</td>\n",
              "      <td>262</td>\n",
              "      <td>116</td>\n",
              "      <td>6687</td>\n",
              "      <td>POLYGON ((551945.701 186027.855, 551672.764 18...</td>\n",
              "      <td>E02000004</td>\n",
              "      <td>True</td>\n",
              "    </tr>\n",
              "    <tr>\n",
              "      <th>4</th>\n",
              "      <td>E02000005</td>\n",
              "      <td>Barking and Dagenham 004</td>\n",
              "      <td>7982</td>\n",
              "      <td>1144</td>\n",
              "      <td>629</td>\n",
              "      <td>413</td>\n",
              "      <td>211</td>\n",
              "      <td>53</td>\n",
              "      <td>10432</td>\n",
              "      <td>POLYGON ((549420.553 187442.648, 548985.314 18...</td>\n",
              "      <td>E02000005</td>\n",
              "      <td>True</td>\n",
              "    </tr>\n",
              "    <tr>\n",
              "      <th>...</th>\n",
              "      <td>...</td>\n",
              "      <td>...</td>\n",
              "      <td>...</td>\n",
              "      <td>...</td>\n",
              "      <td>...</td>\n",
              "      <td>...</td>\n",
              "      <td>...</td>\n",
              "      <td>...</td>\n",
              "      <td>...</td>\n",
              "      <td>...</td>\n",
              "      <td>...</td>\n",
              "      <td>...</td>\n",
              "    </tr>\n",
              "    <tr>\n",
              "      <th>6786</th>\n",
              "      <td>E02006930</td>\n",
              "      <td>Greenwich 037</td>\n",
              "      <td>7425</td>\n",
              "      <td>741</td>\n",
              "      <td>473</td>\n",
              "      <td>305</td>\n",
              "      <td>167</td>\n",
              "      <td>16</td>\n",
              "      <td>9127</td>\n",
              "      <td>POLYGON ((540585.068 178133.897, 540368.424 17...</td>\n",
              "      <td>E02006930</td>\n",
              "      <td>True</td>\n",
              "    </tr>\n",
              "    <tr>\n",
              "      <th>6787</th>\n",
              "      <td>E02006931</td>\n",
              "      <td>Greenwich 038</td>\n",
              "      <td>7267</td>\n",
              "      <td>1024</td>\n",
              "      <td>672</td>\n",
              "      <td>510</td>\n",
              "      <td>255</td>\n",
              "      <td>78</td>\n",
              "      <td>9806</td>\n",
              "      <td>POLYGON ((538775.968 177841.277, 539072.243 17...</td>\n",
              "      <td>E02006931</td>\n",
              "      <td>True</td>\n",
              "    </tr>\n",
              "    <tr>\n",
              "      <th>6788</th>\n",
              "      <td>E02006932</td>\n",
              "      <td>Liverpool 060</td>\n",
              "      <td>16963</td>\n",
              "      <td>264</td>\n",
              "      <td>173</td>\n",
              "      <td>80</td>\n",
              "      <td>25</td>\n",
              "      <td>10</td>\n",
              "      <td>17515</td>\n",
              "      <td>POLYGON ((335757.632 390987.474, 335739.219 39...</td>\n",
              "      <td>E02006932</td>\n",
              "      <td>True</td>\n",
              "    </tr>\n",
              "    <tr>\n",
              "      <th>6789</th>\n",
              "      <td>E02006933</td>\n",
              "      <td>Liverpool 061</td>\n",
              "      <td>7130</td>\n",
              "      <td>603</td>\n",
              "      <td>485</td>\n",
              "      <td>220</td>\n",
              "      <td>97</td>\n",
              "      <td>4</td>\n",
              "      <td>8539</td>\n",
              "      <td>POLYGON ((335096.788 389638.891, 334715.024 38...</td>\n",
              "      <td>E02006933</td>\n",
              "      <td>True</td>\n",
              "    </tr>\n",
              "    <tr>\n",
              "      <th>6790</th>\n",
              "      <td>E02006934</td>\n",
              "      <td>Liverpool 062</td>\n",
              "      <td>7653</td>\n",
              "      <td>372</td>\n",
              "      <td>216</td>\n",
              "      <td>98</td>\n",
              "      <td>34</td>\n",
              "      <td>8</td>\n",
              "      <td>8381</td>\n",
              "      <td>POLYGON ((334805.261 391362.101, 334590.333 39...</td>\n",
              "      <td>E02006934</td>\n",
              "      <td>True</td>\n",
              "    </tr>\n",
              "  </tbody>\n",
              "</table>\n",
              "<p>6791 rows × 12 columns</p>\n",
              "</div>"
            ],
            "text/plain": [
              "       MSOA11CD                  MSOA11NM  ...       MSOA  MSOA_with_supply\n",
              "0     E02000001        City of London 001  ...  E02000001              True\n",
              "1     E02000002  Barking and Dagenham 001  ...  E02000002              True\n",
              "2     E02000003  Barking and Dagenham 002  ...  E02000003              True\n",
              "3     E02000004  Barking and Dagenham 003  ...  E02000004              True\n",
              "4     E02000005  Barking and Dagenham 004  ...  E02000005              True\n",
              "...         ...                       ...  ...        ...               ...\n",
              "6786  E02006930             Greenwich 037  ...  E02006930              True\n",
              "6787  E02006931             Greenwich 038  ...  E02006931              True\n",
              "6788  E02006932             Liverpool 060  ...  E02006932              True\n",
              "6789  E02006933             Liverpool 061  ...  E02006933              True\n",
              "6790  E02006934             Liverpool 062  ...  E02006934              True\n",
              "\n",
              "[6791 rows x 12 columns]"
            ]
          },
          "metadata": {
            "tags": []
          },
          "execution_count": 24
        }
      ]
    },
    {
      "cell_type": "markdown",
      "metadata": {
        "id": "gbUiQBGuhPjt"
      },
      "source": [
        "### Count the number of MSOAs that are lack of vaccination service"
      ]
    },
    {
      "cell_type": "code",
      "metadata": {
        "colab": {
          "base_uri": "https://localhost:8080/"
        },
        "id": "fPjIEq5RhPju",
        "outputId": "06cea042-99ff-48c5-b649-2702be0f61d2"
      },
      "source": [
        "m = MSOA_with_supply[MSOA_with_supply['MSOA_with_supply']==False]\n",
        "print('There are',m['MSOA11CD'].count(),'MSOAs that are lack of vaccination service setting 10 miles as the vaccination service radius threshold.')"
      ],
      "execution_count": null,
      "outputs": [
        {
          "output_type": "stream",
          "text": [
            "There are 383 MSOAs that are lack of vaccination service setting 10 miles as the vaccination service radius threshold.\n"
          ],
          "name": "stdout"
        }
      ]
    },
    {
      "cell_type": "markdown",
      "metadata": {
        "id": "ouIV8K8UhPjv"
      },
      "source": [
        "### Plot the regions that are lack of service"
      ]
    },
    {
      "cell_type": "code",
      "metadata": {
        "id": "9kCV_BrohPjw"
      },
      "source": [
        "# Get the boundary of England\n",
        "MSOA_with_supply['dissolve']=1\n",
        "MSOA_outline = MSOA_with_supply.dissolve(by='dissolve')"
      ],
      "execution_count": null,
      "outputs": []
    },
    {
      "cell_type": "code",
      "metadata": {
        "colab": {
          "base_uri": "https://localhost:8080/",
          "height": 613
        },
        "id": "1lz3tXNPhPjx",
        "outputId": "3a537e48-a113-4701-e52e-1858fa593dfc"
      },
      "source": [
        "# Plot the map\n",
        "f,ax = plt.subplots(figsize=(10,10))\n",
        "m.plot(figsize = (10,10),ax=ax)\n",
        "MSOA_outline.plot(edgecolor=(0.8, 0, 0,0.8), facecolor='none', linewidth=1,ax=ax)\n",
        "ax.axis('off')\n",
        "ax.set_title('MSOAs Lack of Vaccination Service', fontdict={'fontsize':'20', 'fontweight':'3'})"
      ],
      "execution_count": null,
      "outputs": [
        {
          "output_type": "execute_result",
          "data": {
            "text/plain": [
              "Text(0.5, 1.0, 'MSOAs Lack of Vaccination Service')"
            ]
          },
          "metadata": {
            "tags": []
          },
          "execution_count": 28
        },
        {
          "output_type": "display_data",
          "data": {
            "image/png": "[encoded data removed]",
            "text/plain": [
              "<Figure size 720x720 with 1 Axes>"
            ]
          },
          "metadata": {
            "tags": [],
            "needs_background": "light"
          }
        }
      ]
    }
  ]
}