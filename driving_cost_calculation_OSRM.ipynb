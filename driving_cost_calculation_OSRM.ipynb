{
  "nbformat": 4,
  "nbformat_minor": 0,
  "metadata": {
    "colab": {
      "name": "driving_cost_calculation_OSRM.ipynb",
      "provenance": [],
      "collapsed_sections": [
        "bBF-_IcK29fi",
        "-fTRJ2JS29fj",
        "xkA93PsP29fm",
        "VbMUs1RI29fo",
        "IVQXRTHM29fp",
        "ylMYSA3F29fq",
        "1nbH7uwj29fr",
        "57rGyhjk29fr",
        "vnkI3Xoj29fs",
        "ZbhCnyTO29ft",
        "oJ00xZr129fu",
        "zeJ5cJuH29fv",
        "hl6xLO_-29fv",
        "atekr2p629fw",
        "zXUqA-iW29fx",
        "6L-cEUsg29fx",
        "wQ_VH9C829fy",
        "3z2v_OnG29fy",
        "qEdZ1CXa29fz",
        "jKPgKq2Y29fz",
        "6h5ZDxZC29f0"
      ],
      "include_colab_link": true
    },
    "kernelspec": {
      "display_name": "Python 3",
      "language": "python",
      "name": "python3"
    },
    "language_info": {
      "codemirror_mode": {
        "name": "ipython",
        "version": 3
      },
      "file_extension": ".py",
      "mimetype": "text/x-python",
      "name": "python",
      "nbconvert_exporter": "python",
      "pygments_lexer": "ipython3",
      "version": "3.8.8"
    }
  },
  "cells": [
    {
      "cell_type": "markdown",
      "metadata": {
        "id": "view-in-github",
        "colab_type": "text"
      },
      "source": [
        "<a href=\"https://colab.research.google.com/github/kdChen07/progress-and-problems/blob/main/driving_cost_calculation_OSRM.ipynb\" target=\"_parent\"><img src=\"https://colab.research.google.com/assets/colab-badge.svg\" alt=\"Open In Colab\"/></a>"
      ]
    },
    {
      "cell_type": "markdown",
      "metadata": {
        "id": "HgBvWm5p29fU"
      },
      "source": [
        "#使用OSRM（开源路由机器）计算驾驶距离，并将输出作为csv文件\n",
        "\n",
        "##--将用于距离矩阵计算的数据子集--"
      ]
    },
    {
      "cell_type": "code",
      "metadata": {
        "colab": {
          "base_uri": "https://localhost:8080/"
        },
        "id": "lJpl-7Dx29fW",
        "outputId": "c1df2052-f7b4-458d-bb05-2202bc99f079"
      },
      "source": [
        "!pip install access\n",
        "!pip install logging\n",
        "!pip install geopandas"
      ],
      "execution_count": 1,
      "outputs": [
        {
          "output_type": "stream",
          "text": [
            "Collecting access\n",
            "  Downloading access-1.1.3-py3-none-any.whl (21 kB)\n",
            "Requirement already satisfied: numpy>=1.3 in /usr/local/lib/python3.7/dist-packages (from access) (1.19.5)\n",
            "Requirement already satisfied: pandas>=0.23.4 in /usr/local/lib/python3.7/dist-packages (from access) (1.1.5)\n",
            "Requirement already satisfied: pytz>=2017.2 in /usr/local/lib/python3.7/dist-packages (from pandas>=0.23.4->access) (2018.9)\n",
            "Requirement already satisfied: python-dateutil>=2.7.3 in /usr/local/lib/python3.7/dist-packages (from pandas>=0.23.4->access) (2.8.2)\n",
            "Requirement already satisfied: six>=1.5 in /usr/local/lib/python3.7/dist-packages (from python-dateutil>=2.7.3->pandas>=0.23.4->access) (1.15.0)\n",
            "Installing collected packages: access\n",
            "Successfully installed access-1.1.3\n",
            "Collecting logging\n",
            "  Downloading logging-0.4.9.6.tar.gz (96 kB)\n",
            "\u001b[K     |████████████████████████████████| 96 kB 587 kB/s \n",
            "\u001b[33mWARNING: Discarding https://files.pythonhosted.org/packages/93/4b/979db9e44be09f71e85c9c8cfc42f258adfb7d93ce01deed2788b2948919/logging-0.4.9.6.tar.gz#sha256=26f6b50773f085042d301085bd1bf5d9f3735704db9f37c1ce6d8b85c38f2417 (from https://pypi.org/simple/logging/). Command errored out with exit status 1: python setup.py egg_info Check the logs for full command output.\u001b[0m\n",
            "\u001b[31mERROR: Could not find a version that satisfies the requirement logging (from versions: 0.4.9.6)\u001b[0m\n",
            "\u001b[31mERROR: No matching distribution found for logging\u001b[0m\n",
            "\u001b[?25hCollecting geopandas\n",
            "  Downloading geopandas-0.9.0-py2.py3-none-any.whl (994 kB)\n",
            "\u001b[K     |████████████████████████████████| 994 kB 425 kB/s \n",
            "\u001b[?25hRequirement already satisfied: shapely>=1.6 in /usr/local/lib/python3.7/dist-packages (from geopandas) (1.7.1)\n",
            "Collecting fiona>=1.8\n",
            "  Downloading Fiona-1.8.20-cp37-cp37m-manylinux1_x86_64.whl (15.4 MB)\n",
            "\u001b[K     |████████████████████████████████| 15.4 MB 35 kB/s \n",
            "\u001b[?25hRequirement already satisfied: pandas>=0.24.0 in /usr/local/lib/python3.7/dist-packages (from geopandas) (1.1.5)\n",
            "Collecting pyproj>=2.2.0\n",
            "  Downloading pyproj-3.1.0-cp37-cp37m-manylinux2010_x86_64.whl (6.6 MB)\n",
            "\u001b[K     |████████████████████████████████| 6.6 MB 5.5 MB/s \n",
            "\u001b[?25hCollecting munch\n",
            "  Downloading munch-2.5.0-py2.py3-none-any.whl (10 kB)\n",
            "Requirement already satisfied: attrs>=17 in /usr/local/lib/python3.7/dist-packages (from fiona>=1.8->geopandas) (21.2.0)\n",
            "Collecting cligj>=0.5\n",
            "  Downloading cligj-0.7.2-py3-none-any.whl (7.1 kB)\n",
            "Requirement already satisfied: click>=4.0 in /usr/local/lib/python3.7/dist-packages (from fiona>=1.8->geopandas) (7.1.2)\n",
            "Collecting click-plugins>=1.0\n",
            "  Downloading click_plugins-1.1.1-py2.py3-none-any.whl (7.5 kB)\n",
            "Requirement already satisfied: certifi in /usr/local/lib/python3.7/dist-packages (from fiona>=1.8->geopandas) (2021.5.30)\n",
            "Requirement already satisfied: setuptools in /usr/local/lib/python3.7/dist-packages (from fiona>=1.8->geopandas) (57.2.0)\n",
            "Requirement already satisfied: six>=1.7 in /usr/local/lib/python3.7/dist-packages (from fiona>=1.8->geopandas) (1.15.0)\n",
            "Requirement already satisfied: numpy>=1.15.4 in /usr/local/lib/python3.7/dist-packages (from pandas>=0.24.0->geopandas) (1.19.5)\n",
            "Requirement already satisfied: python-dateutil>=2.7.3 in /usr/local/lib/python3.7/dist-packages (from pandas>=0.24.0->geopandas) (2.8.2)\n",
            "Requirement already satisfied: pytz>=2017.2 in /usr/local/lib/python3.7/dist-packages (from pandas>=0.24.0->geopandas) (2018.9)\n",
            "Installing collected packages: munch, cligj, click-plugins, pyproj, fiona, geopandas\n",
            "Successfully installed click-plugins-1.1.1 cligj-0.7.2 fiona-1.8.20 geopandas-0.9.0 munch-2.5.0 pyproj-3.1.0\n"
          ],
          "name": "stdout"
        }
      ]
    },
    {
      "cell_type": "code",
      "metadata": {
        "id": "fjyc_4hT29fY"
      },
      "source": [
        "from access import Access, weights, datasets\n",
        "import logging\n",
        "import pandas as pd\n",
        "import geopandas as gpd\n",
        "\n",
        "import requests\n",
        "import json"
      ],
      "execution_count": 2,
      "outputs": []
    },
    {
      "cell_type": "markdown",
      "metadata": {
        "id": "-xuy4vm-29fZ"
      },
      "source": [
        "## Get the centroid of MSOA (demand points)"
      ]
    },
    {
      "cell_type": "code",
      "metadata": {
        "id": "haMWhaHf29fZ"
      },
      "source": [
        "MSOA_points=gpd.read_file('https://github.com/LingruFeng/dissertation/blob/main/data_github/England_basemap/MSOA_Population_Weighted_Centroids_with_population.gpkg?raw=true')\n",
        "#MSOA_points = MSOA_points.to_crs('epsg:27700')\n",
        "MSOA_points = MSOA_points.to_crs('epsg:4326')\n",
        "MSOA_points['MSOA_lon'] = MSOA_points['geometry'].x\n",
        "MSOA_points['MSOA_lat'] = MSOA_points['geometry'].y"
      ],
      "execution_count": 3,
      "outputs": []
    },
    {
      "cell_type": "code",
      "metadata": {
        "colab": {
          "base_uri": "https://localhost:8080/",
          "height": 416
        },
        "id": "l3EYhgoI29fa",
        "outputId": "046967df-a542-4527-ea82-f5ff7b46e170"
      },
      "source": [
        "MSOA_points"
      ],
      "execution_count": 4,
      "outputs": [
        {
          "output_type": "execute_result",
          "data": {
            "text/html": [
              "<div>\n",
              "<style scoped>\n",
              "    .dataframe tbody tr th:only-of-type {\n",
              "        vertical-align: middle;\n",
              "    }\n",
              "\n",
              "    .dataframe tbody tr th {\n",
              "        vertical-align: top;\n",
              "    }\n",
              "\n",
              "    .dataframe thead th {\n",
              "        text-align: right;\n",
              "    }\n",
              "</style>\n",
              "<table border=\"1\" class=\"dataframe\">\n",
              "  <thead>\n",
              "    <tr style=\"text-align: right;\">\n",
              "      <th></th>\n",
              "      <th>objectid</th>\n",
              "      <th>msoa11cd</th>\n",
              "      <th>pop0-49</th>\n",
              "      <th>pop50-59</th>\n",
              "      <th>pop60-69</th>\n",
              "      <th>pop70-79</th>\n",
              "      <th>pop80-89</th>\n",
              "      <th>pop90+</th>\n",
              "      <th>total_pop</th>\n",
              "      <th>geometry</th>\n",
              "      <th>MSOA_lon</th>\n",
              "      <th>MSOA_lat</th>\n",
              "    </tr>\n",
              "  </thead>\n",
              "  <tbody>\n",
              "    <tr>\n",
              "      <th>0</th>\n",
              "      <td>1</td>\n",
              "      <td>E02002536</td>\n",
              "      <td>5688</td>\n",
              "      <td>1416</td>\n",
              "      <td>1132</td>\n",
              "      <td>891</td>\n",
              "      <td>540</td>\n",
              "      <td>104</td>\n",
              "      <td>9771</td>\n",
              "      <td>POINT (-1.29577 54.61069)</td>\n",
              "      <td>-1.295773</td>\n",
              "      <td>54.610691</td>\n",
              "    </tr>\n",
              "    <tr>\n",
              "      <th>1</th>\n",
              "      <td>2</td>\n",
              "      <td>E02002537</td>\n",
              "      <td>5578</td>\n",
              "      <td>1251</td>\n",
              "      <td>836</td>\n",
              "      <td>545</td>\n",
              "      <td>386</td>\n",
              "      <td>45</td>\n",
              "      <td>8641</td>\n",
              "      <td>POINT (-1.27726 54.61131)</td>\n",
              "      <td>-1.277263</td>\n",
              "      <td>54.611313</td>\n",
              "    </tr>\n",
              "    <tr>\n",
              "      <th>2</th>\n",
              "      <td>3</td>\n",
              "      <td>E02002534</td>\n",
              "      <td>2547</td>\n",
              "      <td>824</td>\n",
              "      <td>863</td>\n",
              "      <td>967</td>\n",
              "      <td>407</td>\n",
              "      <td>85</td>\n",
              "      <td>5693</td>\n",
              "      <td>POINT (-1.05346 54.52765)</td>\n",
              "      <td>-1.053458</td>\n",
              "      <td>54.527646</td>\n",
              "    </tr>\n",
              "    <tr>\n",
              "      <th>3</th>\n",
              "      <td>4</td>\n",
              "      <td>E02002535</td>\n",
              "      <td>4959</td>\n",
              "      <td>1636</td>\n",
              "      <td>1385</td>\n",
              "      <td>870</td>\n",
              "      <td>416</td>\n",
              "      <td>70</td>\n",
              "      <td>9336</td>\n",
              "      <td>POINT (-1.28729 54.62215)</td>\n",
              "      <td>-1.287295</td>\n",
              "      <td>54.622148</td>\n",
              "    </tr>\n",
              "    <tr>\n",
              "      <th>4</th>\n",
              "      <td>5</td>\n",
              "      <td>E02002532</td>\n",
              "      <td>3783</td>\n",
              "      <td>970</td>\n",
              "      <td>810</td>\n",
              "      <td>655</td>\n",
              "      <td>342</td>\n",
              "      <td>95</td>\n",
              "      <td>6655</td>\n",
              "      <td>POINT (-1.05793 54.53718)</td>\n",
              "      <td>-1.057931</td>\n",
              "      <td>54.537176</td>\n",
              "    </tr>\n",
              "    <tr>\n",
              "      <th>...</th>\n",
              "      <td>...</td>\n",
              "      <td>...</td>\n",
              "      <td>...</td>\n",
              "      <td>...</td>\n",
              "      <td>...</td>\n",
              "      <td>...</td>\n",
              "      <td>...</td>\n",
              "      <td>...</td>\n",
              "      <td>...</td>\n",
              "      <td>...</td>\n",
              "      <td>...</td>\n",
              "      <td>...</td>\n",
              "    </tr>\n",
              "    <tr>\n",
              "      <th>6786</th>\n",
              "      <td>6787</td>\n",
              "      <td>E02004669</td>\n",
              "      <td>3697</td>\n",
              "      <td>1171</td>\n",
              "      <td>1156</td>\n",
              "      <td>946</td>\n",
              "      <td>433</td>\n",
              "      <td>93</td>\n",
              "      <td>7496</td>\n",
              "      <td>POINT (-2.09642 51.94596)</td>\n",
              "      <td>-2.096424</td>\n",
              "      <td>51.945960</td>\n",
              "    </tr>\n",
              "    <tr>\n",
              "      <th>6787</th>\n",
              "      <td>6788</td>\n",
              "      <td>E02006096</td>\n",
              "      <td>3893</td>\n",
              "      <td>1086</td>\n",
              "      <td>805</td>\n",
              "      <td>804</td>\n",
              "      <td>344</td>\n",
              "      <td>69</td>\n",
              "      <td>7001</td>\n",
              "      <td>POINT (-2.95612 50.87855)</td>\n",
              "      <td>-2.956122</td>\n",
              "      <td>50.878552</td>\n",
              "    </tr>\n",
              "    <tr>\n",
              "      <th>6788</th>\n",
              "      <td>6789</td>\n",
              "      <td>E02003088</td>\n",
              "      <td>4007</td>\n",
              "      <td>1257</td>\n",
              "      <td>1230</td>\n",
              "      <td>1194</td>\n",
              "      <td>577</td>\n",
              "      <td>179</td>\n",
              "      <td>8444</td>\n",
              "      <td>POINT (-2.81548 51.32678)</td>\n",
              "      <td>-2.815479</td>\n",
              "      <td>51.326784</td>\n",
              "    </tr>\n",
              "    <tr>\n",
              "      <th>6789</th>\n",
              "      <td>6790</td>\n",
              "      <td>E02006070</td>\n",
              "      <td>5161</td>\n",
              "      <td>1163</td>\n",
              "      <td>906</td>\n",
              "      <td>670</td>\n",
              "      <td>316</td>\n",
              "      <td>75</td>\n",
              "      <td>8291</td>\n",
              "      <td>POINT (-2.97724 51.12711)</td>\n",
              "      <td>-2.977239</td>\n",
              "      <td>51.127113</td>\n",
              "    </tr>\n",
              "    <tr>\n",
              "      <th>6790</th>\n",
              "      <td>6791</td>\n",
              "      <td>E02006679</td>\n",
              "      <td>6429</td>\n",
              "      <td>1744</td>\n",
              "      <td>1408</td>\n",
              "      <td>1177</td>\n",
              "      <td>560</td>\n",
              "      <td>96</td>\n",
              "      <td>11414</td>\n",
              "      <td>POINT (-2.13696 51.36407)</td>\n",
              "      <td>-2.136956</td>\n",
              "      <td>51.364067</td>\n",
              "    </tr>\n",
              "  </tbody>\n",
              "</table>\n",
              "<p>6791 rows × 12 columns</p>\n",
              "</div>"
            ],
            "text/plain": [
              "      objectid   msoa11cd  ...  MSOA_lon   MSOA_lat\n",
              "0            1  E02002536  ... -1.295773  54.610691\n",
              "1            2  E02002537  ... -1.277263  54.611313\n",
              "2            3  E02002534  ... -1.053458  54.527646\n",
              "3            4  E02002535  ... -1.287295  54.622148\n",
              "4            5  E02002532  ... -1.057931  54.537176\n",
              "...        ...        ...  ...       ...        ...\n",
              "6786      6787  E02004669  ... -2.096424  51.945960\n",
              "6787      6788  E02006096  ... -2.956122  50.878552\n",
              "6788      6789  E02003088  ... -2.815479  51.326784\n",
              "6789      6790  E02006070  ... -2.977239  51.127113\n",
              "6790      6791  E02006679  ... -2.136956  51.364067\n",
              "\n",
              "[6791 rows x 12 columns]"
            ]
          },
          "metadata": {
            "tags": []
          },
          "execution_count": 4
        }
      ]
    },
    {
      "cell_type": "code",
      "metadata": {
        "colab": {
          "base_uri": "https://localhost:8080/",
          "height": 416
        },
        "id": "INZA9VYY29fb",
        "outputId": "338f4635-653d-480c-aff9-074d826d18b9"
      },
      "source": [
        "MSOA_points_df = MSOA_points[['msoa11cd','total_pop','MSOA_lon','MSOA_lat']]\n",
        "MSOA_points_df"
      ],
      "execution_count": 5,
      "outputs": [
        {
          "output_type": "execute_result",
          "data": {
            "text/html": [
              "<div>\n",
              "<style scoped>\n",
              "    .dataframe tbody tr th:only-of-type {\n",
              "        vertical-align: middle;\n",
              "    }\n",
              "\n",
              "    .dataframe tbody tr th {\n",
              "        vertical-align: top;\n",
              "    }\n",
              "\n",
              "    .dataframe thead th {\n",
              "        text-align: right;\n",
              "    }\n",
              "</style>\n",
              "<table border=\"1\" class=\"dataframe\">\n",
              "  <thead>\n",
              "    <tr style=\"text-align: right;\">\n",
              "      <th></th>\n",
              "      <th>msoa11cd</th>\n",
              "      <th>total_pop</th>\n",
              "      <th>MSOA_lon</th>\n",
              "      <th>MSOA_lat</th>\n",
              "    </tr>\n",
              "  </thead>\n",
              "  <tbody>\n",
              "    <tr>\n",
              "      <th>0</th>\n",
              "      <td>E02002536</td>\n",
              "      <td>9771</td>\n",
              "      <td>-1.295773</td>\n",
              "      <td>54.610691</td>\n",
              "    </tr>\n",
              "    <tr>\n",
              "      <th>1</th>\n",
              "      <td>E02002537</td>\n",
              "      <td>8641</td>\n",
              "      <td>-1.277263</td>\n",
              "      <td>54.611313</td>\n",
              "    </tr>\n",
              "    <tr>\n",
              "      <th>2</th>\n",
              "      <td>E02002534</td>\n",
              "      <td>5693</td>\n",
              "      <td>-1.053458</td>\n",
              "      <td>54.527646</td>\n",
              "    </tr>\n",
              "    <tr>\n",
              "      <th>3</th>\n",
              "      <td>E02002535</td>\n",
              "      <td>9336</td>\n",
              "      <td>-1.287295</td>\n",
              "      <td>54.622148</td>\n",
              "    </tr>\n",
              "    <tr>\n",
              "      <th>4</th>\n",
              "      <td>E02002532</td>\n",
              "      <td>6655</td>\n",
              "      <td>-1.057931</td>\n",
              "      <td>54.537176</td>\n",
              "    </tr>\n",
              "    <tr>\n",
              "      <th>...</th>\n",
              "      <td>...</td>\n",
              "      <td>...</td>\n",
              "      <td>...</td>\n",
              "      <td>...</td>\n",
              "    </tr>\n",
              "    <tr>\n",
              "      <th>6786</th>\n",
              "      <td>E02004669</td>\n",
              "      <td>7496</td>\n",
              "      <td>-2.096424</td>\n",
              "      <td>51.945960</td>\n",
              "    </tr>\n",
              "    <tr>\n",
              "      <th>6787</th>\n",
              "      <td>E02006096</td>\n",
              "      <td>7001</td>\n",
              "      <td>-2.956122</td>\n",
              "      <td>50.878552</td>\n",
              "    </tr>\n",
              "    <tr>\n",
              "      <th>6788</th>\n",
              "      <td>E02003088</td>\n",
              "      <td>8444</td>\n",
              "      <td>-2.815479</td>\n",
              "      <td>51.326784</td>\n",
              "    </tr>\n",
              "    <tr>\n",
              "      <th>6789</th>\n",
              "      <td>E02006070</td>\n",
              "      <td>8291</td>\n",
              "      <td>-2.977239</td>\n",
              "      <td>51.127113</td>\n",
              "    </tr>\n",
              "    <tr>\n",
              "      <th>6790</th>\n",
              "      <td>E02006679</td>\n",
              "      <td>11414</td>\n",
              "      <td>-2.136956</td>\n",
              "      <td>51.364067</td>\n",
              "    </tr>\n",
              "  </tbody>\n",
              "</table>\n",
              "<p>6791 rows × 4 columns</p>\n",
              "</div>"
            ],
            "text/plain": [
              "       msoa11cd  total_pop  MSOA_lon   MSOA_lat\n",
              "0     E02002536       9771 -1.295773  54.610691\n",
              "1     E02002537       8641 -1.277263  54.611313\n",
              "2     E02002534       5693 -1.053458  54.527646\n",
              "3     E02002535       9336 -1.287295  54.622148\n",
              "4     E02002532       6655 -1.057931  54.537176\n",
              "...         ...        ...       ...        ...\n",
              "6786  E02004669       7496 -2.096424  51.945960\n",
              "6787  E02006096       7001 -2.956122  50.878552\n",
              "6788  E02003088       8444 -2.815479  51.326784\n",
              "6789  E02006070       8291 -2.977239  51.127113\n",
              "6790  E02006679      11414 -2.136956  51.364067\n",
              "\n",
              "[6791 rows x 4 columns]"
            ]
          },
          "metadata": {
            "tags": []
          },
          "execution_count": 5
        }
      ]
    },
    {
      "cell_type": "markdown",
      "metadata": {
        "id": "7ih0cLNk29fb"
      },
      "source": [
        "## read vaccination site point data (supply points)"
      ]
    },
    {
      "cell_type": "code",
      "metadata": {
        "id": "2MASKHek29fc"
      },
      "source": [
        "site = gpd.read_file('https://github.com/LingruFeng/dissertation/blob/main/data_github/site_2_26_clean/vaccination_site.gpkg?raw=true')\n",
        "# site = site.to_crs('epsg:27700')\n",
        "site = site.to_crs('epsg:4326')\n",
        "site['site_lon'] = site['geometry'].x\n",
        "site['site_lat'] = site['geometry'].y"
      ],
      "execution_count": 6,
      "outputs": []
    },
    {
      "cell_type": "code",
      "metadata": {
        "colab": {
          "base_uri": "https://localhost:8080/",
          "height": 416
        },
        "id": "08N-DxLp29fd",
        "outputId": "79d34246-c15d-49be-a341-ec3cae141cf4"
      },
      "source": [
        "site_df = site[['index','site_lon','site_lat']]\n",
        "site_df"
      ],
      "execution_count": 7,
      "outputs": [
        {
          "output_type": "execute_result",
          "data": {
            "text/html": [
              "<div>\n",
              "<style scoped>\n",
              "    .dataframe tbody tr th:only-of-type {\n",
              "        vertical-align: middle;\n",
              "    }\n",
              "\n",
              "    .dataframe tbody tr th {\n",
              "        vertical-align: top;\n",
              "    }\n",
              "\n",
              "    .dataframe thead th {\n",
              "        text-align: right;\n",
              "    }\n",
              "</style>\n",
              "<table border=\"1\" class=\"dataframe\">\n",
              "  <thead>\n",
              "    <tr style=\"text-align: right;\">\n",
              "      <th></th>\n",
              "      <th>index</th>\n",
              "      <th>site_lon</th>\n",
              "      <th>site_lat</th>\n",
              "    </tr>\n",
              "  </thead>\n",
              "  <tbody>\n",
              "    <tr>\n",
              "      <th>0</th>\n",
              "      <td>0</td>\n",
              "      <td>-0.471211</td>\n",
              "      <td>52.128622</td>\n",
              "    </tr>\n",
              "    <tr>\n",
              "      <th>1</th>\n",
              "      <td>1</td>\n",
              "      <td>-0.474637</td>\n",
              "      <td>51.894793</td>\n",
              "    </tr>\n",
              "    <tr>\n",
              "      <th>2</th>\n",
              "      <td>2</td>\n",
              "      <td>-0.093771</td>\n",
              "      <td>51.468063</td>\n",
              "    </tr>\n",
              "    <tr>\n",
              "      <th>3</th>\n",
              "      <td>3</td>\n",
              "      <td>-0.093771</td>\n",
              "      <td>51.468063</td>\n",
              "    </tr>\n",
              "    <tr>\n",
              "      <th>4</th>\n",
              "      <td>4</td>\n",
              "      <td>-0.484367</td>\n",
              "      <td>51.891807</td>\n",
              "    </tr>\n",
              "    <tr>\n",
              "      <th>...</th>\n",
              "      <td>...</td>\n",
              "      <td>...</td>\n",
              "      <td>...</td>\n",
              "    </tr>\n",
              "    <tr>\n",
              "      <th>1595</th>\n",
              "      <td>1595</td>\n",
              "      <td>-4.865818</td>\n",
              "      <td>50.515949</td>\n",
              "    </tr>\n",
              "    <tr>\n",
              "      <th>1596</th>\n",
              "      <td>1596</td>\n",
              "      <td>-0.205835</td>\n",
              "      <td>51.433441</td>\n",
              "    </tr>\n",
              "    <tr>\n",
              "      <th>1597</th>\n",
              "      <td>1597</td>\n",
              "      <td>-0.173830</td>\n",
              "      <td>51.514861</td>\n",
              "    </tr>\n",
              "    <tr>\n",
              "      <th>1598</th>\n",
              "      <td>1598</td>\n",
              "      <td>-1.879170</td>\n",
              "      <td>50.716914</td>\n",
              "    </tr>\n",
              "    <tr>\n",
              "      <th>1599</th>\n",
              "      <td>1599</td>\n",
              "      <td>-3.084182</td>\n",
              "      <td>50.990497</td>\n",
              "    </tr>\n",
              "  </tbody>\n",
              "</table>\n",
              "<p>1600 rows × 3 columns</p>\n",
              "</div>"
            ],
            "text/plain": [
              "      index  site_lon   site_lat\n",
              "0         0 -0.471211  52.128622\n",
              "1         1 -0.474637  51.894793\n",
              "2         2 -0.093771  51.468063\n",
              "3         3 -0.093771  51.468063\n",
              "4         4 -0.484367  51.891807\n",
              "...     ...       ...        ...\n",
              "1595   1595 -4.865818  50.515949\n",
              "1596   1596 -0.205835  51.433441\n",
              "1597   1597 -0.173830  51.514861\n",
              "1598   1598 -1.879170  50.716914\n",
              "1599   1599 -3.084182  50.990497\n",
              "\n",
              "[1600 rows x 3 columns]"
            ]
          },
          "metadata": {
            "tags": []
          },
          "execution_count": 7
        }
      ]
    },
    {
      "cell_type": "code",
      "metadata": {
        "colab": {
          "base_uri": "https://localhost:8080/",
          "height": 416
        },
        "id": "kmguTw4S29fd",
        "outputId": "f07dd913-49f0-490f-a860-f059c19abedc"
      },
      "source": [
        "site"
      ],
      "execution_count": 8,
      "outputs": [
        {
          "output_type": "execute_result",
          "data": {
            "text/html": [
              "<div>\n",
              "<style scoped>\n",
              "    .dataframe tbody tr th:only-of-type {\n",
              "        vertical-align: middle;\n",
              "    }\n",
              "\n",
              "    .dataframe tbody tr th {\n",
              "        vertical-align: top;\n",
              "    }\n",
              "\n",
              "    .dataframe thead th {\n",
              "        text-align: right;\n",
              "    }\n",
              "</style>\n",
              "<table border=\"1\" class=\"dataframe\">\n",
              "  <thead>\n",
              "    <tr style=\"text-align: right;\">\n",
              "      <th></th>\n",
              "      <th>index</th>\n",
              "      <th>supply_value</th>\n",
              "      <th>geometry</th>\n",
              "      <th>site_lon</th>\n",
              "      <th>site_lat</th>\n",
              "    </tr>\n",
              "  </thead>\n",
              "  <tbody>\n",
              "    <tr>\n",
              "      <th>0</th>\n",
              "      <td>0</td>\n",
              "      <td>1</td>\n",
              "      <td>POINT (-0.47121 52.12862)</td>\n",
              "      <td>-0.471211</td>\n",
              "      <td>52.128622</td>\n",
              "    </tr>\n",
              "    <tr>\n",
              "      <th>1</th>\n",
              "      <td>1</td>\n",
              "      <td>1</td>\n",
              "      <td>POINT (-0.47464 51.89479)</td>\n",
              "      <td>-0.474637</td>\n",
              "      <td>51.894793</td>\n",
              "    </tr>\n",
              "    <tr>\n",
              "      <th>2</th>\n",
              "      <td>2</td>\n",
              "      <td>1</td>\n",
              "      <td>POINT (-0.09377 51.46806)</td>\n",
              "      <td>-0.093771</td>\n",
              "      <td>51.468063</td>\n",
              "    </tr>\n",
              "    <tr>\n",
              "      <th>3</th>\n",
              "      <td>3</td>\n",
              "      <td>1</td>\n",
              "      <td>POINT (-0.09377 51.46806)</td>\n",
              "      <td>-0.093771</td>\n",
              "      <td>51.468063</td>\n",
              "    </tr>\n",
              "    <tr>\n",
              "      <th>4</th>\n",
              "      <td>4</td>\n",
              "      <td>1</td>\n",
              "      <td>POINT (-0.48437 51.89181)</td>\n",
              "      <td>-0.484367</td>\n",
              "      <td>51.891807</td>\n",
              "    </tr>\n",
              "    <tr>\n",
              "      <th>...</th>\n",
              "      <td>...</td>\n",
              "      <td>...</td>\n",
              "      <td>...</td>\n",
              "      <td>...</td>\n",
              "      <td>...</td>\n",
              "    </tr>\n",
              "    <tr>\n",
              "      <th>1595</th>\n",
              "      <td>1595</td>\n",
              "      <td>1</td>\n",
              "      <td>POINT (-4.86582 50.51595)</td>\n",
              "      <td>-4.865818</td>\n",
              "      <td>50.515949</td>\n",
              "    </tr>\n",
              "    <tr>\n",
              "      <th>1596</th>\n",
              "      <td>1596</td>\n",
              "      <td>1</td>\n",
              "      <td>POINT (-0.20584 51.43344)</td>\n",
              "      <td>-0.205835</td>\n",
              "      <td>51.433441</td>\n",
              "    </tr>\n",
              "    <tr>\n",
              "      <th>1597</th>\n",
              "      <td>1597</td>\n",
              "      <td>1</td>\n",
              "      <td>POINT (-0.17383 51.51486)</td>\n",
              "      <td>-0.173830</td>\n",
              "      <td>51.514861</td>\n",
              "    </tr>\n",
              "    <tr>\n",
              "      <th>1598</th>\n",
              "      <td>1598</td>\n",
              "      <td>1</td>\n",
              "      <td>POINT (-1.87917 50.71691)</td>\n",
              "      <td>-1.879170</td>\n",
              "      <td>50.716914</td>\n",
              "    </tr>\n",
              "    <tr>\n",
              "      <th>1599</th>\n",
              "      <td>1599</td>\n",
              "      <td>1</td>\n",
              "      <td>POINT (-3.08418 50.99050)</td>\n",
              "      <td>-3.084182</td>\n",
              "      <td>50.990497</td>\n",
              "    </tr>\n",
              "  </tbody>\n",
              "</table>\n",
              "<p>1600 rows × 5 columns</p>\n",
              "</div>"
            ],
            "text/plain": [
              "      index  supply_value                   geometry  site_lon   site_lat\n",
              "0         0             1  POINT (-0.47121 52.12862) -0.471211  52.128622\n",
              "1         1             1  POINT (-0.47464 51.89479) -0.474637  51.894793\n",
              "2         2             1  POINT (-0.09377 51.46806) -0.093771  51.468063\n",
              "3         3             1  POINT (-0.09377 51.46806) -0.093771  51.468063\n",
              "4         4             1  POINT (-0.48437 51.89181) -0.484367  51.891807\n",
              "...     ...           ...                        ...       ...        ...\n",
              "1595   1595             1  POINT (-4.86582 50.51595) -4.865818  50.515949\n",
              "1596   1596             1  POINT (-0.20584 51.43344) -0.205835  51.433441\n",
              "1597   1597             1  POINT (-0.17383 51.51486) -0.173830  51.514861\n",
              "1598   1598             1  POINT (-1.87917 50.71691) -1.879170  50.716914\n",
              "1599   1599             1  POINT (-3.08418 50.99050) -3.084182  50.990497\n",
              "\n",
              "[1600 rows x 5 columns]"
            ]
          },
          "metadata": {
            "tags": []
          },
          "execution_count": 8
        }
      ]
    },
    {
      "cell_type": "markdown",
      "metadata": {
        "id": "XZ32vaO029fe"
      },
      "source": [
        "# Calculate the Euclidean distance from demand to supply locations \n",
        "## --threshold: 10 miles (16093.44 meters)--"
      ]
    },
    {
      "cell_type": "code",
      "metadata": {
        "id": "QHvxmkl929fe"
      },
      "source": [
        "# Load each of the example datasets which correspond to the demand (population) and supply ('hospital','pcn','pharmacy','vc') respectively.\n",
        "distance = Access(demand_df = MSOA_points,\n",
        "           demand_index='msoa11cd',\n",
        "           demand_value='total_pop',\n",
        "           supply_df= site,\n",
        "           supply_index= 'index',\n",
        "           supply_value=['supply_value']\n",
        "                 )\n",
        "# reproject\n",
        "distance.demand_df = distance.demand_df.to_crs('epsg:27700')\n",
        "distance.supply_df = distance.supply_df.to_crs('epsg:27700')"
      ],
      "execution_count": 9,
      "outputs": []
    },
    {
      "cell_type": "code",
      "metadata": {
        "colab": {
          "base_uri": "https://localhost:8080/",
          "height": 416
        },
        "id": "jUnEi4Q729ff",
        "outputId": "7d242f58-240c-427e-c0c9-445102ee77f6"
      },
      "source": [
        "##### Take 48280.32 meters (30 miles) as the calculation threshold\n",
        "distance.create_euclidean_distance(threshold = 16093.44)\n",
        "distance.cost_df"
      ],
      "execution_count": 10,
      "outputs": [
        {
          "output_type": "execute_result",
          "data": {
            "text/html": [
              "<div>\n",
              "<style scoped>\n",
              "    .dataframe tbody tr th:only-of-type {\n",
              "        vertical-align: middle;\n",
              "    }\n",
              "\n",
              "    .dataframe tbody tr th {\n",
              "        vertical-align: top;\n",
              "    }\n",
              "\n",
              "    .dataframe thead th {\n",
              "        text-align: right;\n",
              "    }\n",
              "</style>\n",
              "<table border=\"1\" class=\"dataframe\">\n",
              "  <thead>\n",
              "    <tr style=\"text-align: right;\">\n",
              "      <th></th>\n",
              "      <th>euclidean</th>\n",
              "      <th>origin</th>\n",
              "      <th>dest</th>\n",
              "    </tr>\n",
              "  </thead>\n",
              "  <tbody>\n",
              "    <tr>\n",
              "      <th>0</th>\n",
              "      <td>4573.215379</td>\n",
              "      <td>E02002536</td>\n",
              "      <td>122</td>\n",
              "    </tr>\n",
              "    <tr>\n",
              "      <th>1</th>\n",
              "      <td>8449.406849</td>\n",
              "      <td>E02002536</td>\n",
              "      <td>127</td>\n",
              "    </tr>\n",
              "    <tr>\n",
              "      <th>2</th>\n",
              "      <td>8217.024557</td>\n",
              "      <td>E02002536</td>\n",
              "      <td>137</td>\n",
              "    </tr>\n",
              "    <tr>\n",
              "      <th>3</th>\n",
              "      <td>9944.296655</td>\n",
              "      <td>E02002536</td>\n",
              "      <td>836</td>\n",
              "    </tr>\n",
              "    <tr>\n",
              "      <th>4</th>\n",
              "      <td>6707.554555</td>\n",
              "      <td>E02002536</td>\n",
              "      <td>838</td>\n",
              "    </tr>\n",
              "    <tr>\n",
              "      <th>...</th>\n",
              "      <td>...</td>\n",
              "      <td>...</td>\n",
              "      <td>...</td>\n",
              "    </tr>\n",
              "    <tr>\n",
              "      <th>555153</th>\n",
              "      <td>12599.536095</td>\n",
              "      <td>E02003088</td>\n",
              "      <td>1204</td>\n",
              "    </tr>\n",
              "    <tr>\n",
              "      <th>555154</th>\n",
              "      <td>5650.422116</td>\n",
              "      <td>E02006070</td>\n",
              "      <td>1278</td>\n",
              "    </tr>\n",
              "    <tr>\n",
              "      <th>555155</th>\n",
              "      <td>14527.210489</td>\n",
              "      <td>E02006679</td>\n",
              "      <td>1176</td>\n",
              "    </tr>\n",
              "    <tr>\n",
              "      <th>555156</th>\n",
              "      <td>9895.393238</td>\n",
              "      <td>E02006679</td>\n",
              "      <td>1177</td>\n",
              "    </tr>\n",
              "    <tr>\n",
              "      <th>555157</th>\n",
              "      <td>13380.739531</td>\n",
              "      <td>E02006679</td>\n",
              "      <td>1183</td>\n",
              "    </tr>\n",
              "  </tbody>\n",
              "</table>\n",
              "<p>555158 rows × 3 columns</p>\n",
              "</div>"
            ],
            "text/plain": [
              "           euclidean     origin  dest\n",
              "0        4573.215379  E02002536   122\n",
              "1        8449.406849  E02002536   127\n",
              "2        8217.024557  E02002536   137\n",
              "3        9944.296655  E02002536   836\n",
              "4        6707.554555  E02002536   838\n",
              "...              ...        ...   ...\n",
              "555153  12599.536095  E02003088  1204\n",
              "555154   5650.422116  E02006070  1278\n",
              "555155  14527.210489  E02006679  1176\n",
              "555156   9895.393238  E02006679  1177\n",
              "555157  13380.739531  E02006679  1183\n",
              "\n",
              "[555158 rows x 3 columns]"
            ]
          },
          "metadata": {
            "tags": []
          },
          "execution_count": 10
        }
      ]
    },
    {
      "cell_type": "code",
      "metadata": {
        "id": "d12MiNir29fg"
      },
      "source": [
        "euclidean_distance_matrix = distance.cost_df"
      ],
      "execution_count": 11,
      "outputs": []
    },
    {
      "cell_type": "code",
      "metadata": {
        "id": "8AsuiMJG29fh"
      },
      "source": [
        "euclidean_distance_matrix = pd.merge(left = euclidean_distance_matrix, \n",
        "                                     right = site_df, \n",
        "                                     how = 'left', \n",
        "                                     left_on = 'dest', \n",
        "                                     right_on = 'index')\n",
        "\n",
        "euclidean_distance_matrix = pd.merge(left = euclidean_distance_matrix, \n",
        "                                     right = MSOA_points_df, \n",
        "                                     how = 'left', \n",
        "                                     left_on = 'origin', \n",
        "                                     right_on = 'msoa11cd')"
      ],
      "execution_count": null,
      "outputs": []
    },
    {
      "cell_type": "code",
      "metadata": {
        "colab": {
          "base_uri": "https://localhost:8080/",
          "height": 402
        },
        "id": "4_AdbDzP29fh",
        "outputId": "ddf73209-c5fe-4985-efb7-7e4b46c7b8a8"
      },
      "source": [
        "euclidean_distance_matrix.drop(columns=['msoa11cd','index','total_pop'], axis=1,inplace=True)\n",
        "euclidean_distance_matrix"
      ],
      "execution_count": null,
      "outputs": [
        {
          "output_type": "execute_result",
          "data": {
            "text/html": [
              "<div>\n",
              "<style scoped>\n",
              "    .dataframe tbody tr th:only-of-type {\n",
              "        vertical-align: middle;\n",
              "    }\n",
              "\n",
              "    .dataframe tbody tr th {\n",
              "        vertical-align: top;\n",
              "    }\n",
              "\n",
              "    .dataframe thead th {\n",
              "        text-align: right;\n",
              "    }\n",
              "</style>\n",
              "<table border=\"1\" class=\"dataframe\">\n",
              "  <thead>\n",
              "    <tr style=\"text-align: right;\">\n",
              "      <th></th>\n",
              "      <th>euclidean</th>\n",
              "      <th>origin</th>\n",
              "      <th>dest</th>\n",
              "      <th>site_lon</th>\n",
              "      <th>site_lat</th>\n",
              "      <th>MSOA_lon</th>\n",
              "      <th>MSOA_lat</th>\n",
              "    </tr>\n",
              "  </thead>\n",
              "  <tbody>\n",
              "    <tr>\n",
              "      <th>0</th>\n",
              "      <td>4573.215379</td>\n",
              "      <td>E02002536</td>\n",
              "      <td>122</td>\n",
              "      <td>-1.347271</td>\n",
              "      <td>54.582497</td>\n",
              "      <td>-1.295773</td>\n",
              "      <td>54.610691</td>\n",
              "    </tr>\n",
              "    <tr>\n",
              "      <th>1</th>\n",
              "      <td>8449.406849</td>\n",
              "      <td>E02002536</td>\n",
              "      <td>127</td>\n",
              "      <td>-1.214583</td>\n",
              "      <td>54.551181</td>\n",
              "      <td>-1.295773</td>\n",
              "      <td>54.610691</td>\n",
              "    </tr>\n",
              "    <tr>\n",
              "      <th>2</th>\n",
              "      <td>8217.024557</td>\n",
              "      <td>E02002536</td>\n",
              "      <td>137</td>\n",
              "      <td>-1.217247</td>\n",
              "      <td>54.552620</td>\n",
              "      <td>-1.295773</td>\n",
              "      <td>54.610691</td>\n",
              "    </tr>\n",
              "    <tr>\n",
              "      <th>3</th>\n",
              "      <td>9944.296655</td>\n",
              "      <td>E02002536</td>\n",
              "      <td>836</td>\n",
              "      <td>-1.213812</td>\n",
              "      <td>54.686367</td>\n",
              "      <td>-1.295773</td>\n",
              "      <td>54.610691</td>\n",
              "    </tr>\n",
              "    <tr>\n",
              "      <th>4</th>\n",
              "      <td>6707.554555</td>\n",
              "      <td>E02002536</td>\n",
              "      <td>838</td>\n",
              "      <td>-1.216531</td>\n",
              "      <td>54.571757</td>\n",
              "      <td>-1.295773</td>\n",
              "      <td>54.610691</td>\n",
              "    </tr>\n",
              "    <tr>\n",
              "      <th>...</th>\n",
              "      <td>...</td>\n",
              "      <td>...</td>\n",
              "      <td>...</td>\n",
              "      <td>...</td>\n",
              "      <td>...</td>\n",
              "      <td>...</td>\n",
              "      <td>...</td>\n",
              "    </tr>\n",
              "    <tr>\n",
              "      <th>555153</th>\n",
              "      <td>12599.536095</td>\n",
              "      <td>E02003088</td>\n",
              "      <td>1204</td>\n",
              "      <td>-2.754862</td>\n",
              "      <td>51.433531</td>\n",
              "      <td>-2.815479</td>\n",
              "      <td>51.326784</td>\n",
              "    </tr>\n",
              "    <tr>\n",
              "      <th>555154</th>\n",
              "      <td>5650.422116</td>\n",
              "      <td>E02006070</td>\n",
              "      <td>1278</td>\n",
              "      <td>-3.015693</td>\n",
              "      <td>51.082446</td>\n",
              "      <td>-2.977239</td>\n",
              "      <td>51.127113</td>\n",
              "    </tr>\n",
              "    <tr>\n",
              "      <th>555155</th>\n",
              "      <td>14527.210489</td>\n",
              "      <td>E02006679</td>\n",
              "      <td>1176</td>\n",
              "      <td>-2.345549</td>\n",
              "      <td>51.360932</td>\n",
              "      <td>-2.136956</td>\n",
              "      <td>51.364067</td>\n",
              "    </tr>\n",
              "    <tr>\n",
              "      <th>555156</th>\n",
              "      <td>9895.393238</td>\n",
              "      <td>E02006679</td>\n",
              "      <td>1177</td>\n",
              "      <td>-1.996076</td>\n",
              "      <td>51.352366</td>\n",
              "      <td>-2.136956</td>\n",
              "      <td>51.364067</td>\n",
              "    </tr>\n",
              "    <tr>\n",
              "      <th>555157</th>\n",
              "      <td>13380.739531</td>\n",
              "      <td>E02006679</td>\n",
              "      <td>1183</td>\n",
              "      <td>-2.317129</td>\n",
              "      <td>51.406087</td>\n",
              "      <td>-2.136956</td>\n",
              "      <td>51.364067</td>\n",
              "    </tr>\n",
              "  </tbody>\n",
              "</table>\n",
              "<p>555158 rows × 7 columns</p>\n",
              "</div>"
            ],
            "text/plain": [
              "           euclidean     origin  dest  site_lon   site_lat  MSOA_lon   MSOA_lat\n",
              "0        4573.215379  E02002536   122 -1.347271  54.582497 -1.295773  54.610691\n",
              "1        8449.406849  E02002536   127 -1.214583  54.551181 -1.295773  54.610691\n",
              "2        8217.024557  E02002536   137 -1.217247  54.552620 -1.295773  54.610691\n",
              "3        9944.296655  E02002536   836 -1.213812  54.686367 -1.295773  54.610691\n",
              "4        6707.554555  E02002536   838 -1.216531  54.571757 -1.295773  54.610691\n",
              "...              ...        ...   ...       ...        ...       ...        ...\n",
              "555153  12599.536095  E02003088  1204 -2.754862  51.433531 -2.815479  51.326784\n",
              "555154   5650.422116  E02006070  1278 -3.015693  51.082446 -2.977239  51.127113\n",
              "555155  14527.210489  E02006679  1176 -2.345549  51.360932 -2.136956  51.364067\n",
              "555156   9895.393238  E02006679  1177 -1.996076  51.352366 -2.136956  51.364067\n",
              "555157  13380.739531  E02006679  1183 -2.317129  51.406087 -2.136956  51.364067\n",
              "\n",
              "[555158 rows x 7 columns]"
            ]
          },
          "metadata": {
            "tags": []
          },
          "execution_count": 13
        }
      ]
    },
    {
      "cell_type": "code",
      "metadata": {
        "id": "4WRStLzl29fh"
      },
      "source": [
        "euclidean_distance_matrix.to_csv('euclidean_distance_30mile.csv',index=False)"
      ],
      "execution_count": null,
      "outputs": []
    },
    {
      "cell_type": "code",
      "metadata": {
        "colab": {
          "base_uri": "https://localhost:8080/"
        },
        "id": "Y009dQps29fi",
        "outputId": "a748b986-9353-4e30-d1b6-edcd6b6b6ca3"
      },
      "source": [
        "euclidean_distance_matrix.shape"
      ],
      "execution_count": null,
      "outputs": [
        {
          "output_type": "execute_result",
          "data": {
            "text/plain": [
              "(555158, 7)"
            ]
          },
          "metadata": {
            "tags": []
          },
          "execution_count": 14
        }
      ]
    },
    {
      "cell_type": "code",
      "metadata": {
        "id": "YH7pcfgr29fi"
      },
      "source": [
        "euclidean_distance_matrix_sub01=euclidean_distance_matrix[0:100000]\n",
        "euclidean_distance_matrix_sub02=euclidean_distance_matrix[100000:200000]\n",
        "euclidean_distance_matrix_sub03=euclidean_distance_matrix[200000:300000]\n",
        "euclidean_distance_matrix_sub04=euclidean_distance_matrix[300000:400000]\n",
        "euclidean_distance_matrix_sub05=euclidean_distance_matrix[400000:500000]\n",
        "euclidean_distance_matrix_sub06=euclidean_distance_matrix[500000:555158]"
      ],
      "execution_count": null,
      "outputs": []
    },
    {
      "cell_type": "code",
      "metadata": {
        "colab": {
          "base_uri": "https://localhost:8080/",
          "height": 402
        },
        "id": "wIVlVeIo29fj",
        "outputId": "9af28686-eca7-4ec8-d649-9c02a8efac22"
      },
      "source": [
        "euclidean_distance_matrix_sub01"
      ],
      "execution_count": null,
      "outputs": [
        {
          "output_type": "execute_result",
          "data": {
            "text/html": [
              "<div>\n",
              "<style scoped>\n",
              "    .dataframe tbody tr th:only-of-type {\n",
              "        vertical-align: middle;\n",
              "    }\n",
              "\n",
              "    .dataframe tbody tr th {\n",
              "        vertical-align: top;\n",
              "    }\n",
              "\n",
              "    .dataframe thead th {\n",
              "        text-align: right;\n",
              "    }\n",
              "</style>\n",
              "<table border=\"1\" class=\"dataframe\">\n",
              "  <thead>\n",
              "    <tr style=\"text-align: right;\">\n",
              "      <th></th>\n",
              "      <th>euclidean</th>\n",
              "      <th>origin</th>\n",
              "      <th>dest</th>\n",
              "      <th>site_lon</th>\n",
              "      <th>site_lat</th>\n",
              "      <th>MSOA_lon</th>\n",
              "      <th>MSOA_lat</th>\n",
              "    </tr>\n",
              "  </thead>\n",
              "  <tbody>\n",
              "    <tr>\n",
              "      <th>450000</th>\n",
              "      <td>3396.823841</td>\n",
              "      <td>E02000680</td>\n",
              "      <td>1335</td>\n",
              "      <td>-0.012818</td>\n",
              "      <td>51.429889</td>\n",
              "      <td>-0.061117</td>\n",
              "      <td>51.434470</td>\n",
              "    </tr>\n",
              "    <tr>\n",
              "      <th>450001</th>\n",
              "      <td>15263.193208</td>\n",
              "      <td>E02000680</td>\n",
              "      <td>1337</td>\n",
              "      <td>-0.166238</td>\n",
              "      <td>51.554972</td>\n",
              "      <td>-0.061117</td>\n",
              "      <td>51.434470</td>\n",
              "    </tr>\n",
              "    <tr>\n",
              "      <th>450002</th>\n",
              "      <td>13846.557898</td>\n",
              "      <td>E02000680</td>\n",
              "      <td>1341</td>\n",
              "      <td>-0.090231</td>\n",
              "      <td>51.557610</td>\n",
              "      <td>-0.061117</td>\n",
              "      <td>51.434470</td>\n",
              "    </tr>\n",
              "    <tr>\n",
              "      <th>450003</th>\n",
              "      <td>4683.922776</td>\n",
              "      <td>E02000680</td>\n",
              "      <td>1343</td>\n",
              "      <td>-0.128472</td>\n",
              "      <td>51.435232</td>\n",
              "      <td>-0.061117</td>\n",
              "      <td>51.434470</td>\n",
              "    </tr>\n",
              "    <tr>\n",
              "      <th>450004</th>\n",
              "      <td>11551.854101</td>\n",
              "      <td>E02000680</td>\n",
              "      <td>1349</td>\n",
              "      <td>0.104420</td>\n",
              "      <td>51.425747</td>\n",
              "      <td>-0.061117</td>\n",
              "      <td>51.434470</td>\n",
              "    </tr>\n",
              "    <tr>\n",
              "      <th>...</th>\n",
              "      <td>...</td>\n",
              "      <td>...</td>\n",
              "      <td>...</td>\n",
              "      <td>...</td>\n",
              "      <td>...</td>\n",
              "      <td>...</td>\n",
              "      <td>...</td>\n",
              "    </tr>\n",
              "    <tr>\n",
              "      <th>459995</th>\n",
              "      <td>7108.454715</td>\n",
              "      <td>E02000837</td>\n",
              "      <td>1084</td>\n",
              "      <td>-0.184737</td>\n",
              "      <td>51.480499</td>\n",
              "      <td>-0.092419</td>\n",
              "      <td>51.452955</td>\n",
              "    </tr>\n",
              "    <tr>\n",
              "      <th>459996</th>\n",
              "      <td>6602.181578</td>\n",
              "      <td>E02000837</td>\n",
              "      <td>1092</td>\n",
              "      <td>-0.134709</td>\n",
              "      <td>51.506108</td>\n",
              "      <td>-0.092419</td>\n",
              "      <td>51.452955</td>\n",
              "    </tr>\n",
              "    <tr>\n",
              "      <th>459997</th>\n",
              "      <td>9986.345486</td>\n",
              "      <td>E02000837</td>\n",
              "      <td>1098</td>\n",
              "      <td>0.025701</td>\n",
              "      <td>51.504128</td>\n",
              "      <td>-0.092419</td>\n",
              "      <td>51.452955</td>\n",
              "    </tr>\n",
              "    <tr>\n",
              "      <th>459998</th>\n",
              "      <td>8723.749832</td>\n",
              "      <td>E02000837</td>\n",
              "      <td>1101</td>\n",
              "      <td>-0.207806</td>\n",
              "      <td>51.422142</td>\n",
              "      <td>-0.092419</td>\n",
              "      <td>51.452955</td>\n",
              "    </tr>\n",
              "    <tr>\n",
              "      <th>459999</th>\n",
              "      <td>9192.335558</td>\n",
              "      <td>E02000837</td>\n",
              "      <td>1105</td>\n",
              "      <td>-0.100410</td>\n",
              "      <td>51.535439</td>\n",
              "      <td>-0.092419</td>\n",
              "      <td>51.452955</td>\n",
              "    </tr>\n",
              "  </tbody>\n",
              "</table>\n",
              "<p>10000 rows × 7 columns</p>\n",
              "</div>"
            ],
            "text/plain": [
              "           euclidean     origin  dest  site_lon   site_lat  MSOA_lon   MSOA_lat\n",
              "450000   3396.823841  E02000680  1335 -0.012818  51.429889 -0.061117  51.434470\n",
              "450001  15263.193208  E02000680  1337 -0.166238  51.554972 -0.061117  51.434470\n",
              "450002  13846.557898  E02000680  1341 -0.090231  51.557610 -0.061117  51.434470\n",
              "450003   4683.922776  E02000680  1343 -0.128472  51.435232 -0.061117  51.434470\n",
              "450004  11551.854101  E02000680  1349  0.104420  51.425747 -0.061117  51.434470\n",
              "...              ...        ...   ...       ...        ...       ...        ...\n",
              "459995   7108.454715  E02000837  1084 -0.184737  51.480499 -0.092419  51.452955\n",
              "459996   6602.181578  E02000837  1092 -0.134709  51.506108 -0.092419  51.452955\n",
              "459997   9986.345486  E02000837  1098  0.025701  51.504128 -0.092419  51.452955\n",
              "459998   8723.749832  E02000837  1101 -0.207806  51.422142 -0.092419  51.452955\n",
              "459999   9192.335558  E02000837  1105 -0.100410  51.535439 -0.092419  51.452955\n",
              "\n",
              "[10000 rows x 7 columns]"
            ]
          },
          "metadata": {
            "tags": []
          },
          "execution_count": 16
        }
      ]
    },
    {
      "cell_type": "code",
      "metadata": {
        "id": "o_5C1cMv29fj"
      },
      "source": [
        "distance_list = []\n",
        "origin_id_list = []\n",
        "destination_id_list = []\n",
        "\n",
        "for (i1, row1) in euclidean_distance_matrix_sub01.iterrows():\n",
        "    LatOrigin = str(row1['MSOA_lat'])\n",
        "    LongOrigin = str(row1['MSOA_lon'])\n",
        "    origin_id = row1['origin']\n",
        "    \n",
        "    LatDestination = str(row1['site_lat'])\n",
        "    LongDestination = str(row1['site_lon'])\n",
        "    destination_id = row1['dest']\n",
        "    \n",
        "    url = \"http://82.11.51.26:5000/route/v1/driving/\" + LongOrigin +\",\"+ LatOrigin + \";\" + LongDestination +\",\"+ LatDestination + \"?steps=false\"\n",
        "    result_distance = requests.get(url).json()['routes'][0]['distance']\n",
        "    distance_list.append(result_distance)\n",
        "    origin_id_list.append(origin_id)\n",
        "    destination_id_list.append(destination_id)\n",
        "\n",
        "output01 = pd.DataFrame(distance_list, columns = ['Distance in meter'])\n",
        "output01['origin_id'] = origin_id_list\n",
        "output01['destination_id'] = destination_id_list\n",
        "output01"
      ],
      "execution_count": null,
      "outputs": []
    },
    {
      "cell_type": "code",
      "metadata": {
        "id": "fo2Tpmrk29fk",
        "outputId": "ddfd92cd-d845-4cd7-c957-3460b0062da0"
      },
      "source": [
        "if len(output01[output01['Distance in meter'].isnull()==True])==0:\n",
        "    print('There is no empty result.')"
      ],
      "execution_count": null,
      "outputs": [
        {
          "output_type": "stream",
          "text": [
            "There is no empty result.\n"
          ],
          "name": "stdout"
        }
      ]
    },
    {
      "cell_type": "code",
      "metadata": {
        "id": "zzbsJfNq29fk"
      },
      "source": [
        "from google.colab import files"
      ],
      "execution_count": null,
      "outputs": []
    },
    {
      "cell_type": "code",
      "metadata": {
        "id": "tzErWpA829fl"
      },
      "source": [
        "output01.to_csv('distance.csv',index=False)"
      ],
      "execution_count": null,
      "outputs": []
    },
    {
      "cell_type": "code",
      "metadata": {
        "id": "KLwRBz7P29fm"
      },
      "source": [
        "files.download('distance.csv')"
      ],
      "execution_count": null,
      "outputs": []
    },
    {
      "cell_type": "code",
      "metadata": {
        "id": "lVtRhDP029f1"
      },
      "source": [
        "# These are data generated by Google_distance_cost.ipynb\n",
        "distance_matrix0 = pd.read_csv('Distance0_100000.csv')\n",
        "distance_matrix1 = pd.read_csv('Distance100000_200000.csv')\n",
        "distance_matrix2 = pd.read_csv('Distance200000_300000.csv')\n",
        "distance_matrix3 = pd.read_csv('Distance300000_400000.csv')\n",
        "distance_matrix4 = pd.read_csv('Distance400000_1000000.csv')\n",
        "distance_matrix5 = pd.read_csv('Distance1000000_1674423.csv')"
      ],
      "execution_count": null,
      "outputs": []
    },
    {
      "cell_type": "markdown",
      "metadata": {
        "id": "gHwrbLnxyPds"
      },
      "source": [
        "#concat"
      ]
    },
    {
      "cell_type": "code",
      "metadata": {
        "id": "33JXN7Dq29f1"
      },
      "source": [
        "distance_matrix = pd.concat([distance_matrix0, distance_matrix1,distance_matrix2,distance_matrix3,distance_matrix4,distance_matrix5], axis=0, ignore_index=True)\n",
        "distance_matrix"
      ],
      "execution_count": null,
      "outputs": []
    },
    {
      "cell_type": "code",
      "metadata": {
        "id": "kYtzup6j29f1"
      },
      "source": [
        "# check the data\n",
        "distance_matrix.isna().sum()"
      ],
      "execution_count": null,
      "outputs": []
    },
    {
      "cell_type": "code",
      "metadata": {
        "id": "lYGASxJk29f1"
      },
      "source": [
        "# check the data\n",
        "distance_matrix[distance_matrix['Distance in meter']==0]"
      ],
      "execution_count": null,
      "outputs": []
    },
    {
      "cell_type": "code",
      "metadata": {
        "id": "OFuG9iGq29f1"
      },
      "source": [
        "distance_matrix.to_csv('distance_cost_final_OSRM.csv',index=False)"
      ],
      "execution_count": null,
      "outputs": []
    }
  ]
}